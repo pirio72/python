{
 "cells": [
  {
   "cell_type": "markdown",
   "id": "5f3eb81a-9ee9-4d9e-b871-fd663970b3ab",
   "metadata": {},
   "source": [
    "# Trees and parks in Chicago"
   ]
  },
  {
   "cell_type": "markdown",
   "id": "41c65c0b-9729-4ac3-9eed-8d4446f6e55b",
   "metadata": {},
   "source": [
    "[David Rodriguez-Mateos](mailto:pirio@bib.uc3m.es)\n",
    "\n",
    "Answer to the __M4: Discussion Forum 2:Challenge yourself to come up with some measurable questions of your own for the trees data. Share your questions and how you answered them with code.__"
   ]
  },
  {
   "cell_type": "markdown",
   "id": "f2797ab7-bc95-4503-a601-9ff309991d22",
   "metadata": {},
   "source": [
    "## Reason:"
   ]
  },
  {
   "cell_type": "markdown",
   "id": "0900c99f-aee2-4d4d-94ba-9a2264b50ca0",
   "metadata": {},
   "source": [
    "Starting from no idea about Chicago, and pretending not to read any other messages on the forum before, I made some initial statements.\n",
    "\n",
    "The original file contains data about planted trees in Chicago.\n",
    "\n",
    "One of the columns is \"ward\". Ward is the name of the administrative location areas in the city.\n",
    "\n",
    "Each row contains the exact location of a set of trees that were planted.\n",
    "\n",
    "Nevertheless, there are some rows that contains references about a set of trees planted in a place. All these rows have an empty value within \"ward\".\n",
    "\n",
    "There is another adjacent column named \"source\". Most of the rows containing an empty value for \"ward\" have a \"parks\" value for \"source\".\n",
    "\n",
    "So, I pretended to answer some of these questions:\n",
    "\n",
    "1. Which parks received a largest amount of planted trees?\n",
    "   \n",
    "- Are there a relevant small set of parks receiving most of the trees? What is the ratio?\n",
    "\n",
    "2. Are most, if not all, this raws related to trees planted in parks? It means:\n",
    "\n",
    "- Is there any official parks list source?\n",
    "   \n",
    "- Can we associate each park with a ward, if possible\n",
    "\n",
    "- Can we compare the tl parks list with the official parks list?\n",
    "\n",
    "   \n",
    "3 . What is the ratio of trees planted in parks, compared to trees planted outside parks?\n",
    "  \n",
    "- Can we recalculate the number of trees within each ward\n",
    "   \n",
    "- Can compare the real number of trees with each ward, and compare the number of trees inside and outside a park.\n",
    "\n",
    "___________________________________________________________"
   ]
  },
  {
   "cell_type": "markdown",
   "id": "dde237f5-b6f5-4347-9021-221847c51405",
   "metadata": {},
   "source": [
    "Let's open the dataset, with a short name, \"tl\".\n",
    "\n",
    "We are going to keep all the empty cells as is, instead of using \"NaN\" as a value."
   ]
  },
  {
   "cell_type": "code",
   "execution_count": 1,
   "id": "8d7e363f-9975-4dde-b3ae-075d4f85affe",
   "metadata": {},
   "outputs": [],
   "source": [
    "import pandas as pd"
   ]
  },
  {
   "cell_type": "code",
   "execution_count": 2,
   "id": "986a3399-2b66-4700-a190-460146dbc1f5",
   "metadata": {},
   "outputs": [],
   "source": [
    "tl = pd.read_csv('https://raw.githubusercontent.com/palewire/chicago-trees-analysis/main/output/trees.csv', keep_default_na=False)"
   ]
  },
  {
   "cell_type": "code",
   "execution_count": 3,
   "id": "5813f6e0-9306-432a-8e0c-8fd8a7d3b3da",
   "metadata": {},
   "outputs": [
    {
     "name": "stdout",
     "output_type": "stream",
     "text": [
      "<class 'pandas.core.frame.DataFrame'>\n",
      "RangeIndex: 33798 entries, 0 to 33797\n",
      "Data columns (total 7 columns):\n",
      " #   Column   Non-Null Count  Dtype \n",
      "---  ------   --------------  ----- \n",
      " 0   id       33798 non-null  object\n",
      " 1   date     33798 non-null  object\n",
      " 2   address  33798 non-null  object\n",
      " 3   ward     33798 non-null  object\n",
      " 4   trees    33798 non-null  int64 \n",
      " 5   source   33798 non-null  object\n",
      " 6   year     33798 non-null  object\n",
      "dtypes: int64(1), object(6)\n",
      "memory usage: 1.8+ MB\n"
     ]
    }
   ],
   "source": [
    "tl.info()"
   ]
  },
  {
   "cell_type": "code",
   "execution_count": 4,
   "id": "6170b925-50a5-4ba6-b2e1-f11aff8b536d",
   "metadata": {},
   "outputs": [
    {
     "data": {
      "text/html": [
       "<div>\n",
       "<style scoped>\n",
       "    .dataframe tbody tr th:only-of-type {\n",
       "        vertical-align: middle;\n",
       "    }\n",
       "\n",
       "    .dataframe tbody tr th {\n",
       "        vertical-align: top;\n",
       "    }\n",
       "\n",
       "    .dataframe thead th {\n",
       "        text-align: right;\n",
       "    }\n",
       "</style>\n",
       "<table border=\"1\" class=\"dataframe\">\n",
       "  <thead>\n",
       "    <tr style=\"text-align: right;\">\n",
       "      <th></th>\n",
       "      <th>id</th>\n",
       "      <th>date</th>\n",
       "      <th>address</th>\n",
       "      <th>ward</th>\n",
       "      <th>trees</th>\n",
       "      <th>source</th>\n",
       "      <th>year</th>\n",
       "    </tr>\n",
       "  </thead>\n",
       "  <tbody>\n",
       "    <tr>\n",
       "      <th>0</th>\n",
       "      <td>201100837</td>\n",
       "      <td>2011-04-14 12:00:00</td>\n",
       "      <td>7777 W IRVING PARK RD</td>\n",
       "      <td>36</td>\n",
       "      <td>2</td>\n",
       "      <td>dss</td>\n",
       "      <td>2011.0</td>\n",
       "    </tr>\n",
       "    <tr>\n",
       "      <th>1</th>\n",
       "      <td>201100839</td>\n",
       "      <td>2011-04-14 12:00:00</td>\n",
       "      <td>5152 S ARTESIAN AVE</td>\n",
       "      <td>14</td>\n",
       "      <td>1</td>\n",
       "      <td>dss</td>\n",
       "      <td>2011.0</td>\n",
       "    </tr>\n",
       "    <tr>\n",
       "      <th>2</th>\n",
       "      <td>201100841</td>\n",
       "      <td>2011-04-14 12:00:00</td>\n",
       "      <td>3520 S ARCHER AVE</td>\n",
       "      <td>12</td>\n",
       "      <td>1</td>\n",
       "      <td>dss</td>\n",
       "      <td>2011.0</td>\n",
       "    </tr>\n",
       "    <tr>\n",
       "      <th>3</th>\n",
       "      <td>201100840</td>\n",
       "      <td>2011-04-14 12:00:00</td>\n",
       "      <td>4118 S MAPLEWOOD AVE</td>\n",
       "      <td>12</td>\n",
       "      <td>1</td>\n",
       "      <td>dss</td>\n",
       "      <td>2011.0</td>\n",
       "    </tr>\n",
       "    <tr>\n",
       "      <th>4</th>\n",
       "      <td>201101968</td>\n",
       "      <td>2011-04-21 12:00:00</td>\n",
       "      <td>3663 S WABASH AVE</td>\n",
       "      <td>3</td>\n",
       "      <td>1</td>\n",
       "      <td>dss</td>\n",
       "      <td>2011.0</td>\n",
       "    </tr>\n",
       "  </tbody>\n",
       "</table>\n",
       "</div>"
      ],
      "text/plain": [
       "          id                 date                address ward  trees source  \\\n",
       "0  201100837  2011-04-14 12:00:00  7777 W IRVING PARK RD   36      2    dss   \n",
       "1  201100839  2011-04-14 12:00:00    5152 S ARTESIAN AVE   14      1    dss   \n",
       "2  201100841  2011-04-14 12:00:00      3520 S ARCHER AVE   12      1    dss   \n",
       "3  201100840  2011-04-14 12:00:00   4118 S MAPLEWOOD AVE   12      1    dss   \n",
       "4  201101968  2011-04-21 12:00:00      3663 S WABASH AVE    3      1    dss   \n",
       "\n",
       "     year  \n",
       "0  2011.0  \n",
       "1  2011.0  \n",
       "2  2011.0  \n",
       "3  2011.0  \n",
       "4  2011.0  "
      ]
     },
     "execution_count": 4,
     "metadata": {},
     "output_type": "execute_result"
    }
   ],
   "source": [
    "tl.head(5)"
   ]
  },
  {
   "cell_type": "markdown",
   "id": "281f31f5-f525-4709-b005-e19c5df8a23d",
   "metadata": {},
   "source": [
    "# Question 1. Parks and trees\n",
    "__Are most, if not all, the raws with `source = 'parks'` related to trees planted in parks?__"
   ]
  },
  {
   "cell_type": "markdown",
   "id": "214bd33a-691f-497e-8e49-28e769fddbf6",
   "metadata": {},
   "source": [
    "## Question 1.1.\n",
    "\n",
    "How many rows includes a __source = 'parks'__?\n",
    "\n",
    "Let's filter when 'source' == 'parks'.\n",
    "Keep it as a dataset call __pat__ (for 'parks and trees')"
   ]
  },
  {
   "cell_type": "code",
   "execution_count": 5,
   "id": "56bb7857-eafb-4d63-a4a0-c476cdd5360f",
   "metadata": {
    "scrolled": true
   },
   "outputs": [],
   "source": [
    "pat = tl[tl['source'] == 'parks']"
   ]
  },
  {
   "cell_type": "markdown",
   "id": "89f924c3-ddba-4dd6-8a53-a32ca251b8b3",
   "metadata": {},
   "source": [
    "How many rows are the 'parks' subset? (total amount and percentage rate over the whole tl set."
   ]
  },
  {
   "cell_type": "code",
   "execution_count": 6,
   "id": "5f19738b-f7d1-420b-84e0-a5c5f9563b7d",
   "metadata": {},
   "outputs": [
    {
     "data": {
      "text/plain": [
       "875"
      ]
     },
     "execution_count": 6,
     "metadata": {},
     "output_type": "execute_result"
    }
   ],
   "source": [
    "len(pat)"
   ]
  },
  {
   "cell_type": "markdown",
   "id": "8321feb1-db6e-4407-a827-24b135ff912f",
   "metadata": {},
   "source": [
    "Only a few! But how many trees were planted there?"
   ]
  },
  {
   "cell_type": "code",
   "execution_count": 7,
   "id": "958c9df1-d558-4f61-a556-b72cd45da895",
   "metadata": {},
   "outputs": [
    {
     "data": {
      "text/plain": [
       "36437"
      ]
     },
     "execution_count": 7,
     "metadata": {},
     "output_type": "execute_result"
    }
   ],
   "source": [
    "pat['trees'].sum()"
   ]
  },
  {
   "cell_type": "markdown",
   "id": "e316ab7f-029b-4447-89b2-50e1cc2c6cee",
   "metadata": {},
   "source": [
    "__Statement__: 36437 trees were planted in parks."
   ]
  },
  {
   "cell_type": "markdown",
   "id": "ca39623e-a49c-4aa8-8ea9-f8b34cefd4ec",
   "metadata": {},
   "source": [
    "And what is the rate of trees within parks over the total number of planted trees in Chicago?"
   ]
  },
  {
   "cell_type": "code",
   "execution_count": 8,
   "id": "77e96740-7294-4e44-8f73-f88a3f089410",
   "metadata": {},
   "outputs": [
    {
     "data": {
      "text/plain": [
       "76940"
      ]
     },
     "execution_count": 8,
     "metadata": {},
     "output_type": "execute_result"
    }
   ],
   "source": [
    "tl['trees'].sum()"
   ]
  },
  {
   "cell_type": "code",
   "execution_count": 9,
   "id": "2b50e3a1-2614-4251-87b5-8783e7614172",
   "metadata": {},
   "outputs": [
    {
     "data": {
      "text/plain": [
       "47.35768131011178"
      ]
     },
     "execution_count": 9,
     "metadata": {},
     "output_type": "execute_result"
    }
   ],
   "source": [
    "pat['trees'].sum() / tl['trees'].sum() * 100"
   ]
  },
  {
   "cell_type": "markdown",
   "id": "dfab4023-b00a-43e2-8c92-05ba0abec37f",
   "metadata": {},
   "source": [
    "__Statement__: almost half (47,35%) of the trees were planted in \"parks\"!!"
   ]
  },
  {
   "cell_type": "markdown",
   "id": "3cb0cbdb-63ee-4365-8539-7e3ebc61d3ed",
   "metadata": {},
   "source": [
    "And how many different \"address\" are related to a \"park\"?\n",
    "\n",
    "- Filter all the rows with __source == parks__\n",
    "- Group by 'address'\n",
    "- Sum the number of trees with a same _park_ address"
   ]
  },
  {
   "cell_type": "code",
   "execution_count": 10,
   "id": "200c9aab-55f1-4ffa-accc-cf8beb6a3d75",
   "metadata": {},
   "outputs": [],
   "source": [
    "parks_and_trees = tl[tl['source'] == 'parks'].groupby('address').sum('trees').reset_index()"
   ]
  },
  {
   "cell_type": "code",
   "execution_count": 11,
   "id": "04e0aace-e66d-4aea-a8cd-d36ac0716d0d",
   "metadata": {},
   "outputs": [],
   "source": [
    "pat = parks_and_trees "
   ]
  },
  {
   "cell_type": "code",
   "execution_count": 12,
   "id": "34977178-c29b-4aae-b3b9-78b3d7977ec6",
   "metadata": {},
   "outputs": [
    {
     "data": {
      "text/plain": [
       "446"
      ]
     },
     "execution_count": 12,
     "metadata": {},
     "output_type": "execute_result"
    }
   ],
   "source": [
    "len(pat)"
   ]
  },
  {
   "cell_type": "markdown",
   "id": "da43c25d-676a-48e7-9b96-eb9d4832adf7",
   "metadata": {},
   "source": [
    "__Statement__: there are 446 'possible' parks."
   ]
  },
  {
   "cell_type": "markdown",
   "id": "2e738468-4209-47dd-933f-5323202b6a37",
   "metadata": {},
   "source": [
    "## Question 1.2.\n",
    "\n",
    "Are there some parks with a higher sum of planted trees? Are they creating a relevant rate?"
   ]
  },
  {
   "cell_type": "markdown",
   "id": "b2cf6071-8309-4cf6-9bf0-b7f860e06361",
   "metadata": {},
   "source": [
    "Order the park by the number of tries, in a descending order (`ascending=False`)"
   ]
  },
  {
   "cell_type": "code",
   "execution_count": 13,
   "id": "285decda-7569-4e30-85bc-7be9b1f169d9",
   "metadata": {},
   "outputs": [],
   "source": [
    "pato = pat.sort_values('trees', ascending=False)"
   ]
  },
  {
   "cell_type": "markdown",
   "id": "09f9f88f-d157-4fa3-bff0-19cbea1211e3",
   "metadata": {},
   "source": [
    "Let's try with a lower number of parks, to see if there is some relevant value."
   ]
  },
  {
   "cell_type": "code",
   "execution_count": 14,
   "id": "75c9c248-b718-4cd7-aa9a-00887d2dd100",
   "metadata": {},
   "outputs": [],
   "source": [
    "patop = pato.head(20)"
   ]
  },
  {
   "cell_type": "code",
   "execution_count": 15,
   "id": "cddcbeac-87ab-485e-abc8-4b25bc6381a8",
   "metadata": {},
   "outputs": [
    {
     "data": {
      "text/plain": [
       "53.297472349534814"
      ]
     },
     "execution_count": 15,
     "metadata": {},
     "output_type": "execute_result"
    }
   ],
   "source": [
    "patop['trees'].sum() / pato['trees'].sum() * 100"
   ]
  },
  {
   "cell_type": "code",
   "execution_count": 16,
   "id": "2834dc6b-40f7-4dae-aed5-eec093b152b5",
   "metadata": {},
   "outputs": [
    {
     "data": {
      "text/plain": [
       "4.484304932735426"
      ]
     },
     "execution_count": 16,
     "metadata": {},
     "output_type": "execute_result"
    }
   ],
   "source": [
    "len(patop) / len(pato) * 100"
   ]
  },
  {
   "cell_type": "markdown",
   "id": "f9f5d5c7-36a8-4305-84ee-99a86aad9403",
   "metadata": {},
   "source": [
    "__Statement__: _More than_ half (50%) of the planted _tries_ in parks are in only 20 parks, around _1/20th_ (4,48%) of the _parks_."
   ]
  },
  {
   "cell_type": "markdown",
   "id": "74a82455-1e7e-4a41-8744-88938d1d93b9",
   "metadata": {},
   "source": [
    "__Question__: which parks received the top 20 most planted sum of trees?\n",
    "\n",
    "Additional tip: we recreate the table index (with __.reset_index()__, which means that the index column is not the \"index\" field anymore, but a new \"index\" column. So, this new column shows the position rank for each park, considering its number of planted trees.\n",
    "\n",
    "Keep in mind that we ordered the table before, from top to bottom.\n"
   ]
  },
  {
   "cell_type": "code",
   "execution_count": 17,
   "id": "68847323-a41f-4fa1-9e40-f3d1fedd30b5",
   "metadata": {},
   "outputs": [
    {
     "data": {
      "text/html": [
       "<div>\n",
       "<style scoped>\n",
       "    .dataframe tbody tr th:only-of-type {\n",
       "        vertical-align: middle;\n",
       "    }\n",
       "\n",
       "    .dataframe tbody tr th {\n",
       "        vertical-align: top;\n",
       "    }\n",
       "\n",
       "    .dataframe thead th {\n",
       "        text-align: right;\n",
       "    }\n",
       "</style>\n",
       "<table border=\"1\" class=\"dataframe\">\n",
       "  <thead>\n",
       "    <tr style=\"text-align: right;\">\n",
       "      <th></th>\n",
       "      <th>index</th>\n",
       "      <th>address</th>\n",
       "      <th>trees</th>\n",
       "    </tr>\n",
       "  </thead>\n",
       "  <tbody>\n",
       "    <tr>\n",
       "      <th>0</th>\n",
       "      <td>234</td>\n",
       "      <td>Lincoln</td>\n",
       "      <td>3508</td>\n",
       "    </tr>\n",
       "    <tr>\n",
       "      <th>1</th>\n",
       "      <td>58</td>\n",
       "      <td>Burnham</td>\n",
       "      <td>1912</td>\n",
       "    </tr>\n",
       "    <tr>\n",
       "      <th>2</th>\n",
       "      <td>130</td>\n",
       "      <td>Garfield</td>\n",
       "      <td>1854</td>\n",
       "    </tr>\n",
       "    <tr>\n",
       "      <th>3</th>\n",
       "      <td>182</td>\n",
       "      <td>Humboldt</td>\n",
       "      <td>1752</td>\n",
       "    </tr>\n",
       "    <tr>\n",
       "      <th>4</th>\n",
       "      <td>144</td>\n",
       "      <td>Grant</td>\n",
       "      <td>1582</td>\n",
       "    </tr>\n",
       "    <tr>\n",
       "      <th>5</th>\n",
       "      <td>418</td>\n",
       "      <td>Washington, George</td>\n",
       "      <td>1294</td>\n",
       "    </tr>\n",
       "    <tr>\n",
       "      <th>6</th>\n",
       "      <td>250</td>\n",
       "      <td>Marquette</td>\n",
       "      <td>1242</td>\n",
       "    </tr>\n",
       "    <tr>\n",
       "      <th>7</th>\n",
       "      <td>101</td>\n",
       "      <td>Douglas</td>\n",
       "      <td>1110</td>\n",
       "    </tr>\n",
       "    <tr>\n",
       "      <th>8</th>\n",
       "      <td>261</td>\n",
       "      <td>McKinley</td>\n",
       "      <td>795</td>\n",
       "    </tr>\n",
       "    <tr>\n",
       "      <th>9</th>\n",
       "      <td>64</td>\n",
       "      <td>Calumet</td>\n",
       "      <td>750</td>\n",
       "    </tr>\n",
       "    <tr>\n",
       "      <th>10</th>\n",
       "      <td>83</td>\n",
       "      <td>Columbus</td>\n",
       "      <td>647</td>\n",
       "    </tr>\n",
       "    <tr>\n",
       "      <th>11</th>\n",
       "      <td>338</td>\n",
       "      <td>Rainbow Beach</td>\n",
       "      <td>505</td>\n",
       "    </tr>\n",
       "    <tr>\n",
       "      <th>12</th>\n",
       "      <td>227</td>\n",
       "      <td>Legion</td>\n",
       "      <td>492</td>\n",
       "    </tr>\n",
       "    <tr>\n",
       "      <th>13</th>\n",
       "      <td>187</td>\n",
       "      <td>Jackson, Andrew</td>\n",
       "      <td>459</td>\n",
       "    </tr>\n",
       "    <tr>\n",
       "      <th>14</th>\n",
       "      <td>343</td>\n",
       "      <td>Riis</td>\n",
       "      <td>324</td>\n",
       "    </tr>\n",
       "    <tr>\n",
       "      <th>15</th>\n",
       "      <td>414</td>\n",
       "      <td>Warren</td>\n",
       "      <td>279</td>\n",
       "    </tr>\n",
       "    <tr>\n",
       "      <th>16</th>\n",
       "      <td>293</td>\n",
       "      <td>Ogden</td>\n",
       "      <td>234</td>\n",
       "    </tr>\n",
       "    <tr>\n",
       "      <th>17</th>\n",
       "      <td>299</td>\n",
       "      <td>Palmer</td>\n",
       "      <td>232</td>\n",
       "    </tr>\n",
       "    <tr>\n",
       "      <th>18</th>\n",
       "      <td>331</td>\n",
       "      <td>Portage</td>\n",
       "      <td>231</td>\n",
       "    </tr>\n",
       "    <tr>\n",
       "      <th>19</th>\n",
       "      <td>354</td>\n",
       "      <td>Rowan</td>\n",
       "      <td>218</td>\n",
       "    </tr>\n",
       "  </tbody>\n",
       "</table>\n",
       "</div>"
      ],
      "text/plain": [
       "    index             address  trees\n",
       "0     234             Lincoln   3508\n",
       "1      58             Burnham   1912\n",
       "2     130            Garfield   1854\n",
       "3     182            Humboldt   1752\n",
       "4     144               Grant   1582\n",
       "5     418  Washington, George   1294\n",
       "6     250           Marquette   1242\n",
       "7     101             Douglas   1110\n",
       "8     261            McKinley    795\n",
       "9      64             Calumet    750\n",
       "10     83            Columbus    647\n",
       "11    338       Rainbow Beach    505\n",
       "12    227              Legion    492\n",
       "13    187     Jackson, Andrew    459\n",
       "14    343                Riis    324\n",
       "15    414              Warren    279\n",
       "16    293               Ogden    234\n",
       "17    299              Palmer    232\n",
       "18    331             Portage    231\n",
       "19    354               Rowan    218"
      ]
     },
     "execution_count": 17,
     "metadata": {},
     "output_type": "execute_result"
    }
   ],
   "source": [
    "patop.reset_index()"
   ]
  },
  {
   "cell_type": "markdown",
   "id": "8c75f482-7029-49dd-83b5-8d8704758dd1",
   "metadata": {},
   "source": [
    "__Statement__: 20 parks received more than half of the planted trees.\n",
    "\n",
    "__Question__: might there be some parks that have hardly planted trees? How these trees were distributed?"
   ]
  },
  {
   "cell_type": "markdown",
   "id": "e70eb16c-40bb-468b-a8b3-b1253a5fbc84",
   "metadata": {},
   "source": [
    "To have a quick look about how planted trees are distributed into parks:\n",
    "\n",
    "- we can use the function .describe, which offers some basic descriptive statistics.\n",
    "- and we add a function .round() to shorten the number of decimals, so that results were more readable (mostly for not used readers)."
   ]
  },
  {
   "cell_type": "code",
   "execution_count": 18,
   "id": "932ff56b-252f-4888-bce0-cdb4713c6eee",
   "metadata": {},
   "outputs": [
    {
     "data": {
      "text/html": [
       "<div>\n",
       "<style scoped>\n",
       "    .dataframe tbody tr th:only-of-type {\n",
       "        vertical-align: middle;\n",
       "    }\n",
       "\n",
       "    .dataframe tbody tr th {\n",
       "        vertical-align: top;\n",
       "    }\n",
       "\n",
       "    .dataframe thead th {\n",
       "        text-align: right;\n",
       "    }\n",
       "</style>\n",
       "<table border=\"1\" class=\"dataframe\">\n",
       "  <thead>\n",
       "    <tr style=\"text-align: right;\">\n",
       "      <th></th>\n",
       "      <th>trees</th>\n",
       "    </tr>\n",
       "  </thead>\n",
       "  <tbody>\n",
       "    <tr>\n",
       "      <th>count</th>\n",
       "      <td>446.0</td>\n",
       "    </tr>\n",
       "    <tr>\n",
       "      <th>mean</th>\n",
       "      <td>81.7</td>\n",
       "    </tr>\n",
       "    <tr>\n",
       "      <th>std</th>\n",
       "      <td>262.6</td>\n",
       "    </tr>\n",
       "    <tr>\n",
       "      <th>min</th>\n",
       "      <td>1.0</td>\n",
       "    </tr>\n",
       "    <tr>\n",
       "      <th>25%</th>\n",
       "      <td>9.0</td>\n",
       "    </tr>\n",
       "    <tr>\n",
       "      <th>50%</th>\n",
       "      <td>24.5</td>\n",
       "    </tr>\n",
       "    <tr>\n",
       "      <th>75%</th>\n",
       "      <td>59.0</td>\n",
       "    </tr>\n",
       "    <tr>\n",
       "      <th>max</th>\n",
       "      <td>3508.0</td>\n",
       "    </tr>\n",
       "  </tbody>\n",
       "</table>\n",
       "</div>"
      ],
      "text/plain": [
       "        trees\n",
       "count   446.0\n",
       "mean     81.7\n",
       "std     262.6\n",
       "min       1.0\n",
       "25%       9.0\n",
       "50%      24.5\n",
       "75%      59.0\n",
       "max    3508.0"
      ]
     },
     "execution_count": 18,
     "metadata": {},
     "output_type": "execute_result"
    }
   ],
   "source": [
    "pato.describe().round(1)"
   ]
  },
  {
   "cell_type": "markdown",
   "id": "64445eb7-f807-4594-98df-515c908b2caf",
   "metadata": {},
   "source": [
    "From a quick review:\n",
    "\n",
    "- The maximum number of trees planted in a park is 3508.0 (Lincoln).\n",
    "- But there are some parks with only 1 planted tree! So:"
   ]
  },
  {
   "cell_type": "code",
   "execution_count": 19,
   "id": "5b6ceb5a-574a-409f-bdb4-511b243e77d1",
   "metadata": {},
   "outputs": [],
   "source": [
    "singletree = pato[pato['trees'] == 1 ]"
   ]
  },
  {
   "cell_type": "code",
   "execution_count": 20,
   "id": "842af54c-12f4-45f5-b4e0-51d22749ddee",
   "metadata": {},
   "outputs": [
    {
     "data": {
      "text/plain": [
       "20"
      ]
     },
     "execution_count": 20,
     "metadata": {},
     "output_type": "execute_result"
    }
   ],
   "source": [
    "len(singletree)"
   ]
  },
  {
   "cell_type": "code",
   "execution_count": 21,
   "id": "9f890e6d-8d2c-448d-9964-1d991de3e3cf",
   "metadata": {},
   "outputs": [
    {
     "data": {
      "text/plain": [
       "20"
      ]
     },
     "execution_count": 21,
     "metadata": {},
     "output_type": "execute_result"
    }
   ],
   "source": [
    "len(singletree)"
   ]
  },
  {
   "cell_type": "markdown",
   "id": "9782b04a-98c8-479f-a29a-93f2aa2c8aac",
   "metadata": {},
   "source": [
    "Only a few 20 parks have only 1 planted tree!! Which parks are?"
   ]
  },
  {
   "cell_type": "code",
   "execution_count": 22,
   "id": "85fe1b9b-2476-4a70-8a8d-5e5bfc0ce5ac",
   "metadata": {},
   "outputs": [
    {
     "data": {
      "text/html": [
       "<div>\n",
       "<style scoped>\n",
       "    .dataframe tbody tr th:only-of-type {\n",
       "        vertical-align: middle;\n",
       "    }\n",
       "\n",
       "    .dataframe tbody tr th {\n",
       "        vertical-align: top;\n",
       "    }\n",
       "\n",
       "    .dataframe thead th {\n",
       "        text-align: right;\n",
       "    }\n",
       "</style>\n",
       "<table border=\"1\" class=\"dataframe\">\n",
       "  <thead>\n",
       "    <tr style=\"text-align: right;\">\n",
       "      <th></th>\n",
       "      <th>address</th>\n",
       "      <th>trees</th>\n",
       "    </tr>\n",
       "  </thead>\n",
       "  <tbody>\n",
       "    <tr>\n",
       "      <th>51</th>\n",
       "      <td>Bromann</td>\n",
       "      <td>1</td>\n",
       "    </tr>\n",
       "    <tr>\n",
       "      <th>403</th>\n",
       "      <td>Unioin</td>\n",
       "      <td>1</td>\n",
       "    </tr>\n",
       "    <tr>\n",
       "      <th>82</th>\n",
       "      <td>Coliseum</td>\n",
       "      <td>1</td>\n",
       "    </tr>\n",
       "    <tr>\n",
       "      <th>85</th>\n",
       "      <td>Cornell</td>\n",
       "      <td>1</td>\n",
       "    </tr>\n",
       "    <tr>\n",
       "      <th>196</th>\n",
       "      <td>Juniper</td>\n",
       "      <td>1</td>\n",
       "    </tr>\n",
       "    <tr>\n",
       "      <th>284</th>\n",
       "      <td>Ninebark</td>\n",
       "      <td>1</td>\n",
       "    </tr>\n",
       "    <tr>\n",
       "      <th>175</th>\n",
       "      <td>Hornbeam</td>\n",
       "      <td>1</td>\n",
       "    </tr>\n",
       "    <tr>\n",
       "      <th>378</th>\n",
       "      <td>Spikings Farm</td>\n",
       "      <td>1</td>\n",
       "    </tr>\n",
       "    <tr>\n",
       "      <th>422</th>\n",
       "      <td>Weisman</td>\n",
       "      <td>1</td>\n",
       "    </tr>\n",
       "    <tr>\n",
       "      <th>312</th>\n",
       "      <td>Park 542</td>\n",
       "      <td>1</td>\n",
       "    </tr>\n",
       "    <tr>\n",
       "      <th>324</th>\n",
       "      <td>Parsons</td>\n",
       "      <td>1</td>\n",
       "    </tr>\n",
       "    <tr>\n",
       "      <th>139</th>\n",
       "      <td>Goudy Square</td>\n",
       "      <td>1</td>\n",
       "    </tr>\n",
       "    <tr>\n",
       "      <th>328</th>\n",
       "      <td>Ping Tom</td>\n",
       "      <td>1</td>\n",
       "    </tr>\n",
       "    <tr>\n",
       "      <th>394</th>\n",
       "      <td>Thuis</td>\n",
       "      <td>1</td>\n",
       "    </tr>\n",
       "    <tr>\n",
       "      <th>95</th>\n",
       "      <td>Dearborn</td>\n",
       "      <td>1</td>\n",
       "    </tr>\n",
       "    <tr>\n",
       "      <th>119</th>\n",
       "      <td>Evergreen</td>\n",
       "      <td>1</td>\n",
       "    </tr>\n",
       "    <tr>\n",
       "      <th>56</th>\n",
       "      <td>Brynford</td>\n",
       "      <td>1</td>\n",
       "    </tr>\n",
       "    <tr>\n",
       "      <th>429</th>\n",
       "      <td>Western</td>\n",
       "      <td>1</td>\n",
       "    </tr>\n",
       "    <tr>\n",
       "      <th>319</th>\n",
       "      <td>Park 588</td>\n",
       "      <td>1</td>\n",
       "    </tr>\n",
       "    <tr>\n",
       "      <th>124</th>\n",
       "      <td>Fosco</td>\n",
       "      <td>1</td>\n",
       "    </tr>\n",
       "  </tbody>\n",
       "</table>\n",
       "</div>"
      ],
      "text/plain": [
       "           address  trees\n",
       "51         Bromann      1\n",
       "403         Unioin      1\n",
       "82        Coliseum      1\n",
       "85         Cornell      1\n",
       "196        Juniper      1\n",
       "284       Ninebark      1\n",
       "175       Hornbeam      1\n",
       "378  Spikings Farm      1\n",
       "422        Weisman      1\n",
       "312       Park 542      1\n",
       "324        Parsons      1\n",
       "139   Goudy Square      1\n",
       "328       Ping Tom      1\n",
       "394          Thuis      1\n",
       "95        Dearborn      1\n",
       "119      Evergreen      1\n",
       "56        Brynford      1\n",
       "429        Western      1\n",
       "319       Park 588      1\n",
       "124          Fosco      1"
      ]
     },
     "execution_count": 22,
     "metadata": {},
     "output_type": "execute_result"
    }
   ],
   "source": [
    "singletree"
   ]
  },
  {
   "cell_type": "markdown",
   "id": "678d6059-479b-4564-a74b-96d2a32bd076",
   "metadata": {},
   "source": [
    "__Statement__: a quarter (25%) of the parks received only 9 planted trees, or less. Why?\n",
    "\n",
    "Are these parks trees very well conserved? Or didn't these parks reserve enough attention? (Remaining)."
   ]
  },
  {
   "cell_type": "markdown",
   "id": "b559e307-4249-4d51-ab2d-947ae0dfdb1b",
   "metadata": {},
   "source": [
    "__Question__: on the contrary, what are the most planted tree parks?\n",
    "\n",
    "We already found that the top 20 parks contained more than half of the trees. But how could we found it in a more standardized way?\n",
    "\n",
    "Possible answer: .describe shows some other statistical results. Let's review again."
   ]
  },
  {
   "cell_type": "code",
   "execution_count": 23,
   "id": "a52dfe04-2fe9-45d5-aae0-957015010825",
   "metadata": {},
   "outputs": [
    {
     "data": {
      "text/html": [
       "<div>\n",
       "<style scoped>\n",
       "    .dataframe tbody tr th:only-of-type {\n",
       "        vertical-align: middle;\n",
       "    }\n",
       "\n",
       "    .dataframe tbody tr th {\n",
       "        vertical-align: top;\n",
       "    }\n",
       "\n",
       "    .dataframe thead th {\n",
       "        text-align: right;\n",
       "    }\n",
       "</style>\n",
       "<table border=\"1\" class=\"dataframe\">\n",
       "  <thead>\n",
       "    <tr style=\"text-align: right;\">\n",
       "      <th></th>\n",
       "      <th>trees</th>\n",
       "    </tr>\n",
       "  </thead>\n",
       "  <tbody>\n",
       "    <tr>\n",
       "      <th>count</th>\n",
       "      <td>446.0</td>\n",
       "    </tr>\n",
       "    <tr>\n",
       "      <th>mean</th>\n",
       "      <td>81.7</td>\n",
       "    </tr>\n",
       "    <tr>\n",
       "      <th>std</th>\n",
       "      <td>262.6</td>\n",
       "    </tr>\n",
       "    <tr>\n",
       "      <th>min</th>\n",
       "      <td>1.0</td>\n",
       "    </tr>\n",
       "    <tr>\n",
       "      <th>25%</th>\n",
       "      <td>9.0</td>\n",
       "    </tr>\n",
       "    <tr>\n",
       "      <th>50%</th>\n",
       "      <td>24.5</td>\n",
       "    </tr>\n",
       "    <tr>\n",
       "      <th>75%</th>\n",
       "      <td>59.0</td>\n",
       "    </tr>\n",
       "    <tr>\n",
       "      <th>max</th>\n",
       "      <td>3508.0</td>\n",
       "    </tr>\n",
       "  </tbody>\n",
       "</table>\n",
       "</div>"
      ],
      "text/plain": [
       "        trees\n",
       "count   446.0\n",
       "mean     81.7\n",
       "std     262.6\n",
       "min       1.0\n",
       "25%       9.0\n",
       "50%      24.5\n",
       "75%      59.0\n",
       "max    3508.0"
      ]
     },
     "execution_count": 23,
     "metadata": {},
     "output_type": "execute_result"
    }
   ],
   "source": [
    "pato.describe().round(1)"
   ]
  },
  {
   "cell_type": "markdown",
   "id": "3a6798be-dda1-45f4-92b2-125375844084",
   "metadata": {},
   "source": [
    "75% of the parks have a maximum of 59 planted trees. So, the remaining 25% had more than this figure:"
   ]
  },
  {
   "cell_type": "code",
   "execution_count": 24,
   "id": "7c66608e-ac30-43c3-a544-99122b55c81a",
   "metadata": {},
   "outputs": [],
   "source": [
    "top25parks = pato[pato['trees'] > 59]"
   ]
  },
  {
   "cell_type": "code",
   "execution_count": 25,
   "id": "919a280d-9dbb-436d-b3e8-cd1854c4b569",
   "metadata": {},
   "outputs": [
    {
     "data": {
      "text/html": [
       "<div>\n",
       "<style scoped>\n",
       "    .dataframe tbody tr th:only-of-type {\n",
       "        vertical-align: middle;\n",
       "    }\n",
       "\n",
       "    .dataframe tbody tr th {\n",
       "        vertical-align: top;\n",
       "    }\n",
       "\n",
       "    .dataframe thead th {\n",
       "        text-align: right;\n",
       "    }\n",
       "</style>\n",
       "<table border=\"1\" class=\"dataframe\">\n",
       "  <thead>\n",
       "    <tr style=\"text-align: right;\">\n",
       "      <th></th>\n",
       "      <th>address</th>\n",
       "      <th>trees</th>\n",
       "    </tr>\n",
       "  </thead>\n",
       "  <tbody>\n",
       "    <tr>\n",
       "      <th>234</th>\n",
       "      <td>Lincoln</td>\n",
       "      <td>3508</td>\n",
       "    </tr>\n",
       "    <tr>\n",
       "      <th>58</th>\n",
       "      <td>Burnham</td>\n",
       "      <td>1912</td>\n",
       "    </tr>\n",
       "    <tr>\n",
       "      <th>130</th>\n",
       "      <td>Garfield</td>\n",
       "      <td>1854</td>\n",
       "    </tr>\n",
       "    <tr>\n",
       "      <th>182</th>\n",
       "      <td>Humboldt</td>\n",
       "      <td>1752</td>\n",
       "    </tr>\n",
       "    <tr>\n",
       "      <th>144</th>\n",
       "      <td>Grant</td>\n",
       "      <td>1582</td>\n",
       "    </tr>\n",
       "    <tr>\n",
       "      <th>...</th>\n",
       "      <td>...</td>\n",
       "      <td>...</td>\n",
       "    </tr>\n",
       "    <tr>\n",
       "      <th>13</th>\n",
       "      <td>Armour Square</td>\n",
       "      <td>62</td>\n",
       "    </tr>\n",
       "    <tr>\n",
       "      <th>73</th>\n",
       "      <td>Chopin</td>\n",
       "      <td>62</td>\n",
       "    </tr>\n",
       "    <tr>\n",
       "      <th>257</th>\n",
       "      <td>McGuane</td>\n",
       "      <td>61</td>\n",
       "    </tr>\n",
       "    <tr>\n",
       "      <th>374</th>\n",
       "      <td>Smith, Joseph H.</td>\n",
       "      <td>60</td>\n",
       "    </tr>\n",
       "    <tr>\n",
       "      <th>383</th>\n",
       "      <td>Steelworkers</td>\n",
       "      <td>60</td>\n",
       "    </tr>\n",
       "  </tbody>\n",
       "</table>\n",
       "<p>111 rows × 2 columns</p>\n",
       "</div>"
      ],
      "text/plain": [
       "              address  trees\n",
       "234           Lincoln   3508\n",
       "58            Burnham   1912\n",
       "130          Garfield   1854\n",
       "182          Humboldt   1752\n",
       "144             Grant   1582\n",
       "..                ...    ...\n",
       "13      Armour Square     62\n",
       "73             Chopin     62\n",
       "257           McGuane     61\n",
       "374  Smith, Joseph H.     60\n",
       "383      Steelworkers     60\n",
       "\n",
       "[111 rows x 2 columns]"
      ]
     },
     "execution_count": 25,
     "metadata": {},
     "output_type": "execute_result"
    }
   ],
   "source": [
    "top25parks.sort_values(by=['trees'], ascending = False)"
   ]
  },
  {
   "cell_type": "markdown",
   "id": "708f4d93-5211-4606-a5d2-550bf0246cc1",
   "metadata": {},
   "source": [
    "Something else: \n",
    "\n",
    "- mean\t81.7\r",
    "- \n",
    "std\t262.\n",
    "\n",
    "If parks trees distribution were \"normal\", that would mean that:\n",
    "- around 2/3 of the parks would be in a range of\n",
    "    - minimum: -262.6 + mean (which is not possible).\n",
    "    - maximum: +262.6 + mean = 343.3\n",
    "- ... whereas 1/6 of the parks would have a lower number than the minimum value of the range...\n",
    "- ... and 1/6 of the parks would have an __upper__ number of trees __than the maximum__ of this range.\n",
    "\n",
    "So, how many parks are over this upper number? (even if this distribution was not \"normal\")6"
   ]
  },
  {
   "cell_type": "code",
   "execution_count": 26,
   "id": "69a54124-362a-4162-be16-ef0991c7a22a",
   "metadata": {},
   "outputs": [],
   "source": [
    "supertop = pato[pato['trees'] > 343]"
   ]
  },
  {
   "cell_type": "code",
   "execution_count": 27,
   "id": "e91d105d-b74f-41bd-b45f-60f25fac1cf4",
   "metadata": {},
   "outputs": [
    {
     "data": {
      "text/plain": [
       "14"
      ]
     },
     "execution_count": 27,
     "metadata": {},
     "output_type": "execute_result"
    }
   ],
   "source": [
    "len(supertop)"
   ]
  },
  {
   "cell_type": "markdown",
   "id": "e43d9142-2739-4672-8253-d3282e95eefa",
   "metadata": {},
   "source": [
    "Statement: there are 14 __supertop__ parks..."
   ]
  },
  {
   "cell_type": "code",
   "execution_count": 28,
   "id": "34d4a9df-f9e6-41e7-9eba-60e3c9f00222",
   "metadata": {},
   "outputs": [
    {
     "data": {
      "text/html": [
       "<div>\n",
       "<style scoped>\n",
       "    .dataframe tbody tr th:only-of-type {\n",
       "        vertical-align: middle;\n",
       "    }\n",
       "\n",
       "    .dataframe tbody tr th {\n",
       "        vertical-align: top;\n",
       "    }\n",
       "\n",
       "    .dataframe thead th {\n",
       "        text-align: right;\n",
       "    }\n",
       "</style>\n",
       "<table border=\"1\" class=\"dataframe\">\n",
       "  <thead>\n",
       "    <tr style=\"text-align: right;\">\n",
       "      <th></th>\n",
       "      <th>address</th>\n",
       "      <th>trees</th>\n",
       "    </tr>\n",
       "  </thead>\n",
       "  <tbody>\n",
       "    <tr>\n",
       "      <th>234</th>\n",
       "      <td>Lincoln</td>\n",
       "      <td>3508</td>\n",
       "    </tr>\n",
       "    <tr>\n",
       "      <th>58</th>\n",
       "      <td>Burnham</td>\n",
       "      <td>1912</td>\n",
       "    </tr>\n",
       "    <tr>\n",
       "      <th>130</th>\n",
       "      <td>Garfield</td>\n",
       "      <td>1854</td>\n",
       "    </tr>\n",
       "    <tr>\n",
       "      <th>182</th>\n",
       "      <td>Humboldt</td>\n",
       "      <td>1752</td>\n",
       "    </tr>\n",
       "    <tr>\n",
       "      <th>144</th>\n",
       "      <td>Grant</td>\n",
       "      <td>1582</td>\n",
       "    </tr>\n",
       "    <tr>\n",
       "      <th>418</th>\n",
       "      <td>Washington, George</td>\n",
       "      <td>1294</td>\n",
       "    </tr>\n",
       "    <tr>\n",
       "      <th>250</th>\n",
       "      <td>Marquette</td>\n",
       "      <td>1242</td>\n",
       "    </tr>\n",
       "    <tr>\n",
       "      <th>101</th>\n",
       "      <td>Douglas</td>\n",
       "      <td>1110</td>\n",
       "    </tr>\n",
       "    <tr>\n",
       "      <th>261</th>\n",
       "      <td>McKinley</td>\n",
       "      <td>795</td>\n",
       "    </tr>\n",
       "    <tr>\n",
       "      <th>64</th>\n",
       "      <td>Calumet</td>\n",
       "      <td>750</td>\n",
       "    </tr>\n",
       "    <tr>\n",
       "      <th>83</th>\n",
       "      <td>Columbus</td>\n",
       "      <td>647</td>\n",
       "    </tr>\n",
       "    <tr>\n",
       "      <th>338</th>\n",
       "      <td>Rainbow Beach</td>\n",
       "      <td>505</td>\n",
       "    </tr>\n",
       "    <tr>\n",
       "      <th>227</th>\n",
       "      <td>Legion</td>\n",
       "      <td>492</td>\n",
       "    </tr>\n",
       "    <tr>\n",
       "      <th>187</th>\n",
       "      <td>Jackson, Andrew</td>\n",
       "      <td>459</td>\n",
       "    </tr>\n",
       "  </tbody>\n",
       "</table>\n",
       "</div>"
      ],
      "text/plain": [
       "                address  trees\n",
       "234             Lincoln   3508\n",
       "58              Burnham   1912\n",
       "130            Garfield   1854\n",
       "182            Humboldt   1752\n",
       "144               Grant   1582\n",
       "418  Washington, George   1294\n",
       "250           Marquette   1242\n",
       "101             Douglas   1110\n",
       "261            McKinley    795\n",
       "64              Calumet    750\n",
       "83             Columbus    647\n",
       "338       Rainbow Beach    505\n",
       "227              Legion    492\n",
       "187     Jackson, Andrew    459"
      ]
     },
     "execution_count": 28,
     "metadata": {},
     "output_type": "execute_result"
    }
   ],
   "source": [
    "supertop"
   ]
  },
  {
   "cell_type": "markdown",
   "id": "5fc3f822-4085-43d2-b5ca-9998bbbcff6a",
   "metadata": {},
   "source": [
    "...that contained, together:"
   ]
  },
  {
   "cell_type": "code",
   "execution_count": 29,
   "id": "f242bdc4-c62f-4c19-a5bc-9499d6dba224",
   "metadata": {},
   "outputs": [
    {
     "data": {
      "text/plain": [
       "17902"
      ]
     },
     "execution_count": 29,
     "metadata": {},
     "output_type": "execute_result"
    }
   ],
   "source": [
    "supertop['trees'].sum()"
   ]
  },
  {
   "cell_type": "code",
   "execution_count": 30,
   "id": "093ce63d-22ab-4def-be7a-871aa223c110",
   "metadata": {},
   "outputs": [
    {
     "data": {
      "text/plain": [
       "49.13137744600269"
      ]
     },
     "execution_count": 30,
     "metadata": {},
     "output_type": "execute_result"
    }
   ],
   "source": [
    "supertop['trees'].sum() / pato['trees'].sum() * 100"
   ]
  },
  {
   "cell_type": "markdown",
   "id": "c2fa027c-2f53-46c7-8a22-ed8345377132",
   "metadata": {},
   "source": [
    "__14 supertop parks__ contained __half__ (49,1%, 17902) of the __planted trees__."
   ]
  },
  {
   "cell_type": "markdown",
   "id": "c8ec69ce-6d85-4901-abe5-cb23f26684ba",
   "metadata": {},
   "source": [
    "# Question 2. Combine data with an official parks list.\n",
    "\n",
    "I had not any previous knowledge neither from Chicago nor its areas or parks. Nevertheless, after watching the tv news about it, I realized Chicago was divided into \"wards\", which is an electoral division.\n",
    "\n",
    "The original __tl__ dataset do have any information about wards... but when 'source' == 'parks', there was no further information about the ward each park is belonging to.\n",
    "\n",
    "So, new questions kept to my mind:\n",
    "\n",
    "- How many wards are in Chicago?\n",
    "- Is it possible to link each park with a specific ward? Which means:\n",
    "    - __Is there any official Chicago parks list?__\n",
    "- If so, would it be affordable to ask for new questions, such as: \n",
    "    - Is there any relation to the park area?\n",
    "        - But we have no info about each park area.\n",
    "    - Is there any relation to the number of planted trees outside this area?\n",
    "        - Comparison reference: its... park ward?\n",
    "            - But there is no info about any park ward...\n",
    "    - In addition to that:\n",
    "        - Parks planted trees are almost half of the total trees.\n",
    "        - So, what is the real total number of planted trees per ward?\n",
    "     \n",
    "_Note: after some previouos research, I am aware that the real location of the wards might have changed slightly? during the last decade. Nevertheless, because data were not the current ones, and as a course exercise, it might work... although, to use them in a real case, these changes should be checked out._"
   ]
  },
  {
   "cell_type": "markdown",
   "id": "78f05df3-25c3-44d8-889c-a8113038c74a",
   "metadata": {},
   "source": [
    "## Question 2.1.\n",
    "How many wards are in Chicago?"
   ]
  },
  {
   "cell_type": "markdown",
   "id": "ebe1c31a-fad8-4a5e-add1-305445f4b53b",
   "metadata": {},
   "source": [
    "There were two ways to solve and check out this question:\n",
    "\n",
    "1) Find out, in the original _tl_, a ward list. 'source' == 'parks' subset does not contain any data about its ward... but most, if not all, the other _tl_ results do have an associated ward:"
   ]
  },
  {
   "cell_type": "code",
   "execution_count": 31,
   "id": "183deca4-5a38-44a2-82b3-ca319e6fdbbb",
   "metadata": {},
   "outputs": [
    {
     "data": {
      "text/html": [
       "<div>\n",
       "<style scoped>\n",
       "    .dataframe tbody tr th:only-of-type {\n",
       "        vertical-align: middle;\n",
       "    }\n",
       "\n",
       "    .dataframe tbody tr th {\n",
       "        vertical-align: top;\n",
       "    }\n",
       "\n",
       "    .dataframe thead th {\n",
       "        text-align: right;\n",
       "    }\n",
       "</style>\n",
       "<table border=\"1\" class=\"dataframe\">\n",
       "  <thead>\n",
       "    <tr style=\"text-align: right;\">\n",
       "      <th></th>\n",
       "      <th>id</th>\n",
       "      <th>date</th>\n",
       "      <th>address</th>\n",
       "      <th>ward</th>\n",
       "      <th>trees</th>\n",
       "      <th>source</th>\n",
       "      <th>year</th>\n",
       "    </tr>\n",
       "  </thead>\n",
       "  <tbody>\n",
       "    <tr>\n",
       "      <th>0</th>\n",
       "      <td>201100837</td>\n",
       "      <td>2011-04-14 12:00:00</td>\n",
       "      <td>7777 W IRVING PARK RD</td>\n",
       "      <td>36</td>\n",
       "      <td>2</td>\n",
       "      <td>dss</td>\n",
       "      <td>2011.0</td>\n",
       "    </tr>\n",
       "    <tr>\n",
       "      <th>1</th>\n",
       "      <td>201100839</td>\n",
       "      <td>2011-04-14 12:00:00</td>\n",
       "      <td>5152 S ARTESIAN AVE</td>\n",
       "      <td>14</td>\n",
       "      <td>1</td>\n",
       "      <td>dss</td>\n",
       "      <td>2011.0</td>\n",
       "    </tr>\n",
       "    <tr>\n",
       "      <th>2</th>\n",
       "      <td>201100841</td>\n",
       "      <td>2011-04-14 12:00:00</td>\n",
       "      <td>3520 S ARCHER AVE</td>\n",
       "      <td>12</td>\n",
       "      <td>1</td>\n",
       "      <td>dss</td>\n",
       "      <td>2011.0</td>\n",
       "    </tr>\n",
       "    <tr>\n",
       "      <th>3</th>\n",
       "      <td>201100840</td>\n",
       "      <td>2011-04-14 12:00:00</td>\n",
       "      <td>4118 S MAPLEWOOD AVE</td>\n",
       "      <td>12</td>\n",
       "      <td>1</td>\n",
       "      <td>dss</td>\n",
       "      <td>2011.0</td>\n",
       "    </tr>\n",
       "    <tr>\n",
       "      <th>4</th>\n",
       "      <td>201101968</td>\n",
       "      <td>2011-04-21 12:00:00</td>\n",
       "      <td>3663 S WABASH AVE</td>\n",
       "      <td>3</td>\n",
       "      <td>1</td>\n",
       "      <td>dss</td>\n",
       "      <td>2011.0</td>\n",
       "    </tr>\n",
       "    <tr>\n",
       "      <th>...</th>\n",
       "      <td>...</td>\n",
       "      <td>...</td>\n",
       "      <td>...</td>\n",
       "      <td>...</td>\n",
       "      <td>...</td>\n",
       "      <td>...</td>\n",
       "      <td>...</td>\n",
       "    </tr>\n",
       "    <tr>\n",
       "      <th>33793</th>\n",
       "      <td></td>\n",
       "      <td></td>\n",
       "      <td>Wrightwood</td>\n",
       "      <td></td>\n",
       "      <td>11</td>\n",
       "      <td>parks</td>\n",
       "      <td></td>\n",
       "    </tr>\n",
       "    <tr>\n",
       "      <th>33794</th>\n",
       "      <td></td>\n",
       "      <td></td>\n",
       "      <td>Wrightwood</td>\n",
       "      <td></td>\n",
       "      <td>6</td>\n",
       "      <td>parks</td>\n",
       "      <td></td>\n",
       "    </tr>\n",
       "    <tr>\n",
       "      <th>33795</th>\n",
       "      <td></td>\n",
       "      <td></td>\n",
       "      <td>Wrightwood</td>\n",
       "      <td></td>\n",
       "      <td>8</td>\n",
       "      <td>parks</td>\n",
       "      <td></td>\n",
       "    </tr>\n",
       "    <tr>\n",
       "      <th>33796</th>\n",
       "      <td></td>\n",
       "      <td></td>\n",
       "      <td>Wrightwood</td>\n",
       "      <td></td>\n",
       "      <td>23</td>\n",
       "      <td>parks</td>\n",
       "      <td></td>\n",
       "    </tr>\n",
       "    <tr>\n",
       "      <th>33797</th>\n",
       "      <td></td>\n",
       "      <td></td>\n",
       "      <td>Zatterburg</td>\n",
       "      <td></td>\n",
       "      <td>9</td>\n",
       "      <td>parks</td>\n",
       "      <td></td>\n",
       "    </tr>\n",
       "  </tbody>\n",
       "</table>\n",
       "<p>33798 rows × 7 columns</p>\n",
       "</div>"
      ],
      "text/plain": [
       "              id                 date                address ward  trees  \\\n",
       "0      201100837  2011-04-14 12:00:00  7777 W IRVING PARK RD   36      2   \n",
       "1      201100839  2011-04-14 12:00:00    5152 S ARTESIAN AVE   14      1   \n",
       "2      201100841  2011-04-14 12:00:00      3520 S ARCHER AVE   12      1   \n",
       "3      201100840  2011-04-14 12:00:00   4118 S MAPLEWOOD AVE   12      1   \n",
       "4      201101968  2011-04-21 12:00:00      3663 S WABASH AVE    3      1   \n",
       "...          ...                  ...                    ...  ...    ...   \n",
       "33793                                             Wrightwood          11   \n",
       "33794                                             Wrightwood           6   \n",
       "33795                                             Wrightwood           8   \n",
       "33796                                             Wrightwood          23   \n",
       "33797                                             Zatterburg           9   \n",
       "\n",
       "      source    year  \n",
       "0        dss  2011.0  \n",
       "1        dss  2011.0  \n",
       "2        dss  2011.0  \n",
       "3        dss  2011.0  \n",
       "4        dss  2011.0  \n",
       "...      ...     ...  \n",
       "33793  parks          \n",
       "33794  parks          \n",
       "33795  parks          \n",
       "33796  parks          \n",
       "33797  parks          \n",
       "\n",
       "[33798 rows x 7 columns]"
      ]
     },
     "execution_count": 31,
     "metadata": {},
     "output_type": "execute_result"
    }
   ],
   "source": [
    "tl"
   ]
  },
  {
   "cell_type": "markdown",
   "id": "51fc8132-1752-4da1-ba6b-6afcafde5ee4",
   "metadata": {},
   "source": [
    "Do they seem to be only numbers?"
   ]
  },
  {
   "cell_type": "code",
   "execution_count": 32,
   "id": "a941a3bc-02b1-4aba-b709-19e739385239",
   "metadata": {},
   "outputs": [
    {
     "name": "stdout",
     "output_type": "stream",
     "text": [
      "<class 'pandas.core.frame.DataFrame'>\n",
      "RangeIndex: 33798 entries, 0 to 33797\n",
      "Data columns (total 7 columns):\n",
      " #   Column   Non-Null Count  Dtype \n",
      "---  ------   --------------  ----- \n",
      " 0   id       33798 non-null  object\n",
      " 1   date     33798 non-null  object\n",
      " 2   address  33798 non-null  object\n",
      " 3   ward     33798 non-null  object\n",
      " 4   trees    33798 non-null  int64 \n",
      " 5   source   33798 non-null  object\n",
      " 6   year     33798 non-null  object\n",
      "dtypes: int64(1), object(6)\n",
      "memory usage: 1.8+ MB\n"
     ]
    }
   ],
   "source": [
    "tl.info()"
   ]
  },
  {
   "cell_type": "markdown",
   "id": "3599910f-6f98-43ee-b1e8-473fdf6359ce",
   "metadata": {},
   "source": [
    "So, they do not seem: 'ward' type is object, not int64. But how many of them are there?\n",
    "\n",
    "Let's __count the number of unique values in a column__ ('ward')..."
   ]
  },
  {
   "cell_type": "code",
   "execution_count": 33,
   "id": "64153301-0eab-4d8a-b425-19b962538573",
   "metadata": {},
   "outputs": [
    {
     "data": {
      "text/plain": [
       "51"
      ]
     },
     "execution_count": 33,
     "metadata": {},
     "output_type": "execute_result"
    }
   ],
   "source": [
    "tl['ward'].nunique()"
   ]
  },
  {
   "cell_type": "markdown",
   "id": "9a1fc892-f15b-468a-85c8-527b7aede82b",
   "metadata": {},
   "source": [
    "It seems affordable to take a visual review of these values:"
   ]
  },
  {
   "cell_type": "code",
   "execution_count": 34,
   "id": "37b8895c-3394-4170-9e4f-7176a2a0b686",
   "metadata": {},
   "outputs": [
    {
     "data": {
      "text/plain": [
       "ward\n",
       "       956\n",
       "1     1142\n",
       "10     488\n",
       "11     705\n",
       "12     352\n",
       "13     716\n",
       "14     485\n",
       "15     342\n",
       "16     688\n",
       "17     436\n",
       "18     306\n",
       "19     975\n",
       "2      622\n",
       "20     641\n",
       "21     347\n",
       "22     197\n",
       "23     452\n",
       "24     490\n",
       "25    1089\n",
       "26     613\n",
       "27    1687\n",
       "28    1254\n",
       "29     514\n",
       "3      828\n",
       "30     486\n",
       "31     444\n",
       "32    1002\n",
       "33     637\n",
       "34     396\n",
       "35     488\n",
       "36     432\n",
       "37     406\n",
       "38     761\n",
       "39    1027\n",
       "4      548\n",
       "40     718\n",
       "41    1217\n",
       "42     916\n",
       "43     671\n",
       "44     734\n",
       "45    1161\n",
       "46     430\n",
       "47     922\n",
       "48     727\n",
       "49     768\n",
       "5      425\n",
       "50     595\n",
       "6      525\n",
       "7      270\n",
       "8      394\n",
       "9      373\n",
       "Name: count, dtype: int64"
      ]
     },
     "execution_count": 34,
     "metadata": {},
     "output_type": "execute_result"
    }
   ],
   "source": [
    "tl['ward'].value_counts().sort_index()"
   ]
  },
  {
   "cell_type": "markdown",
   "id": "b5a6fd20-cd08-4a54-b6a5-7c1daeebec8b",
   "metadata": {},
   "source": [
    "_____________\n",
    "(Note: it is also possible to show the list of results as a list, with:\n",
    "\n",
    "_tl['ward'].unique()_\n",
    "_____________"
   ]
  },
  {
   "cell_type": "markdown",
   "id": "7f95611f-dd00-4e85-b2ce-6bf326c4e712",
   "metadata": {},
   "source": [
    "__Statement:__\n",
    "\n",
    "- All the wards are named with a number code (although technically this is an object)\n",
    "- And there are __50 different ward codes, from 1 to 50__... plus some rows with an empty code (such as parks).\n"
   ]
  },
  {
   "cell_type": "markdown",
   "id": "2b6ba523-a406-4268-aa1b-b80976a2bb2c",
   "metadata": {},
   "source": [
    "## Question 2.2\n",
    "_Is there any official parks list source?, to compare and extend previous results?_\n",
    "\n",
    "Yes, there is a dataset at: https://data.cityofchicago.org/api/views/ejsh-fztr/rows.csv).\n",
    "\n",
    "It is taken from: [Parks - Chicago Park District Park Boundaries (current)](https://data.cityofchicago.org/Parks-Recreation/Parks-Chicago-Park-District-Park-Boundaries-curren/ej32-qgdr) \n",
    "Source: Chicago Data Portal\n",
    "\n",
    "It will be added as __off_chic__ dataset."
   ]
  },
  {
   "cell_type": "code",
   "execution_count": 35,
   "id": "aff10237-dd7c-4484-88c4-aa323a5f402f",
   "metadata": {},
   "outputs": [],
   "source": [
    "off_chic = pd.read_csv('https://data.cityofchicago.org/api/views/ejsh-fztr/rows.csv')"
   ]
  },
  {
   "cell_type": "code",
   "execution_count": 36,
   "id": "3274cdcf-f6b1-457d-ba9f-1dc6d3752411",
   "metadata": {},
   "outputs": [
    {
     "data": {
      "text/html": [
       "<div>\n",
       "<style scoped>\n",
       "    .dataframe tbody tr th:only-of-type {\n",
       "        vertical-align: middle;\n",
       "    }\n",
       "\n",
       "    .dataframe tbody tr th {\n",
       "        vertical-align: top;\n",
       "    }\n",
       "\n",
       "    .dataframe thead th {\n",
       "        text-align: right;\n",
       "    }\n",
       "</style>\n",
       "<table border=\"1\" class=\"dataframe\">\n",
       "  <thead>\n",
       "    <tr style=\"text-align: right;\">\n",
       "      <th></th>\n",
       "      <th>the_geom</th>\n",
       "      <th>OBJECTID_1</th>\n",
       "      <th>PARK_NO</th>\n",
       "      <th>PARK</th>\n",
       "      <th>LOCATION</th>\n",
       "      <th>ZIP</th>\n",
       "      <th>ACRES</th>\n",
       "      <th>WARD</th>\n",
       "      <th>PARK_CLASS</th>\n",
       "      <th>LABEL</th>\n",
       "      <th>...</th>\n",
       "      <th>CROQUET</th>\n",
       "      <th>HANDBALL_I</th>\n",
       "      <th>HARBOR</th>\n",
       "      <th>MODELTRAIN</th>\n",
       "      <th>MODELYACHT</th>\n",
       "      <th>NATURE_BIR</th>\n",
       "      <th>MINIGOLF</th>\n",
       "      <th>PERIMETER</th>\n",
       "      <th>Shape_Leng</th>\n",
       "      <th>Shape_Area</th>\n",
       "    </tr>\n",
       "  </thead>\n",
       "  <tbody>\n",
       "    <tr>\n",
       "      <th>0</th>\n",
       "      <td>MULTIPOLYGON (((-87.64817638699884 41.83972833...</td>\n",
       "      <td>1</td>\n",
       "      <td>2</td>\n",
       "      <td>MCGUANE (JOHN)</td>\n",
       "      <td>2901 S POPLAR AVE</td>\n",
       "      <td>60608.0</td>\n",
       "      <td>10.30</td>\n",
       "      <td>11</td>\n",
       "      <td>COMMUNITY PARK</td>\n",
       "      <td>McGuane</td>\n",
       "      <td>...</td>\n",
       "      <td>0</td>\n",
       "      <td>0</td>\n",
       "      <td>0</td>\n",
       "      <td>0</td>\n",
       "      <td>0</td>\n",
       "      <td>0</td>\n",
       "      <td>0</td>\n",
       "      <td>2672.326627</td>\n",
       "      <td>2672.326627</td>\n",
       "      <td>4.303417e+05</td>\n",
       "    </tr>\n",
       "    <tr>\n",
       "      <th>1</th>\n",
       "      <td>MULTIPOLYGON (((-87.63286355106932 41.83449527...</td>\n",
       "      <td>2</td>\n",
       "      <td>3</td>\n",
       "      <td>ARMOUR (PHILIP) SQUARE</td>\n",
       "      <td>3309 S SHIELDS AVE</td>\n",
       "      <td>60616.0</td>\n",
       "      <td>9.05</td>\n",
       "      <td>11</td>\n",
       "      <td>COMMUNITY PARK</td>\n",
       "      <td>Armour Sq</td>\n",
       "      <td>...</td>\n",
       "      <td>0</td>\n",
       "      <td>0</td>\n",
       "      <td>0</td>\n",
       "      <td>0</td>\n",
       "      <td>0</td>\n",
       "      <td>0</td>\n",
       "      <td>0</td>\n",
       "      <td>2484.283006</td>\n",
       "      <td>2484.283006</td>\n",
       "      <td>3.910958e+05</td>\n",
       "    </tr>\n",
       "    <tr>\n",
       "      <th>2</th>\n",
       "      <td>MULTIPOLYGON (((-87.63554759375805 41.81257646...</td>\n",
       "      <td>3</td>\n",
       "      <td>4</td>\n",
       "      <td>FULLER (MELVILLE)</td>\n",
       "      <td>331 W 45TH ST</td>\n",
       "      <td>60609.0</td>\n",
       "      <td>11.31</td>\n",
       "      <td>3</td>\n",
       "      <td>COMMUNITY PARK</td>\n",
       "      <td>Fuller</td>\n",
       "      <td>...</td>\n",
       "      <td>0</td>\n",
       "      <td>0</td>\n",
       "      <td>0</td>\n",
       "      <td>0</td>\n",
       "      <td>0</td>\n",
       "      <td>0</td>\n",
       "      <td>0</td>\n",
       "      <td>2878.428150</td>\n",
       "      <td>2878.428150</td>\n",
       "      <td>4.970767e+05</td>\n",
       "    </tr>\n",
       "    <tr>\n",
       "      <th>3</th>\n",
       "      <td>MULTIPOLYGON (((-87.66976347484982 41.80300994...</td>\n",
       "      <td>4</td>\n",
       "      <td>5</td>\n",
       "      <td>CORNELL (PAUL) SQUARE</td>\n",
       "      <td>1809 W 50TH ST</td>\n",
       "      <td>60609.0</td>\n",
       "      <td>8.80</td>\n",
       "      <td>20</td>\n",
       "      <td>COMMUNITY PARK</td>\n",
       "      <td>Cornell Sq</td>\n",
       "      <td>...</td>\n",
       "      <td>0</td>\n",
       "      <td>0</td>\n",
       "      <td>0</td>\n",
       "      <td>0</td>\n",
       "      <td>0</td>\n",
       "      <td>0</td>\n",
       "      <td>0</td>\n",
       "      <td>2462.607598</td>\n",
       "      <td>2462.607598</td>\n",
       "      <td>3.856724e+05</td>\n",
       "    </tr>\n",
       "    <tr>\n",
       "      <th>4</th>\n",
       "      <td>MULTIPOLYGON (((-87.5479925005375 41.744623883...</td>\n",
       "      <td>5</td>\n",
       "      <td>6</td>\n",
       "      <td>RUSSELL (MARTIN) SQUARE</td>\n",
       "      <td>3045 E 83RD ST</td>\n",
       "      <td>60617.0</td>\n",
       "      <td>10.05</td>\n",
       "      <td>10</td>\n",
       "      <td>COMMUNITY PARK</td>\n",
       "      <td>Russell Sq</td>\n",
       "      <td>...</td>\n",
       "      <td>0</td>\n",
       "      <td>0</td>\n",
       "      <td>0</td>\n",
       "      <td>0</td>\n",
       "      <td>0</td>\n",
       "      <td>0</td>\n",
       "      <td>0</td>\n",
       "      <td>2777.375936</td>\n",
       "      <td>2777.375936</td>\n",
       "      <td>4.351691e+05</td>\n",
       "    </tr>\n",
       "    <tr>\n",
       "      <th>...</th>\n",
       "      <td>...</td>\n",
       "      <td>...</td>\n",
       "      <td>...</td>\n",
       "      <td>...</td>\n",
       "      <td>...</td>\n",
       "      <td>...</td>\n",
       "      <td>...</td>\n",
       "      <td>...</td>\n",
       "      <td>...</td>\n",
       "      <td>...</td>\n",
       "      <td>...</td>\n",
       "      <td>...</td>\n",
       "      <td>...</td>\n",
       "      <td>...</td>\n",
       "      <td>...</td>\n",
       "      <td>...</td>\n",
       "      <td>...</td>\n",
       "      <td>...</td>\n",
       "      <td>...</td>\n",
       "      <td>...</td>\n",
       "      <td>...</td>\n",
       "    </tr>\n",
       "    <tr>\n",
       "      <th>612</th>\n",
       "      <td>MULTIPOLYGON (((-87.6452558975856 41.910234738...</td>\n",
       "      <td>615</td>\n",
       "      <td>598</td>\n",
       "      <td>PARK NO. 598</td>\n",
       "      <td>1514 N LARRABEE ST</td>\n",
       "      <td>60610.0</td>\n",
       "      <td>3.89</td>\n",
       "      <td>27</td>\n",
       "      <td>UNIMPROVED PARK</td>\n",
       "      <td>Park 598</td>\n",
       "      <td>...</td>\n",
       "      <td>0</td>\n",
       "      <td>0</td>\n",
       "      <td>0</td>\n",
       "      <td>0</td>\n",
       "      <td>0</td>\n",
       "      <td>0</td>\n",
       "      <td>0</td>\n",
       "      <td>0.000000</td>\n",
       "      <td>1666.443596</td>\n",
       "      <td>1.704695e+05</td>\n",
       "    </tr>\n",
       "    <tr>\n",
       "      <th>613</th>\n",
       "      <td>MULTIPOLYGON (((-87.67127705962558 41.98582409...</td>\n",
       "      <td>617</td>\n",
       "      <td>599</td>\n",
       "      <td>PARK NO. 599</td>\n",
       "      <td>1623 W EDGEWATER AVE</td>\n",
       "      <td>NaN</td>\n",
       "      <td>0.00</td>\n",
       "      <td>0</td>\n",
       "      <td>PENDING</td>\n",
       "      <td>Park 599</td>\n",
       "      <td>...</td>\n",
       "      <td>0</td>\n",
       "      <td>0</td>\n",
       "      <td>0</td>\n",
       "      <td>0</td>\n",
       "      <td>0</td>\n",
       "      <td>0</td>\n",
       "      <td>0</td>\n",
       "      <td>0.000000</td>\n",
       "      <td>866.548849</td>\n",
       "      <td>4.114226e+04</td>\n",
       "    </tr>\n",
       "    <tr>\n",
       "      <th>614</th>\n",
       "      <td>MULTIPOLYGON (((-87.5698023262652 41.673569747...</td>\n",
       "      <td>618</td>\n",
       "      <td>600</td>\n",
       "      <td>PARK NO. 600</td>\n",
       "      <td>12201 S STONY ISLAND AVE</td>\n",
       "      <td>NaN</td>\n",
       "      <td>0.00</td>\n",
       "      <td>0</td>\n",
       "      <td>PENDING</td>\n",
       "      <td>Park 600</td>\n",
       "      <td>...</td>\n",
       "      <td>0</td>\n",
       "      <td>0</td>\n",
       "      <td>0</td>\n",
       "      <td>0</td>\n",
       "      <td>0</td>\n",
       "      <td>0</td>\n",
       "      <td>0</td>\n",
       "      <td>0.000000</td>\n",
       "      <td>9516.957171</td>\n",
       "      <td>2.263572e+06</td>\n",
       "    </tr>\n",
       "    <tr>\n",
       "      <th>615</th>\n",
       "      <td>MULTIPOLYGON (((-87.80485398005676 41.95424130...</td>\n",
       "      <td>619</td>\n",
       "      <td>601</td>\n",
       "      <td>PARK NO. 601</td>\n",
       "      <td>7000 W IRVING PARK RD</td>\n",
       "      <td>NaN</td>\n",
       "      <td>0.00</td>\n",
       "      <td>0</td>\n",
       "      <td>PENDING</td>\n",
       "      <td>Park 601</td>\n",
       "      <td>...</td>\n",
       "      <td>0</td>\n",
       "      <td>0</td>\n",
       "      <td>0</td>\n",
       "      <td>0</td>\n",
       "      <td>0</td>\n",
       "      <td>0</td>\n",
       "      <td>0</td>\n",
       "      <td>0.000000</td>\n",
       "      <td>5849.149219</td>\n",
       "      <td>7.928250e+05</td>\n",
       "    </tr>\n",
       "    <tr>\n",
       "      <th>616</th>\n",
       "      <td>MULTIPOLYGON (((-87.72599068673182 41.88136702...</td>\n",
       "      <td>620</td>\n",
       "      <td>602</td>\n",
       "      <td>PARK NO. 602</td>\n",
       "      <td>4008 W MADISON ST</td>\n",
       "      <td>NaN</td>\n",
       "      <td>0.00</td>\n",
       "      <td>0</td>\n",
       "      <td>PENDING</td>\n",
       "      <td>Park 602</td>\n",
       "      <td>...</td>\n",
       "      <td>0</td>\n",
       "      <td>0</td>\n",
       "      <td>0</td>\n",
       "      <td>0</td>\n",
       "      <td>0</td>\n",
       "      <td>0</td>\n",
       "      <td>0</td>\n",
       "      <td>0.000000</td>\n",
       "      <td>546.570335</td>\n",
       "      <td>1.728805e+04</td>\n",
       "    </tr>\n",
       "  </tbody>\n",
       "</table>\n",
       "<p>617 rows × 81 columns</p>\n",
       "</div>"
      ],
      "text/plain": [
       "                                              the_geom  OBJECTID_1  PARK_NO  \\\n",
       "0    MULTIPOLYGON (((-87.64817638699884 41.83972833...           1        2   \n",
       "1    MULTIPOLYGON (((-87.63286355106932 41.83449527...           2        3   \n",
       "2    MULTIPOLYGON (((-87.63554759375805 41.81257646...           3        4   \n",
       "3    MULTIPOLYGON (((-87.66976347484982 41.80300994...           4        5   \n",
       "4    MULTIPOLYGON (((-87.5479925005375 41.744623883...           5        6   \n",
       "..                                                 ...         ...      ...   \n",
       "612  MULTIPOLYGON (((-87.6452558975856 41.910234738...         615      598   \n",
       "613  MULTIPOLYGON (((-87.67127705962558 41.98582409...         617      599   \n",
       "614  MULTIPOLYGON (((-87.5698023262652 41.673569747...         618      600   \n",
       "615  MULTIPOLYGON (((-87.80485398005676 41.95424130...         619      601   \n",
       "616  MULTIPOLYGON (((-87.72599068673182 41.88136702...         620      602   \n",
       "\n",
       "                        PARK                  LOCATION      ZIP  ACRES  WARD  \\\n",
       "0             MCGUANE (JOHN)         2901 S POPLAR AVE  60608.0  10.30    11   \n",
       "1     ARMOUR (PHILIP) SQUARE        3309 S SHIELDS AVE  60616.0   9.05    11   \n",
       "2          FULLER (MELVILLE)             331 W 45TH ST  60609.0  11.31     3   \n",
       "3      CORNELL (PAUL) SQUARE            1809 W 50TH ST  60609.0   8.80    20   \n",
       "4    RUSSELL (MARTIN) SQUARE            3045 E 83RD ST  60617.0  10.05    10   \n",
       "..                       ...                       ...      ...    ...   ...   \n",
       "612             PARK NO. 598        1514 N LARRABEE ST  60610.0   3.89    27   \n",
       "613             PARK NO. 599      1623 W EDGEWATER AVE      NaN   0.00     0   \n",
       "614             PARK NO. 600  12201 S STONY ISLAND AVE      NaN   0.00     0   \n",
       "615             PARK NO. 601     7000 W IRVING PARK RD      NaN   0.00     0   \n",
       "616             PARK NO. 602         4008 W MADISON ST      NaN   0.00     0   \n",
       "\n",
       "          PARK_CLASS       LABEL  ...  CROQUET  HANDBALL_I  HARBOR  \\\n",
       "0     COMMUNITY PARK     McGuane  ...        0           0       0   \n",
       "1     COMMUNITY PARK   Armour Sq  ...        0           0       0   \n",
       "2     COMMUNITY PARK      Fuller  ...        0           0       0   \n",
       "3     COMMUNITY PARK  Cornell Sq  ...        0           0       0   \n",
       "4     COMMUNITY PARK  Russell Sq  ...        0           0       0   \n",
       "..               ...         ...  ...      ...         ...     ...   \n",
       "612  UNIMPROVED PARK    Park 598  ...        0           0       0   \n",
       "613          PENDING    Park 599  ...        0           0       0   \n",
       "614          PENDING    Park 600  ...        0           0       0   \n",
       "615          PENDING    Park 601  ...        0           0       0   \n",
       "616          PENDING    Park 602  ...        0           0       0   \n",
       "\n",
       "     MODELTRAIN  MODELYACHT  NATURE_BIR  MINIGOLF    PERIMETER   Shape_Leng  \\\n",
       "0             0           0           0         0  2672.326627  2672.326627   \n",
       "1             0           0           0         0  2484.283006  2484.283006   \n",
       "2             0           0           0         0  2878.428150  2878.428150   \n",
       "3             0           0           0         0  2462.607598  2462.607598   \n",
       "4             0           0           0         0  2777.375936  2777.375936   \n",
       "..          ...         ...         ...       ...          ...          ...   \n",
       "612           0           0           0         0     0.000000  1666.443596   \n",
       "613           0           0           0         0     0.000000   866.548849   \n",
       "614           0           0           0         0     0.000000  9516.957171   \n",
       "615           0           0           0         0     0.000000  5849.149219   \n",
       "616           0           0           0         0     0.000000   546.570335   \n",
       "\n",
       "       Shape_Area  \n",
       "0    4.303417e+05  \n",
       "1    3.910958e+05  \n",
       "2    4.970767e+05  \n",
       "3    3.856724e+05  \n",
       "4    4.351691e+05  \n",
       "..            ...  \n",
       "612  1.704695e+05  \n",
       "613  4.114226e+04  \n",
       "614  2.263572e+06  \n",
       "615  7.928250e+05  \n",
       "616  1.728805e+04  \n",
       "\n",
       "[617 rows x 81 columns]"
      ]
     },
     "execution_count": 36,
     "metadata": {},
     "output_type": "execute_result"
    }
   ],
   "source": [
    "off_chic"
   ]
  },
  {
   "cell_type": "markdown",
   "id": "3f212654-f3e9-4055-8da4-e2ff4a6ab77b",
   "metadata": {},
   "source": [
    "A previous question: might there be any duplicates in _off_chic_?\n",
    "\n",
    "To do so, what columns are we taken as a reference?\n",
    "\n",
    "Some options:\n",
    "\n",
    "a) Group by 'LABEL', get the \"size\" (the number of row when a cell matches a value) and sort_values(), so that the values should start and end by 1. "
   ]
  },
  {
   "cell_type": "code",
   "execution_count": 37,
   "id": "4d309e2f-af7f-4ffd-8bbb-212f57c232b5",
   "metadata": {},
   "outputs": [],
   "source": [
    "off_chic_2 = off_chic.groupby(off_chic['LABEL']).size().sort_values()"
   ]
  },
  {
   "cell_type": "markdown",
   "id": "e0730ae9-8fe1-4360-ab21-d190b468a899",
   "metadata": {},
   "source": [
    "b) making a copy of the dataset, dropping duplicates and comparing both datasets sizes."
   ]
  },
  {
   "cell_type": "code",
   "execution_count": 38,
   "id": "95f57bdc-4e1c-425b-9079-09d3f85b23eb",
   "metadata": {},
   "outputs": [
    {
     "data": {
      "text/plain": [
       "True"
      ]
     },
     "execution_count": 38,
     "metadata": {},
     "output_type": "execute_result"
    }
   ],
   "source": [
    "len(off_chic) == len (off_chic.drop_duplicates(subset ='LABEL'))"
   ]
  },
  {
   "cell_type": "markdown",
   "id": "8355273a-6be6-40b2-acd8-51d0f963bf9c",
   "metadata": {},
   "source": [
    "So (apart from some other ways), both datasets, _pato_ and _off_chic_, have no duplicates.\n",
    "\n",
    "Within this official dataset, each park row includes, among other columns:\n",
    "\n",
    "- A long park name, as 'PARK'\n",
    "- A short park name, as 'LABEL'\n",
    "- A similar 'WARD' code!\n",
    "    - So, we could link data about trees and wards, through parks.\n",
    "- Additional columns as\n",
    "    - 'ACRES' (it means, total are)\n",
    "    - 'PARK CLASS' -->??"
   ]
  },
  {
   "cell_type": "markdown",
   "id": "0eb01e39-ad4b-46e6-90c0-b700a6ff4480",
   "metadata": {},
   "source": [
    "Two main questions appear heare to check out the possible matching between _pato_ (the previous orderer parks tree list) and _chic_off_:\n",
    "\n",
    "1. Is the number of included parks the same (or similar) from _pato_ and _chic_off_?\n",
    "2. Are both datasets using same names for same parks?\n",
    "   - If not, how could we fix it?\n",
    "4. Can all of the parks (or most of them) be linked to a single ward?"
   ]
  },
  {
   "cell_type": "markdown",
   "id": "0b3672da-11ed-47dc-873d-f0b6b3565901",
   "metadata": {},
   "source": [
    "So, we will extract a subset only with the required columns, to work with them... but keeping the original subset."
   ]
  },
  {
   "cell_type": "markdown",
   "id": "0ad0c1f7-70c3-443b-95e6-031a88e9e2db",
   "metadata": {},
   "source": [
    "## Question 2.3.\n",
    "Is the number of included parks the same (or similar) from _pato_ and _chic_off_?"
   ]
  },
  {
   "cell_type": "code",
   "execution_count": 39,
   "id": "62b016d0-5072-4cc3-beb5-dd70c768f44c",
   "metadata": {},
   "outputs": [
    {
     "data": {
      "text/plain": [
       "446"
      ]
     },
     "execution_count": 39,
     "metadata": {},
     "output_type": "execute_result"
    }
   ],
   "source": [
    "len(pato)"
   ]
  },
  {
   "cell_type": "code",
   "execution_count": 40,
   "id": "027c908e-c949-4729-ac18-de0f34c4bf32",
   "metadata": {},
   "outputs": [
    {
     "data": {
      "text/plain": [
       "617"
      ]
     },
     "execution_count": 40,
     "metadata": {},
     "output_type": "execute_result"
    }
   ],
   "source": [
    "len (off_chic)"
   ]
  },
  {
   "cell_type": "code",
   "execution_count": 41,
   "id": "834e49d4-2ae8-4126-add4-c974d3318f6e",
   "metadata": {},
   "outputs": [
    {
     "data": {
      "text/plain": [
       "171"
      ]
     },
     "execution_count": 41,
     "metadata": {},
     "output_type": "execute_result"
    }
   ],
   "source": [
    "len (off_chic) - len(pato)"
   ]
  },
  {
   "cell_type": "code",
   "execution_count": 42,
   "id": "6984d901-7e06-45f5-bb6a-325c43c154de",
   "metadata": {},
   "outputs": [
    {
     "data": {
      "text/plain": [
       "0.7228525121555915"
      ]
     },
     "execution_count": 42,
     "metadata": {},
     "output_type": "execute_result"
    }
   ],
   "source": [
    "len(pato) / len (off_chic)"
   ]
  },
  {
   "attachments": {},
   "cell_type": "markdown",
   "id": "0053dcf5-0687-41d4-9350-70e063c2d3a7",
   "metadata": {},
   "source": [
    "__Statement__: our original dataset, _tl_ has only data about a 72% of the official Chicago parks.\n",
    "\n",
    "_(Remaining question: why? We only could answer this question by answering the next one. So we will try to fix this following question after, if possible._)"
   ]
  },
  {
   "cell_type": "markdown",
   "id": "a46573ad-a736-4447-8f5d-0dd6d9e03013",
   "metadata": {},
   "source": [
    "## Question 2.4. (Long!)\n",
    "\n",
    "(_WARNING: long answer!!_)\n",
    "Are both datasets using same names for same parks?\n",
    "\n",
    "If so, we could consider to merge _pato_ and _off_chic_, so that we could __merge__ parks names, wards and acres, using a same column (with a same column name!!)\n",
    "\r\n",
    "If not, how could we fix it\n"
   ]
  },
  {
   "cell_type": "markdown",
   "id": "f668d9f5-0b99-494f-ac30-b1ede18ab142",
   "metadata": {},
   "source": [
    "Because off_chic has too many columns, let's subset data using only the required columns:"
   ]
  },
  {
   "cell_type": "code",
   "execution_count": 43,
   "id": "28da9378-1a22-417c-afe6-ee0a2a388104",
   "metadata": {},
   "outputs": [],
   "source": [
    "short_off =  off_chic [ ['PARK' , 'LABEL', 'ACRES', 'WARD', 'PARK_CLASS'] ]"
   ]
  },
  {
   "cell_type": "code",
   "execution_count": 44,
   "id": "1b33b912-c423-4870-830e-4f20edb891c4",
   "metadata": {},
   "outputs": [
    {
     "data": {
      "text/html": [
       "<div>\n",
       "<style scoped>\n",
       "    .dataframe tbody tr th:only-of-type {\n",
       "        vertical-align: middle;\n",
       "    }\n",
       "\n",
       "    .dataframe tbody tr th {\n",
       "        vertical-align: top;\n",
       "    }\n",
       "\n",
       "    .dataframe thead th {\n",
       "        text-align: right;\n",
       "    }\n",
       "</style>\n",
       "<table border=\"1\" class=\"dataframe\">\n",
       "  <thead>\n",
       "    <tr style=\"text-align: right;\">\n",
       "      <th></th>\n",
       "      <th>PARK</th>\n",
       "      <th>LABEL</th>\n",
       "      <th>ACRES</th>\n",
       "      <th>WARD</th>\n",
       "      <th>PARK_CLASS</th>\n",
       "    </tr>\n",
       "  </thead>\n",
       "  <tbody>\n",
       "    <tr>\n",
       "      <th>0</th>\n",
       "      <td>MCGUANE (JOHN)</td>\n",
       "      <td>McGuane</td>\n",
       "      <td>10.30</td>\n",
       "      <td>11</td>\n",
       "      <td>COMMUNITY PARK</td>\n",
       "    </tr>\n",
       "    <tr>\n",
       "      <th>1</th>\n",
       "      <td>ARMOUR (PHILIP) SQUARE</td>\n",
       "      <td>Armour Sq</td>\n",
       "      <td>9.05</td>\n",
       "      <td>11</td>\n",
       "      <td>COMMUNITY PARK</td>\n",
       "    </tr>\n",
       "    <tr>\n",
       "      <th>2</th>\n",
       "      <td>FULLER (MELVILLE)</td>\n",
       "      <td>Fuller</td>\n",
       "      <td>11.31</td>\n",
       "      <td>3</td>\n",
       "      <td>COMMUNITY PARK</td>\n",
       "    </tr>\n",
       "    <tr>\n",
       "      <th>3</th>\n",
       "      <td>CORNELL (PAUL) SQUARE</td>\n",
       "      <td>Cornell Sq</td>\n",
       "      <td>8.80</td>\n",
       "      <td>20</td>\n",
       "      <td>COMMUNITY PARK</td>\n",
       "    </tr>\n",
       "    <tr>\n",
       "      <th>4</th>\n",
       "      <td>RUSSELL (MARTIN) SQUARE</td>\n",
       "      <td>Russell Sq</td>\n",
       "      <td>10.05</td>\n",
       "      <td>10</td>\n",
       "      <td>COMMUNITY PARK</td>\n",
       "    </tr>\n",
       "  </tbody>\n",
       "</table>\n",
       "</div>"
      ],
      "text/plain": [
       "                      PARK       LABEL  ACRES  WARD      PARK_CLASS\n",
       "0           MCGUANE (JOHN)     McGuane  10.30    11  COMMUNITY PARK\n",
       "1   ARMOUR (PHILIP) SQUARE   Armour Sq   9.05    11  COMMUNITY PARK\n",
       "2        FULLER (MELVILLE)      Fuller  11.31     3  COMMUNITY PARK\n",
       "3    CORNELL (PAUL) SQUARE  Cornell Sq   8.80    20  COMMUNITY PARK\n",
       "4  RUSSELL (MARTIN) SQUARE  Russell Sq  10.05    10  COMMUNITY PARK"
      ]
     },
     "execution_count": 44,
     "metadata": {},
     "output_type": "execute_result"
    }
   ],
   "source": [
    "short_off.head(5)"
   ]
  },
  {
   "cell_type": "markdown",
   "id": "823d79ca-2eda-46ef-ab7f-f7f176381fb9",
   "metadata": {},
   "source": [
    "After a careful review, it might happened that the contents of these two column from different dataset might match:\n",
    "- column `address`, from _pato_\n",
    "- column `label`, from _short_off_\n",
    "\n",
    "We could try to merge both columns, name. We will use the narrower dataset, _park_names_, as a beginning.\n",
    "    - But first, we need to make sure that both names are the same."
   ]
  },
  {
   "cell_type": "code",
   "execution_count": 45,
   "id": "a09b93e2-be93-4203-8810-93070d1c7c72",
   "metadata": {},
   "outputs": [],
   "source": [
    "park_names = pato.copy()"
   ]
  },
  {
   "cell_type": "code",
   "execution_count": 46,
   "id": "cf81e820-4a3e-4b44-b5a3-1b880c03d52c",
   "metadata": {},
   "outputs": [],
   "source": [
    "park_names.rename(columns={\"address\":\"LABEL\"}, inplace=True)"
   ]
  },
  {
   "attachments": {},
   "cell_type": "markdown",
   "id": "53cd9148-0426-4a18-a676-3537501dbd0f",
   "metadata": {},
   "source": [
    "And now, try to merge both datasets, but not all the columns. We only need to review columns LABEL and PARK from off_\n",
    "\n"
   ]
  },
  {
   "cell_type": "code",
   "execution_count": 47,
   "id": "cbe206af-3c29-4491-beac-96580f7b5e1b",
   "metadata": {},
   "outputs": [],
   "source": [
    "compare_parks = pd.merge(park_names,short_off,on='LABEL')"
   ]
  },
  {
   "cell_type": "code",
   "execution_count": 48,
   "id": "5391e851-a465-405a-873e-6f983d9ab8ce",
   "metadata": {},
   "outputs": [
    {
     "data": {
      "text/html": [
       "<div>\n",
       "<style scoped>\n",
       "    .dataframe tbody tr th:only-of-type {\n",
       "        vertical-align: middle;\n",
       "    }\n",
       "\n",
       "    .dataframe tbody tr th {\n",
       "        vertical-align: top;\n",
       "    }\n",
       "\n",
       "    .dataframe thead th {\n",
       "        text-align: right;\n",
       "    }\n",
       "</style>\n",
       "<table border=\"1\" class=\"dataframe\">\n",
       "  <thead>\n",
       "    <tr style=\"text-align: right;\">\n",
       "      <th></th>\n",
       "      <th>LABEL</th>\n",
       "      <th>trees</th>\n",
       "      <th>PARK</th>\n",
       "      <th>ACRES</th>\n",
       "      <th>WARD</th>\n",
       "      <th>PARK_CLASS</th>\n",
       "    </tr>\n",
       "  </thead>\n",
       "  <tbody>\n",
       "    <tr>\n",
       "      <th>0</th>\n",
       "      <td>Lincoln</td>\n",
       "      <td>3508</td>\n",
       "      <td>LINCOLN (ABRAHAM)</td>\n",
       "      <td>1209.98</td>\n",
       "      <td>0</td>\n",
       "      <td>MAGNET PARK</td>\n",
       "    </tr>\n",
       "    <tr>\n",
       "      <th>1</th>\n",
       "      <td>Burnham</td>\n",
       "      <td>1912</td>\n",
       "      <td>BURNHAM (DANIEL)</td>\n",
       "      <td>657.83</td>\n",
       "      <td>0</td>\n",
       "      <td>MAGNET PARK</td>\n",
       "    </tr>\n",
       "    <tr>\n",
       "      <th>2</th>\n",
       "      <td>Garfield</td>\n",
       "      <td>1854</td>\n",
       "      <td>GARFIELD (JAMES)</td>\n",
       "      <td>175.90</td>\n",
       "      <td>28</td>\n",
       "      <td>CITYWIDE PARK</td>\n",
       "    </tr>\n",
       "    <tr>\n",
       "      <th>3</th>\n",
       "      <td>Humboldt</td>\n",
       "      <td>1752</td>\n",
       "      <td>HUMBOLDT (BARON VON)</td>\n",
       "      <td>210.85</td>\n",
       "      <td>26</td>\n",
       "      <td>CITYWIDE PARK</td>\n",
       "    </tr>\n",
       "    <tr>\n",
       "      <th>4</th>\n",
       "      <td>Grant</td>\n",
       "      <td>1582</td>\n",
       "      <td>GRANT (ULYSSES)</td>\n",
       "      <td>295.45</td>\n",
       "      <td>0</td>\n",
       "      <td>MAGNET PARK</td>\n",
       "    </tr>\n",
       "    <tr>\n",
       "      <th>...</th>\n",
       "      <td>...</td>\n",
       "      <td>...</td>\n",
       "      <td>...</td>\n",
       "      <td>...</td>\n",
       "      <td>...</td>\n",
       "      <td>...</td>\n",
       "    </tr>\n",
       "    <tr>\n",
       "      <th>340</th>\n",
       "      <td>Evergreen</td>\n",
       "      <td>1</td>\n",
       "      <td>EVERGREEN</td>\n",
       "      <td>0.15</td>\n",
       "      <td>44</td>\n",
       "      <td>MINI-PARK</td>\n",
       "    </tr>\n",
       "    <tr>\n",
       "      <th>341</th>\n",
       "      <td>Brynford</td>\n",
       "      <td>1</td>\n",
       "      <td>BRYNFORD</td>\n",
       "      <td>0.15</td>\n",
       "      <td>39</td>\n",
       "      <td>MINI-PARK</td>\n",
       "    </tr>\n",
       "    <tr>\n",
       "      <th>342</th>\n",
       "      <td>Western</td>\n",
       "      <td>1</td>\n",
       "      <td>WESTERN</td>\n",
       "      <td>0.28</td>\n",
       "      <td>1</td>\n",
       "      <td>MINI-PARK</td>\n",
       "    </tr>\n",
       "    <tr>\n",
       "      <th>343</th>\n",
       "      <td>Park 588</td>\n",
       "      <td>1</td>\n",
       "      <td>PARK NO. 588</td>\n",
       "      <td>0.23</td>\n",
       "      <td>9</td>\n",
       "      <td>MINI-PARK</td>\n",
       "    </tr>\n",
       "    <tr>\n",
       "      <th>344</th>\n",
       "      <td>Fosco</td>\n",
       "      <td>1</td>\n",
       "      <td>FOSCO (PETER)</td>\n",
       "      <td>3.76</td>\n",
       "      <td>25</td>\n",
       "      <td>NEIGHBORHOOD PARK</td>\n",
       "    </tr>\n",
       "  </tbody>\n",
       "</table>\n",
       "<p>345 rows × 6 columns</p>\n",
       "</div>"
      ],
      "text/plain": [
       "         LABEL  trees                  PARK    ACRES  WARD         PARK_CLASS\n",
       "0      Lincoln   3508     LINCOLN (ABRAHAM)  1209.98     0        MAGNET PARK\n",
       "1      Burnham   1912      BURNHAM (DANIEL)   657.83     0        MAGNET PARK\n",
       "2     Garfield   1854      GARFIELD (JAMES)   175.90    28      CITYWIDE PARK\n",
       "3     Humboldt   1752  HUMBOLDT (BARON VON)   210.85    26      CITYWIDE PARK\n",
       "4        Grant   1582       GRANT (ULYSSES)   295.45     0        MAGNET PARK\n",
       "..         ...    ...                   ...      ...   ...                ...\n",
       "340  Evergreen      1             EVERGREEN     0.15    44          MINI-PARK\n",
       "341   Brynford      1              BRYNFORD     0.15    39          MINI-PARK\n",
       "342    Western      1               WESTERN     0.28     1          MINI-PARK\n",
       "343   Park 588      1          PARK NO. 588     0.23     9          MINI-PARK\n",
       "344      Fosco      1         FOSCO (PETER)     3.76    25  NEIGHBORHOOD PARK\n",
       "\n",
       "[345 rows x 6 columns]"
      ]
     },
     "execution_count": 48,
     "metadata": {},
     "output_type": "execute_result"
    }
   ],
   "source": [
    "compare_parks"
   ]
  },
  {
   "cell_type": "markdown",
   "id": "301f4a4a-fb73-48a2-b2ba-43155b90dc62",
   "metadata": {},
   "source": [
    "So:\n",
    "- There were:\n",
    "    - 617 name parks in _off_chic_park_\n",
    "    - 446 name parks in _park_names_\n",
    "    - 345 name parks when we merge all of them...\n",
    "\n",
    "- It means:\n",
    "    - There might be a maximum of 101 parks in _park_names_ not matching yet\n",
    "    - And, if we find all these names, there still might be 617-446= 171 parks not included in the original list. \n"
   ]
  },
  {
   "cell_type": "markdown",
   "id": "3d6c1400-3ae7-48a7-a25e-d70331e9b3e8",
   "metadata": {},
   "source": [
    "What is the list of not included _park_names_ into _off_chic_park_?"
   ]
  },
  {
   "cell_type": "code",
   "execution_count": 49,
   "id": "71ba7c75-97ca-45ea-9d8a-ace96423aad7",
   "metadata": {},
   "outputs": [],
   "source": [
    "out = park_names[~park_names['LABEL'].isin(short_off['LABEL'])]"
   ]
  },
  {
   "cell_type": "code",
   "execution_count": 50,
   "id": "a5ffaddd-03c9-4cb1-897f-4092f40e1125",
   "metadata": {},
   "outputs": [
    {
     "name": "stdout",
     "output_type": "stream",
     "text": [
      "<class 'pandas.core.frame.DataFrame'>\n",
      "Index: 101 entries, 418 to 328\n",
      "Data columns (total 2 columns):\n",
      " #   Column  Non-Null Count  Dtype \n",
      "---  ------  --------------  ----- \n",
      " 0   LABEL   101 non-null    object\n",
      " 1   trees   101 non-null    int64 \n",
      "dtypes: int64(1), object(1)\n",
      "memory usage: 2.4+ KB\n"
     ]
    }
   ],
   "source": [
    "out.info()"
   ]
  },
  {
   "cell_type": "code",
   "execution_count": 51,
   "id": "d58681a5-cd96-4765-9762-8655e8778691",
   "metadata": {},
   "outputs": [],
   "source": [
    "o1 = out['LABEL'].to_list()"
   ]
  },
  {
   "cell_type": "code",
   "execution_count": 52,
   "id": "d6be0a0a-af78-47c9-a2db-9791d2089346",
   "metadata": {},
   "outputs": [
    {
     "name": "stdout",
     "output_type": "stream",
     "text": [
      "['Washington, George', 'Douglas', 'Jackson, Andrew', 'Washington, Harold', 'Russell Square', 'LaFollette', 'North Park Nature Center', 'Clark, Richard', 'Brown Memorial', 'Park 503', 'Washington Harold', 'Palmer Square', 'Stone, Bernard (Pk 526)', 'Brooks, Oscar', 'Wilson, Frank', 'Fernwood Parkway', 'Clarendon', 'North Park Village NC', 'Davis Square', 'Major Taylor Trail', 'Cornell Square', 'Dixon, Lorraine', 'LeClaire-Hearst', 'Robinson, Jackie', 'Major Tailor Trail', 'Armour Square', 'Smith, Joseph H.', 'Jefferson Memorial', 'Brooks, Gwendolyn', 'Jackson, Mahalia', 'Taylor, Robert', 'King, ML Center', 'Field, Eugene', 'Stout, Florence', 'Museum Campus', 'Stateway Park', 'Adams, John C.', 'Smith, Wendell', 'Harris, Ryan', 'Touhy-Herbert', 'Grandparents', 'Beverly Ridge', 'Eugene Field', 'Jackson', 'Houston, Ma', 'Kenwood', 'White, Edward', 'Daley, Maggie', 'Brooks', 'Kelly, John', 'Kelly, Edward', 'Hansberry, Lorraine', 'Jefferson', 'Wang, Chi Che', 'Austin-Foster', 'Jefferson, Thomas', 'Williams (Daniel Hael)', 'Taylor Lauridsen', 'Burnham Wildlife Cor.', 'Wilson, John', 'Rutherford-Sayre', 'Washington Square', 'Kucinski-Murphy', 'Kosciusko', 'Ehrler', 'Homan Square', 'Adams/Dobson', 'South Shore Cult. Cent.', 'Cole, Nat King', 'West Pullman Park', \"Veteran's Memorial\", \"Grandparent's\", 'Greenbaum', 'King, ML', 'Canalport', 'Zatterburg', 'Clark, John', 'Logan Square DFA', 'Green, Jeffery', 'Battle of  Ft. Dearborn', 'Triangle (Park 518)', 'Harding, Frederick', 'Washington, Dinah', 'Catalpa', 'Wood', 'Womens', 'Skinner DFA', 'Parkview', 'Dejulio', 'Bartelme, Mary', 'Harris, Harriet', 'Juneway', 'Addams, Jane', 'Adams, George & Adele', 'Senior Citizens Memorial', 'Ward, Montgomery', 'Park 489', 'Unioin', 'Park 542', 'Goudy Square', 'Ping Tom']\n"
     ]
    }
   ],
   "source": [
    "print (o1)"
   ]
  },
  {
   "cell_type": "code",
   "execution_count": 53,
   "id": "7bdb7c2b-9293-4ea2-86e1-d2b36854776a",
   "metadata": {},
   "outputs": [],
   "source": [
    "out2 = off_chic[~off_chic['LABEL'].isin(park_names['LABEL'])]"
   ]
  },
  {
   "cell_type": "code",
   "execution_count": 54,
   "id": "44641fd2-fd41-431d-bf34-184b6923bbaa",
   "metadata": {},
   "outputs": [
    {
     "name": "stdout",
     "output_type": "stream",
     "text": [
      "<class 'pandas.core.frame.DataFrame'>\n",
      "Index: 272 entries, 1 to 616\n",
      "Data columns (total 81 columns):\n",
      " #   Column      Non-Null Count  Dtype  \n",
      "---  ------      --------------  -----  \n",
      " 0   the_geom    272 non-null    object \n",
      " 1   OBJECTID_1  272 non-null    int64  \n",
      " 2   PARK_NO     272 non-null    int64  \n",
      " 3   PARK        272 non-null    object \n",
      " 4   LOCATION    271 non-null    object \n",
      " 5   ZIP         267 non-null    float64\n",
      " 6   ACRES       272 non-null    float64\n",
      " 7   WARD        272 non-null    int64  \n",
      " 8   PARK_CLASS  272 non-null    object \n",
      " 9   LABEL       272 non-null    object \n",
      " 10  GISOBJID    272 non-null    int64  \n",
      " 11  WHEELCHR_A  272 non-null    int64  \n",
      " 12  ARCHERY_RA  272 non-null    int64  \n",
      " 13  ARTIFICIAL  272 non-null    int64  \n",
      " 14  BAND_SHELL  272 non-null    int64  \n",
      " 15  BASEBALL_B  272 non-null    int64  \n",
      " 16  BASKETBALL  272 non-null    int64  \n",
      " 17  BASKETBA_1  272 non-null    int64  \n",
      " 18  BEACH       272 non-null    int64  \n",
      " 19  BOAT_LAUNC  272 non-null    int64  \n",
      " 20  BOAT_LAU_1  272 non-null    int64  \n",
      " 21  BOAT_SLIPS  272 non-null    int64  \n",
      " 22  BOCCE_COUR  272 non-null    int64  \n",
      " 23  BOWLING_GR  272 non-null    int64  \n",
      " 24  CASTING_PI  272 non-null    int64  \n",
      " 25  FOOTBALL_S  272 non-null    int64  \n",
      " 26  COMMUNITY_  272 non-null    int64  \n",
      " 27  CONSERVATO  272 non-null    int64  \n",
      " 28  CULTURAL_C  272 non-null    int64  \n",
      " 29  DOG_FRIEND  272 non-null    int64  \n",
      " 30  FITNESS_CE  272 non-null    int64  \n",
      " 31  FITNESS_CO  272 non-null    int64  \n",
      " 32  GALLERY     272 non-null    int64  \n",
      " 33  GARDEN      272 non-null    int64  \n",
      " 34  GOLF_COURS  272 non-null    int64  \n",
      " 35  GOLF_DRIVI  272 non-null    int64  \n",
      " 36  GOLF_PUTTI  272 non-null    int64  \n",
      " 37  GYMNASIUM   272 non-null    int64  \n",
      " 38  GYMNASTIC_  272 non-null    int64  \n",
      " 39  HANDBALL_R  272 non-null    int64  \n",
      " 40  HORSESHOE_  272 non-null    int64  \n",
      " 41  ICESKATING  272 non-null    int64  \n",
      " 42  POOL_INDOO  272 non-null    int64  \n",
      " 43  BASEBALL_J  272 non-null    int64  \n",
      " 44  MOUNTAIN_B  272 non-null    int64  \n",
      " 45  NATURE_CEN  272 non-null    int64  \n",
      " 46  POOL_OUTDO  272 non-null    int64  \n",
      " 47  ZOO         272 non-null    int64  \n",
      " 48  PLAYGROUND  272 non-null    int64  \n",
      " 49  PLAYGROU_1  272 non-null    int64  \n",
      " 50  ROWING_CLU  272 non-null    int64  \n",
      " 51  VOLLEYBALL  272 non-null    int64  \n",
      " 52  SENIOR_CEN  272 non-null    int64  \n",
      " 53  SHUFFLEBOA  272 non-null    int64  \n",
      " 54  SKATE_PARK  272 non-null    int64  \n",
      " 55  SLED_HILL   272 non-null    int64  \n",
      " 56  SPORT_ROLL  272 non-null    int64  \n",
      " 57  SPRAY_FEAT  272 non-null    int64  \n",
      " 58  BASEBALL_S  272 non-null    int64  \n",
      " 59  TENNIS_COU  272 non-null    int64  \n",
      " 60  TRACK       272 non-null    int64  \n",
      " 61  VOLLEYBA_1  272 non-null    int64  \n",
      " 62  WATER_PLAY  272 non-null    int64  \n",
      " 63  WATER_SLID  272 non-null    int64  \n",
      " 64  BOXING_CEN  272 non-null    int64  \n",
      " 65  WETLAND_AR  272 non-null    int64  \n",
      " 66  LAGOON      272 non-null    int64  \n",
      " 67  CRICKET_FI  272 non-null    int64  \n",
      " 68  CLIMBING_W  272 non-null    int64  \n",
      " 69  GAME_TABLE  272 non-null    int64  \n",
      " 70  CAROUSEL    272 non-null    int64  \n",
      " 71  CROQUET     272 non-null    int64  \n",
      " 72  HANDBALL_I  272 non-null    int64  \n",
      " 73  HARBOR      272 non-null    int64  \n",
      " 74  MODELTRAIN  272 non-null    int64  \n",
      " 75  MODELYACHT  272 non-null    int64  \n",
      " 76  NATURE_BIR  272 non-null    int64  \n",
      " 77  MINIGOLF    272 non-null    int64  \n",
      " 78  PERIMETER   272 non-null    float64\n",
      " 79  Shape_Leng  272 non-null    float64\n",
      " 80  Shape_Area  272 non-null    float64\n",
      "dtypes: float64(5), int64(71), object(5)\n",
      "memory usage: 174.2+ KB\n"
     ]
    }
   ],
   "source": [
    "out2.info()"
   ]
  },
  {
   "cell_type": "code",
   "execution_count": 55,
   "id": "069e4999-6dc5-4114-84d8-4663c6140092",
   "metadata": {},
   "outputs": [],
   "source": [
    "o2 = out2['LABEL'].to_list()"
   ]
  },
  {
   "cell_type": "code",
   "execution_count": 56,
   "id": "21d87b82-9d3b-452e-bfe6-c6ee1b84d999",
   "metadata": {},
   "outputs": [],
   "source": [
    "o2.sort()"
   ]
  },
  {
   "cell_type": "code",
   "execution_count": 57,
   "id": "3c83d5b1-c8c1-4bdb-b71f-ec77c290f1ba",
   "metadata": {},
   "outputs": [
    {
     "name": "stdout",
     "output_type": "stream",
     "text": [
      "['Adams (George & Adele)', 'Adams (John)', 'Addams (Jane)', \"Addams (Jane) Mem'l\", 'Anderson (Fred)', 'Anderson (Louis)', 'Andersonville', 'Armour Sq', 'Ashmore', 'Aspen', 'Aster', 'Austin Foster', 'Avondale', 'Baraga', 'Barberry', 'Barrett', 'Battle of Fort Dearborn', 'Beehive', 'Bickerdike Sq', 'Birch', 'Bloomingdale Trail', 'Boswell', 'Broncho Billy', 'Brooks (Gwendolyn)', 'Brooks (Oscar)', \"Brown Mem'l\", 'Buffalo', 'Byrnes', 'Canal Origins', 'Canalport Riverwalk', 'Carmen', 'Carpenter', 'Cedar', 'Central', 'Chamberlain Triangle', \"Chicago Women's\", 'Clarendon CC', 'Clark (John)', 'Clark (Richard)', 'Clover', 'Cochran', 'Cole', 'Coleman', 'Commercial Club', 'Connors', 'Cornell Sq', 'Cottonwood', 'Crawford', 'Curie', \"D'Elia\", 'Daley', 'Davis (Margaret)', 'Davis (Nathan) Sq', 'De Burgos', 'DeBow', 'DeGeorge', 'DeJulio', 'Dixon', 'Dobson', 'Dogwood', 'Donahue', 'Donovan', 'Doria Beach', 'Douglass', 'Drexel', 'DuSable', 'Dubkin', 'Edmonds', 'Emerald', 'Essex', 'Eugenie Triangle', 'Fargo Beach', 'Fernwood Pkwy', 'Field', 'Filbert', 'Flower', 'Flying Squirrel', 'Forest Glen', 'Ginkgo', 'Gladys', 'Goudy Sq', \"Grandparents'\", 'Grape', 'Green', 'Greenebaum', 'Griffin', 'Hansberry', 'Harding (Frederick)', 'Harding (George)', 'Harris (Harriet)', \"Harris (Ryan) Mem'l\", 'Harsh', 'Hegewisch Marsh', 'Homan', 'Homan Sq CC', 'Honeysuckle', 'Honoré Palmer', 'Houston', 'Huckleberry', 'Hurley', 'Jackson (Andrew)', 'Jackson (Mahalia)', 'Jackson (Robert)', 'Jacob', 'Jefferson (Nancy)', 'Jefferson (Thomas)', \"Jefferson (Thomas) Mem'l\", 'Jones', 'Junction Grove', 'Juneway Beach', 'Kedvale', 'Keeler', 'Kelly (Edward)', 'Kelly (John)', 'Kenmore', 'Kenwood Comm.', 'Keystone', 'King', 'King- Lockhart', 'Klein', 'Kucinski- Murphy', 'Kujawa', 'La Follette', 'Lazarus', 'Le Claire- Hearst', 'Lee', 'Lin', 'Livingston Field', 'Logan Sq Skate Park', 'Luna', 'Lyle', 'Madigan', 'Magnolia', 'Major Taylor Bike Trail', 'Maple', 'Mariano', 'Mellin', 'Merryman', 'Mid-North', 'Millard', 'Miller', 'Montgomery', 'Montgomery Ward', 'Monticello', 'Morgan Park Sports Ctr', 'Mulberry Point', 'Nash CC', \"Neighbors' Garden\", 'Nelson', 'Noethling', 'North Boundary', 'North Mayfair', 'North Park Nature Ctr', 'North Shore Beach', \"O'Hallaren\", 'Oakley', 'Ogden Plaza', 'Ohio', 'Ohio & Harding', 'Packingtown', 'Palmer Sq', 'Park 326', 'Park 382', 'Park 419', 'Park 432', 'Park 437', 'Park 468', 'Park 474', 'Park 512', 'Park 514', 'Park 517', 'Park 519', 'Park 527', 'Park 528', 'Park 529', 'Park 535', 'Park 536', 'Park 546', 'Park 552', 'Park 559', 'Park 565', 'Park 566', 'Park 567', 'Park 569', 'Park 571', 'Park 573', 'Park 576', 'Park 580', 'Park 582', 'Park 583', 'Park 584', 'Park 585', 'Park 586', 'Park 589', 'Park 593', 'Park 594', 'Park 595', 'Park 596', 'Park 597', 'Park 598', 'Park 599', 'Park 600', 'Park 601', 'Park 602', 'Park West', 'Park-View', 'Paschen', 'Pendleton', 'Pietrowski', 'Pine', \"Ping Tom Mem'l\", 'Poplar', 'Prairie Wolf', 'Printers Row', 'Prinz Beach', 'Privet', 'Quinn', 'Renaissance', 'Reyes', 'Ridge Park Wetlands', 'River Esplanade', 'Robinson', 'Ruiz', 'Russell Sq', 'Saint Louis', 'Sauganash Trail', 'Schaefer', 'Schafer', 'Seneca', \"Senior Citizens Mem'l\", 'Sheil CC', 'Sintic', 'Smith (Joseph Higgins)', 'Smith (Wendell)', 'Snapping Turtle', 'Snowberry', 'South Shore CC', 'Stars & Stripes', 'Stateway', 'Stone', 'Stout', 'Sumac', 'Summerdale', 'Sun Yat-Sen', 'Supera', 'Sweet Clover', 'Taylor', 'Taylor- Lauridsen', 'Touhy- Herbert', 'Trebes', \"Veterans' Mem'l\", 'Violet', 'Vogle', 'Wang', 'Warner Garden', 'Washington (Dinah)', 'Washington (George)', 'Washington (Harold)', \"Washington (Harold) Mem'l\", 'Washington Sq', 'Wendt', 'Wentworth Gardens', 'Wesolek', 'West Ridge', 'White (Edward)', 'White (Jesse)', 'White (Willye)', 'Williams- Davis', 'Wilson (Frank)', 'Wilson (John)', 'Wilson (John) CC', 'Zatterberg']\n"
     ]
    }
   ],
   "source": [
    "print (o2)"
   ]
  },
  {
   "cell_type": "markdown",
   "id": "47551199-54d8-414c-a262-c7befdae0f61",
   "metadata": {},
   "source": [
    "Possible reason 1: there are different ways to separate words:\n",
    "- _park_names uses_ \",\" (comma) as a separator...\n",
    "- ... when _short_off_ uses \"(  )\" as separator...\n",
    "\n",
    "So, could we create a new \"common\" field inside each set, by:\n",
    "    - duplicating the \"LABEL\" column as \"ALIAS\"\n",
    "    - then, wiping out all these separators.\n",
    "\n",
    "For _park_names_:\n",
    "\n",
    "We are naming the new column, and we use the \"=\" operator (WARNING, not \"==\". Because 'ALIAS' didn't exist before, it is now created."
   ]
  },
  {
   "cell_type": "code",
   "execution_count": 58,
   "id": "f657b9da-ff15-4a36-860c-5271cba44a61",
   "metadata": {},
   "outputs": [],
   "source": [
    "park_names['ALIAS'] = park_names['LABEL']"
   ]
  },
  {
   "cell_type": "code",
   "execution_count": 59,
   "id": "a7b67086-af71-4099-80bf-46f8ebf5865f",
   "metadata": {},
   "outputs": [
    {
     "data": {
      "text/html": [
       "<div>\n",
       "<style scoped>\n",
       "    .dataframe tbody tr th:only-of-type {\n",
       "        vertical-align: middle;\n",
       "    }\n",
       "\n",
       "    .dataframe tbody tr th {\n",
       "        vertical-align: top;\n",
       "    }\n",
       "\n",
       "    .dataframe thead th {\n",
       "        text-align: right;\n",
       "    }\n",
       "</style>\n",
       "<table border=\"1\" class=\"dataframe\">\n",
       "  <thead>\n",
       "    <tr style=\"text-align: right;\">\n",
       "      <th></th>\n",
       "      <th>LABEL</th>\n",
       "      <th>trees</th>\n",
       "      <th>ALIAS</th>\n",
       "    </tr>\n",
       "  </thead>\n",
       "  <tbody>\n",
       "    <tr>\n",
       "      <th>234</th>\n",
       "      <td>Lincoln</td>\n",
       "      <td>3508</td>\n",
       "      <td>Lincoln</td>\n",
       "    </tr>\n",
       "    <tr>\n",
       "      <th>58</th>\n",
       "      <td>Burnham</td>\n",
       "      <td>1912</td>\n",
       "      <td>Burnham</td>\n",
       "    </tr>\n",
       "    <tr>\n",
       "      <th>130</th>\n",
       "      <td>Garfield</td>\n",
       "      <td>1854</td>\n",
       "      <td>Garfield</td>\n",
       "    </tr>\n",
       "    <tr>\n",
       "      <th>182</th>\n",
       "      <td>Humboldt</td>\n",
       "      <td>1752</td>\n",
       "      <td>Humboldt</td>\n",
       "    </tr>\n",
       "    <tr>\n",
       "      <th>144</th>\n",
       "      <td>Grant</td>\n",
       "      <td>1582</td>\n",
       "      <td>Grant</td>\n",
       "    </tr>\n",
       "    <tr>\n",
       "      <th>418</th>\n",
       "      <td>Washington, George</td>\n",
       "      <td>1294</td>\n",
       "      <td>Washington, George</td>\n",
       "    </tr>\n",
       "    <tr>\n",
       "      <th>250</th>\n",
       "      <td>Marquette</td>\n",
       "      <td>1242</td>\n",
       "      <td>Marquette</td>\n",
       "    </tr>\n",
       "    <tr>\n",
       "      <th>101</th>\n",
       "      <td>Douglas</td>\n",
       "      <td>1110</td>\n",
       "      <td>Douglas</td>\n",
       "    </tr>\n",
       "    <tr>\n",
       "      <th>261</th>\n",
       "      <td>McKinley</td>\n",
       "      <td>795</td>\n",
       "      <td>McKinley</td>\n",
       "    </tr>\n",
       "    <tr>\n",
       "      <th>64</th>\n",
       "      <td>Calumet</td>\n",
       "      <td>750</td>\n",
       "      <td>Calumet</td>\n",
       "    </tr>\n",
       "  </tbody>\n",
       "</table>\n",
       "</div>"
      ],
      "text/plain": [
       "                  LABEL  trees               ALIAS\n",
       "234             Lincoln   3508             Lincoln\n",
       "58              Burnham   1912             Burnham\n",
       "130            Garfield   1854            Garfield\n",
       "182            Humboldt   1752            Humboldt\n",
       "144               Grant   1582               Grant\n",
       "418  Washington, George   1294  Washington, George\n",
       "250           Marquette   1242           Marquette\n",
       "101             Douglas   1110             Douglas\n",
       "261            McKinley    795            McKinley\n",
       "64              Calumet    750             Calumet"
      ]
     },
     "execution_count": 59,
     "metadata": {},
     "output_type": "execute_result"
    }
   ],
   "source": [
    "park_names.head(10)"
   ]
  },
  {
   "cell_type": "markdown",
   "id": "525c2233-19fa-4ca5-bbc8-eff0ed159ba8",
   "metadata": {},
   "source": [
    "And them, we remove \",\", \"(\", \")\", \"/\", \"&\" and \"-\", as we have found on the first and last 90 rows."
   ]
  },
  {
   "cell_type": "code",
   "execution_count": 60,
   "id": "1bbc0140-6ae4-4867-a05b-a68d6a93e19c",
   "metadata": {},
   "outputs": [],
   "source": [
    "park_names['ALIAS'] = park_names['ALIAS'].str.replace(',','').str.replace('(','').str.replace(')','').str.replace('/','').str.replace('&','').str.replace('-','')"
   ]
  },
  {
   "cell_type": "code",
   "execution_count": 61,
   "id": "9244143f-35f3-47bd-9cc3-1d0d4bbb4610",
   "metadata": {},
   "outputs": [
    {
     "data": {
      "text/html": [
       "<div>\n",
       "<style scoped>\n",
       "    .dataframe tbody tr th:only-of-type {\n",
       "        vertical-align: middle;\n",
       "    }\n",
       "\n",
       "    .dataframe tbody tr th {\n",
       "        vertical-align: top;\n",
       "    }\n",
       "\n",
       "    .dataframe thead th {\n",
       "        text-align: right;\n",
       "    }\n",
       "</style>\n",
       "<table border=\"1\" class=\"dataframe\">\n",
       "  <thead>\n",
       "    <tr style=\"text-align: right;\">\n",
       "      <th></th>\n",
       "      <th>LABEL</th>\n",
       "      <th>trees</th>\n",
       "      <th>ALIAS</th>\n",
       "    </tr>\n",
       "  </thead>\n",
       "  <tbody>\n",
       "    <tr>\n",
       "      <th>234</th>\n",
       "      <td>Lincoln</td>\n",
       "      <td>3508</td>\n",
       "      <td>Lincoln</td>\n",
       "    </tr>\n",
       "    <tr>\n",
       "      <th>58</th>\n",
       "      <td>Burnham</td>\n",
       "      <td>1912</td>\n",
       "      <td>Burnham</td>\n",
       "    </tr>\n",
       "    <tr>\n",
       "      <th>130</th>\n",
       "      <td>Garfield</td>\n",
       "      <td>1854</td>\n",
       "      <td>Garfield</td>\n",
       "    </tr>\n",
       "    <tr>\n",
       "      <th>182</th>\n",
       "      <td>Humboldt</td>\n",
       "      <td>1752</td>\n",
       "      <td>Humboldt</td>\n",
       "    </tr>\n",
       "    <tr>\n",
       "      <th>144</th>\n",
       "      <td>Grant</td>\n",
       "      <td>1582</td>\n",
       "      <td>Grant</td>\n",
       "    </tr>\n",
       "    <tr>\n",
       "      <th>418</th>\n",
       "      <td>Washington, George</td>\n",
       "      <td>1294</td>\n",
       "      <td>Washington George</td>\n",
       "    </tr>\n",
       "    <tr>\n",
       "      <th>250</th>\n",
       "      <td>Marquette</td>\n",
       "      <td>1242</td>\n",
       "      <td>Marquette</td>\n",
       "    </tr>\n",
       "    <tr>\n",
       "      <th>101</th>\n",
       "      <td>Douglas</td>\n",
       "      <td>1110</td>\n",
       "      <td>Douglas</td>\n",
       "    </tr>\n",
       "    <tr>\n",
       "      <th>261</th>\n",
       "      <td>McKinley</td>\n",
       "      <td>795</td>\n",
       "      <td>McKinley</td>\n",
       "    </tr>\n",
       "    <tr>\n",
       "      <th>64</th>\n",
       "      <td>Calumet</td>\n",
       "      <td>750</td>\n",
       "      <td>Calumet</td>\n",
       "    </tr>\n",
       "  </tbody>\n",
       "</table>\n",
       "</div>"
      ],
      "text/plain": [
       "                  LABEL  trees              ALIAS\n",
       "234             Lincoln   3508            Lincoln\n",
       "58              Burnham   1912            Burnham\n",
       "130            Garfield   1854           Garfield\n",
       "182            Humboldt   1752           Humboldt\n",
       "144               Grant   1582              Grant\n",
       "418  Washington, George   1294  Washington George\n",
       "250           Marquette   1242          Marquette\n",
       "101             Douglas   1110            Douglas\n",
       "261            McKinley    795           McKinley\n",
       "64              Calumet    750            Calumet"
      ]
     },
     "execution_count": 61,
     "metadata": {},
     "output_type": "execute_result"
    }
   ],
   "source": [
    "park_names.head(10)"
   ]
  },
  {
   "cell_type": "markdown",
   "id": "357c6884-5832-43db-a65d-bcd34f5064a8",
   "metadata": {},
   "source": [
    "We repeat the same operations for _short_off_:\n",
    "\n",
    "We are naming the new column, and we use the \"=\" operator (WARNING, not \"==\". Because 'ALIAS' didn't exist before, it is now created."
   ]
  },
  {
   "cell_type": "code",
   "execution_count": 62,
   "id": "0036059e-3462-4d60-9902-9957bc0a65fe",
   "metadata": {},
   "outputs": [
    {
     "name": "stderr",
     "output_type": "stream",
     "text": [
      "C:\\Users\\pirio\\AppData\\Local\\Temp\\ipykernel_13080\\3848887056.py:1: SettingWithCopyWarning: \n",
      "A value is trying to be set on a copy of a slice from a DataFrame.\n",
      "Try using .loc[row_indexer,col_indexer] = value instead\n",
      "\n",
      "See the caveats in the documentation: https://pandas.pydata.org/pandas-docs/stable/user_guide/indexing.html#returning-a-view-versus-a-copy\n",
      "  short_off['ALIAS'] = short_off['LABEL']\n"
     ]
    }
   ],
   "source": [
    "short_off['ALIAS'] = short_off['LABEL']"
   ]
  },
  {
   "cell_type": "code",
   "execution_count": 63,
   "id": "1c3a4f20-a463-4060-98aa-080ea2e655b7",
   "metadata": {},
   "outputs": [
    {
     "data": {
      "text/html": [
       "<div>\n",
       "<style scoped>\n",
       "    .dataframe tbody tr th:only-of-type {\n",
       "        vertical-align: middle;\n",
       "    }\n",
       "\n",
       "    .dataframe tbody tr th {\n",
       "        vertical-align: top;\n",
       "    }\n",
       "\n",
       "    .dataframe thead th {\n",
       "        text-align: right;\n",
       "    }\n",
       "</style>\n",
       "<table border=\"1\" class=\"dataframe\">\n",
       "  <thead>\n",
       "    <tr style=\"text-align: right;\">\n",
       "      <th></th>\n",
       "      <th>PARK</th>\n",
       "      <th>LABEL</th>\n",
       "      <th>ACRES</th>\n",
       "      <th>WARD</th>\n",
       "      <th>PARK_CLASS</th>\n",
       "      <th>ALIAS</th>\n",
       "    </tr>\n",
       "  </thead>\n",
       "  <tbody>\n",
       "    <tr>\n",
       "      <th>0</th>\n",
       "      <td>MCGUANE (JOHN)</td>\n",
       "      <td>McGuane</td>\n",
       "      <td>10.30</td>\n",
       "      <td>11</td>\n",
       "      <td>COMMUNITY PARK</td>\n",
       "      <td>McGuane</td>\n",
       "    </tr>\n",
       "    <tr>\n",
       "      <th>1</th>\n",
       "      <td>ARMOUR (PHILIP) SQUARE</td>\n",
       "      <td>Armour Sq</td>\n",
       "      <td>9.05</td>\n",
       "      <td>11</td>\n",
       "      <td>COMMUNITY PARK</td>\n",
       "      <td>Armour Sq</td>\n",
       "    </tr>\n",
       "    <tr>\n",
       "      <th>2</th>\n",
       "      <td>FULLER (MELVILLE)</td>\n",
       "      <td>Fuller</td>\n",
       "      <td>11.31</td>\n",
       "      <td>3</td>\n",
       "      <td>COMMUNITY PARK</td>\n",
       "      <td>Fuller</td>\n",
       "    </tr>\n",
       "    <tr>\n",
       "      <th>3</th>\n",
       "      <td>CORNELL (PAUL) SQUARE</td>\n",
       "      <td>Cornell Sq</td>\n",
       "      <td>8.80</td>\n",
       "      <td>20</td>\n",
       "      <td>COMMUNITY PARK</td>\n",
       "      <td>Cornell Sq</td>\n",
       "    </tr>\n",
       "    <tr>\n",
       "      <th>4</th>\n",
       "      <td>RUSSELL (MARTIN) SQUARE</td>\n",
       "      <td>Russell Sq</td>\n",
       "      <td>10.05</td>\n",
       "      <td>10</td>\n",
       "      <td>COMMUNITY PARK</td>\n",
       "      <td>Russell Sq</td>\n",
       "    </tr>\n",
       "    <tr>\n",
       "      <th>5</th>\n",
       "      <td>SHERMAN (JOHN)</td>\n",
       "      <td>Sherman</td>\n",
       "      <td>57.69</td>\n",
       "      <td>20</td>\n",
       "      <td>REGIONAL PARK</td>\n",
       "      <td>Sherman</td>\n",
       "    </tr>\n",
       "    <tr>\n",
       "      <th>6</th>\n",
       "      <td>DAVIS (DR. NATHAN) SQUARE</td>\n",
       "      <td>Davis (Nathan) Sq</td>\n",
       "      <td>8.91</td>\n",
       "      <td>15</td>\n",
       "      <td>COMMUNITY PARK</td>\n",
       "      <td>Davis (Nathan) Sq</td>\n",
       "    </tr>\n",
       "    <tr>\n",
       "      <th>7</th>\n",
       "      <td>OGDEN (WILLIAM)</td>\n",
       "      <td>Ogden</td>\n",
       "      <td>57.04</td>\n",
       "      <td>17</td>\n",
       "      <td>REGIONAL PARK</td>\n",
       "      <td>Ogden</td>\n",
       "    </tr>\n",
       "    <tr>\n",
       "      <th>8</th>\n",
       "      <td>HAMILTON (ALEXANDER)</td>\n",
       "      <td>Hamilton</td>\n",
       "      <td>28.94</td>\n",
       "      <td>6</td>\n",
       "      <td>REGIONAL PARK</td>\n",
       "      <td>Hamilton</td>\n",
       "    </tr>\n",
       "    <tr>\n",
       "      <th>9</th>\n",
       "      <td>CALUMET</td>\n",
       "      <td>Calumet</td>\n",
       "      <td>181.29</td>\n",
       "      <td>10</td>\n",
       "      <td>CITYWIDE PARK</td>\n",
       "      <td>Calumet</td>\n",
       "    </tr>\n",
       "  </tbody>\n",
       "</table>\n",
       "</div>"
      ],
      "text/plain": [
       "                        PARK              LABEL   ACRES  WARD      PARK_CLASS  \\\n",
       "0             MCGUANE (JOHN)            McGuane   10.30    11  COMMUNITY PARK   \n",
       "1     ARMOUR (PHILIP) SQUARE          Armour Sq    9.05    11  COMMUNITY PARK   \n",
       "2          FULLER (MELVILLE)             Fuller   11.31     3  COMMUNITY PARK   \n",
       "3      CORNELL (PAUL) SQUARE         Cornell Sq    8.80    20  COMMUNITY PARK   \n",
       "4    RUSSELL (MARTIN) SQUARE         Russell Sq   10.05    10  COMMUNITY PARK   \n",
       "5             SHERMAN (JOHN)            Sherman   57.69    20   REGIONAL PARK   \n",
       "6  DAVIS (DR. NATHAN) SQUARE  Davis (Nathan) Sq    8.91    15  COMMUNITY PARK   \n",
       "7            OGDEN (WILLIAM)              Ogden   57.04    17   REGIONAL PARK   \n",
       "8       HAMILTON (ALEXANDER)           Hamilton   28.94     6   REGIONAL PARK   \n",
       "9                    CALUMET            Calumet  181.29    10   CITYWIDE PARK   \n",
       "\n",
       "               ALIAS  \n",
       "0            McGuane  \n",
       "1          Armour Sq  \n",
       "2             Fuller  \n",
       "3         Cornell Sq  \n",
       "4         Russell Sq  \n",
       "5            Sherman  \n",
       "6  Davis (Nathan) Sq  \n",
       "7              Ogden  \n",
       "8           Hamilton  \n",
       "9            Calumet  "
      ]
     },
     "execution_count": 63,
     "metadata": {},
     "output_type": "execute_result"
    }
   ],
   "source": [
    "short_off.head(10)"
   ]
  },
  {
   "cell_type": "code",
   "execution_count": 64,
   "id": "3726d4ce-e2fa-4ceb-9285-fd73d3660c54",
   "metadata": {},
   "outputs": [
    {
     "name": "stderr",
     "output_type": "stream",
     "text": [
      "C:\\Users\\pirio\\AppData\\Local\\Temp\\ipykernel_13080\\2949197893.py:1: SettingWithCopyWarning: \n",
      "A value is trying to be set on a copy of a slice from a DataFrame.\n",
      "Try using .loc[row_indexer,col_indexer] = value instead\n",
      "\n",
      "See the caveats in the documentation: https://pandas.pydata.org/pandas-docs/stable/user_guide/indexing.html#returning-a-view-versus-a-copy\n",
      "  short_off['ALIAS'] = short_off['ALIAS'].str.replace(',','').str.replace('(','').str.replace(')','').str.replace('/','').str.replace('&','').str.replace('-','')\n"
     ]
    }
   ],
   "source": [
    "short_off['ALIAS'] = short_off['ALIAS'].str.replace(',','').str.replace('(','').str.replace(')','').str.replace('/','').str.replace('&','').str.replace('-','')"
   ]
  },
  {
   "cell_type": "code",
   "execution_count": 65,
   "id": "a99ad863-abcc-40d0-9622-dea3abf8e302",
   "metadata": {},
   "outputs": [
    {
     "data": {
      "text/html": [
       "<div>\n",
       "<style scoped>\n",
       "    .dataframe tbody tr th:only-of-type {\n",
       "        vertical-align: middle;\n",
       "    }\n",
       "\n",
       "    .dataframe tbody tr th {\n",
       "        vertical-align: top;\n",
       "    }\n",
       "\n",
       "    .dataframe thead th {\n",
       "        text-align: right;\n",
       "    }\n",
       "</style>\n",
       "<table border=\"1\" class=\"dataframe\">\n",
       "  <thead>\n",
       "    <tr style=\"text-align: right;\">\n",
       "      <th></th>\n",
       "      <th>PARK</th>\n",
       "      <th>LABEL</th>\n",
       "      <th>ACRES</th>\n",
       "      <th>WARD</th>\n",
       "      <th>PARK_CLASS</th>\n",
       "      <th>ALIAS</th>\n",
       "    </tr>\n",
       "  </thead>\n",
       "  <tbody>\n",
       "    <tr>\n",
       "      <th>0</th>\n",
       "      <td>MCGUANE (JOHN)</td>\n",
       "      <td>McGuane</td>\n",
       "      <td>10.30</td>\n",
       "      <td>11</td>\n",
       "      <td>COMMUNITY PARK</td>\n",
       "      <td>McGuane</td>\n",
       "    </tr>\n",
       "    <tr>\n",
       "      <th>1</th>\n",
       "      <td>ARMOUR (PHILIP) SQUARE</td>\n",
       "      <td>Armour Sq</td>\n",
       "      <td>9.05</td>\n",
       "      <td>11</td>\n",
       "      <td>COMMUNITY PARK</td>\n",
       "      <td>Armour Sq</td>\n",
       "    </tr>\n",
       "    <tr>\n",
       "      <th>2</th>\n",
       "      <td>FULLER (MELVILLE)</td>\n",
       "      <td>Fuller</td>\n",
       "      <td>11.31</td>\n",
       "      <td>3</td>\n",
       "      <td>COMMUNITY PARK</td>\n",
       "      <td>Fuller</td>\n",
       "    </tr>\n",
       "    <tr>\n",
       "      <th>3</th>\n",
       "      <td>CORNELL (PAUL) SQUARE</td>\n",
       "      <td>Cornell Sq</td>\n",
       "      <td>8.80</td>\n",
       "      <td>20</td>\n",
       "      <td>COMMUNITY PARK</td>\n",
       "      <td>Cornell Sq</td>\n",
       "    </tr>\n",
       "    <tr>\n",
       "      <th>4</th>\n",
       "      <td>RUSSELL (MARTIN) SQUARE</td>\n",
       "      <td>Russell Sq</td>\n",
       "      <td>10.05</td>\n",
       "      <td>10</td>\n",
       "      <td>COMMUNITY PARK</td>\n",
       "      <td>Russell Sq</td>\n",
       "    </tr>\n",
       "    <tr>\n",
       "      <th>5</th>\n",
       "      <td>SHERMAN (JOHN)</td>\n",
       "      <td>Sherman</td>\n",
       "      <td>57.69</td>\n",
       "      <td>20</td>\n",
       "      <td>REGIONAL PARK</td>\n",
       "      <td>Sherman</td>\n",
       "    </tr>\n",
       "    <tr>\n",
       "      <th>6</th>\n",
       "      <td>DAVIS (DR. NATHAN) SQUARE</td>\n",
       "      <td>Davis (Nathan) Sq</td>\n",
       "      <td>8.91</td>\n",
       "      <td>15</td>\n",
       "      <td>COMMUNITY PARK</td>\n",
       "      <td>Davis Nathan Sq</td>\n",
       "    </tr>\n",
       "    <tr>\n",
       "      <th>7</th>\n",
       "      <td>OGDEN (WILLIAM)</td>\n",
       "      <td>Ogden</td>\n",
       "      <td>57.04</td>\n",
       "      <td>17</td>\n",
       "      <td>REGIONAL PARK</td>\n",
       "      <td>Ogden</td>\n",
       "    </tr>\n",
       "    <tr>\n",
       "      <th>8</th>\n",
       "      <td>HAMILTON (ALEXANDER)</td>\n",
       "      <td>Hamilton</td>\n",
       "      <td>28.94</td>\n",
       "      <td>6</td>\n",
       "      <td>REGIONAL PARK</td>\n",
       "      <td>Hamilton</td>\n",
       "    </tr>\n",
       "    <tr>\n",
       "      <th>9</th>\n",
       "      <td>CALUMET</td>\n",
       "      <td>Calumet</td>\n",
       "      <td>181.29</td>\n",
       "      <td>10</td>\n",
       "      <td>CITYWIDE PARK</td>\n",
       "      <td>Calumet</td>\n",
       "    </tr>\n",
       "    <tr>\n",
       "      <th>10</th>\n",
       "      <td>WASHINGTON (GEORGE)</td>\n",
       "      <td>Washington (George)</td>\n",
       "      <td>350.49</td>\n",
       "      <td>0</td>\n",
       "      <td>CITYWIDE PARK</td>\n",
       "      <td>Washington George</td>\n",
       "    </tr>\n",
       "    <tr>\n",
       "      <th>11</th>\n",
       "      <td>NINEBARK</td>\n",
       "      <td>Ninebark</td>\n",
       "      <td>0.25</td>\n",
       "      <td>24</td>\n",
       "      <td>MINI-PARK</td>\n",
       "      <td>Ninebark</td>\n",
       "    </tr>\n",
       "    <tr>\n",
       "      <th>12</th>\n",
       "      <td>MARQUETTE (JACQUES)</td>\n",
       "      <td>Marquette</td>\n",
       "      <td>315.63</td>\n",
       "      <td>17</td>\n",
       "      <td>CITYWIDE PARK</td>\n",
       "      <td>Marquette</td>\n",
       "    </tr>\n",
       "    <tr>\n",
       "      <th>13</th>\n",
       "      <td>BESSEMER (HENRY)</td>\n",
       "      <td>Bessemer</td>\n",
       "      <td>20.27</td>\n",
       "      <td>7</td>\n",
       "      <td>REGIONAL PARK</td>\n",
       "      <td>Bessemer</td>\n",
       "    </tr>\n",
       "    <tr>\n",
       "      <th>14</th>\n",
       "      <td>PALMER (POTTER)</td>\n",
       "      <td>Palmer</td>\n",
       "      <td>38.44</td>\n",
       "      <td>9</td>\n",
       "      <td>REGIONAL PARK</td>\n",
       "      <td>Palmer</td>\n",
       "    </tr>\n",
       "    <tr>\n",
       "      <th>15</th>\n",
       "      <td>CHOPIN (FREDERIC)</td>\n",
       "      <td>Chopin</td>\n",
       "      <td>9.28</td>\n",
       "      <td>30</td>\n",
       "      <td>COMMUNITY PARK</td>\n",
       "      <td>Chopin</td>\n",
       "    </tr>\n",
       "    <tr>\n",
       "      <th>16</th>\n",
       "      <td>GRAND CROSSING</td>\n",
       "      <td>Grand Crossing</td>\n",
       "      <td>18.89</td>\n",
       "      <td>8</td>\n",
       "      <td>REGIONAL PARK</td>\n",
       "      <td>Grand Crossing</td>\n",
       "    </tr>\n",
       "    <tr>\n",
       "      <th>17</th>\n",
       "      <td>TRUMBULL (LYMAN)</td>\n",
       "      <td>Trumbull</td>\n",
       "      <td>18.04</td>\n",
       "      <td>7</td>\n",
       "      <td>REGIONAL PARK</td>\n",
       "      <td>Trumbull</td>\n",
       "    </tr>\n",
       "    <tr>\n",
       "      <th>18</th>\n",
       "      <td>MANN (JAMES)</td>\n",
       "      <td>Mann</td>\n",
       "      <td>18.86</td>\n",
       "      <td>10</td>\n",
       "      <td>REGIONAL PARK</td>\n",
       "      <td>Mann</td>\n",
       "    </tr>\n",
       "    <tr>\n",
       "      <th>19</th>\n",
       "      <td>TULEY (MURRAY)</td>\n",
       "      <td>Tuley</td>\n",
       "      <td>18.70</td>\n",
       "      <td>9</td>\n",
       "      <td>REGIONAL PARK</td>\n",
       "      <td>Tuley</td>\n",
       "    </tr>\n",
       "  </tbody>\n",
       "</table>\n",
       "</div>"
      ],
      "text/plain": [
       "                         PARK                LABEL   ACRES  WARD  \\\n",
       "0              MCGUANE (JOHN)              McGuane   10.30    11   \n",
       "1      ARMOUR (PHILIP) SQUARE            Armour Sq    9.05    11   \n",
       "2           FULLER (MELVILLE)               Fuller   11.31     3   \n",
       "3       CORNELL (PAUL) SQUARE           Cornell Sq    8.80    20   \n",
       "4     RUSSELL (MARTIN) SQUARE           Russell Sq   10.05    10   \n",
       "5              SHERMAN (JOHN)              Sherman   57.69    20   \n",
       "6   DAVIS (DR. NATHAN) SQUARE    Davis (Nathan) Sq    8.91    15   \n",
       "7             OGDEN (WILLIAM)                Ogden   57.04    17   \n",
       "8        HAMILTON (ALEXANDER)             Hamilton   28.94     6   \n",
       "9                     CALUMET              Calumet  181.29    10   \n",
       "10        WASHINGTON (GEORGE)  Washington (George)  350.49     0   \n",
       "11                   NINEBARK             Ninebark    0.25    24   \n",
       "12        MARQUETTE (JACQUES)            Marquette  315.63    17   \n",
       "13           BESSEMER (HENRY)             Bessemer   20.27     7   \n",
       "14            PALMER (POTTER)               Palmer   38.44     9   \n",
       "15          CHOPIN (FREDERIC)               Chopin    9.28    30   \n",
       "16             GRAND CROSSING       Grand Crossing   18.89     8   \n",
       "17           TRUMBULL (LYMAN)             Trumbull   18.04     7   \n",
       "18               MANN (JAMES)                 Mann   18.86    10   \n",
       "19             TULEY (MURRAY)                Tuley   18.70     9   \n",
       "\n",
       "        PARK_CLASS              ALIAS  \n",
       "0   COMMUNITY PARK            McGuane  \n",
       "1   COMMUNITY PARK          Armour Sq  \n",
       "2   COMMUNITY PARK             Fuller  \n",
       "3   COMMUNITY PARK         Cornell Sq  \n",
       "4   COMMUNITY PARK         Russell Sq  \n",
       "5    REGIONAL PARK            Sherman  \n",
       "6   COMMUNITY PARK    Davis Nathan Sq  \n",
       "7    REGIONAL PARK              Ogden  \n",
       "8    REGIONAL PARK           Hamilton  \n",
       "9    CITYWIDE PARK            Calumet  \n",
       "10   CITYWIDE PARK  Washington George  \n",
       "11       MINI-PARK           Ninebark  \n",
       "12   CITYWIDE PARK          Marquette  \n",
       "13   REGIONAL PARK           Bessemer  \n",
       "14   REGIONAL PARK             Palmer  \n",
       "15  COMMUNITY PARK             Chopin  \n",
       "16   REGIONAL PARK     Grand Crossing  \n",
       "17   REGIONAL PARK           Trumbull  \n",
       "18   REGIONAL PARK               Mann  \n",
       "19   REGIONAL PARK              Tuley  "
      ]
     },
     "execution_count": 65,
     "metadata": {},
     "output_type": "execute_result"
    }
   ],
   "source": [
    "short_off.head(20)"
   ]
  },
  {
   "cell_type": "markdown",
   "id": "da58d87f-25c7-4449-b1a8-3011c8c0f398",
   "metadata": {},
   "source": [
    "And then, we merge again both sets, to compare."
   ]
  },
  {
   "cell_type": "code",
   "execution_count": 66,
   "id": "67ee8434-3827-42bf-afc0-3654fa4d7fe9",
   "metadata": {},
   "outputs": [],
   "source": [
    "compare_parks = pd.merge(park_names,short_off,on='ALIAS')"
   ]
  },
  {
   "cell_type": "code",
   "execution_count": 67,
   "id": "ec2eb0b8-0155-4350-aae5-7b73c250d13d",
   "metadata": {},
   "outputs": [
    {
     "data": {
      "text/plain": [
       "367"
      ]
     },
     "execution_count": 67,
     "metadata": {},
     "output_type": "execute_result"
    }
   ],
   "source": [
    "len(compare_parks['ALIAS'])"
   ]
  },
  {
   "cell_type": "markdown",
   "id": "22a42653-c089-4de2-8263-f893cf173d12",
   "metadata": {},
   "source": [
    "So, there are still 446-367 = 79 parks not matching!!!)\n",
    "\n",
    "But, are these remaining parks really relevant?\n",
    "\n",
    "For instance, how many trees were planted within these parks, on the whole?\n"
   ]
  },
  {
   "cell_type": "code",
   "execution_count": 68,
   "id": "a6e0aa9c-1512-4fc1-9455-5ec52ff71625",
   "metadata": {},
   "outputs": [
    {
     "data": {
      "text/plain": [
       "32516"
      ]
     },
     "execution_count": 68,
     "metadata": {},
     "output_type": "execute_result"
    }
   ],
   "source": [
    "compare_parks['trees'].sum()"
   ]
  },
  {
   "cell_type": "code",
   "execution_count": 69,
   "id": "bbc5ee6f-7e70-486b-a33e-89819cea27bd",
   "metadata": {},
   "outputs": [
    {
     "data": {
      "text/plain": [
       "89.23896039739824"
      ]
     },
     "execution_count": 69,
     "metadata": {},
     "output_type": "execute_result"
    }
   ],
   "source": [
    "compare_parks['trees'].sum() / park_names['trees'].sum() * 100"
   ]
  },
  {
   "cell_type": "markdown",
   "id": "94b24720-2bdd-4ef2-81af-91ad1f63386d",
   "metadata": {},
   "source": [
    "So, there are still 1 out of 10 trees (only 89,2% of the trees are included) whose parks names are not included into the merged list?\n",
    "\n",
    "But... is there any relevant park not included yet? Let's try again:"
   ]
  },
  {
   "cell_type": "code",
   "execution_count": 70,
   "id": "92f566f1-fcf6-485c-bd24-7c7e01231e72",
   "metadata": {},
   "outputs": [],
   "source": [
    "out = park_names[~park_names['ALIAS'].isin(short_off['ALIAS'])].sort_values('trees', ascending=False)"
   ]
  },
  {
   "cell_type": "code",
   "execution_count": 71,
   "id": "12aa21f3-0ee2-4018-a6bd-1edbe888d522",
   "metadata": {},
   "outputs": [
    {
     "data": {
      "text/plain": [
       "79"
      ]
     },
     "execution_count": 71,
     "metadata": {},
     "output_type": "execute_result"
    }
   ],
   "source": [
    "len(out)"
   ]
  },
  {
   "cell_type": "code",
   "execution_count": 72,
   "id": "a89eb939-854b-492a-b1d1-91083e4da844",
   "metadata": {},
   "outputs": [
    {
     "data": {
      "text/html": [
       "<div>\n",
       "<style scoped>\n",
       "    .dataframe tbody tr th:only-of-type {\n",
       "        vertical-align: middle;\n",
       "    }\n",
       "\n",
       "    .dataframe tbody tr th {\n",
       "        vertical-align: top;\n",
       "    }\n",
       "\n",
       "    .dataframe thead th {\n",
       "        text-align: right;\n",
       "    }\n",
       "</style>\n",
       "<table border=\"1\" class=\"dataframe\">\n",
       "  <thead>\n",
       "    <tr style=\"text-align: right;\">\n",
       "      <th></th>\n",
       "      <th>LABEL</th>\n",
       "      <th>trees</th>\n",
       "      <th>ALIAS</th>\n",
       "    </tr>\n",
       "  </thead>\n",
       "  <tbody>\n",
       "    <tr>\n",
       "      <th>101</th>\n",
       "      <td>Douglas</td>\n",
       "      <td>1110</td>\n",
       "      <td>Douglas</td>\n",
       "    </tr>\n",
       "    <tr>\n",
       "      <th>355</th>\n",
       "      <td>Russell Square</td>\n",
       "      <td>128</td>\n",
       "      <td>Russell Square</td>\n",
       "    </tr>\n",
       "    <tr>\n",
       "      <th>218</th>\n",
       "      <td>LaFollette</td>\n",
       "      <td>105</td>\n",
       "      <td>LaFollette</td>\n",
       "    </tr>\n",
       "    <tr>\n",
       "      <th>286</th>\n",
       "      <td>North Park Nature Center</td>\n",
       "      <td>104</td>\n",
       "      <td>North Park Nature Center</td>\n",
       "    </tr>\n",
       "    <tr>\n",
       "      <th>55</th>\n",
       "      <td>Brown Memorial</td>\n",
       "      <td>101</td>\n",
       "      <td>Brown Memorial</td>\n",
       "    </tr>\n",
       "    <tr>\n",
       "      <th>308</th>\n",
       "      <td>Park 503</td>\n",
       "      <td>95</td>\n",
       "      <td>Park 503</td>\n",
       "    </tr>\n",
       "    <tr>\n",
       "      <th>300</th>\n",
       "      <td>Palmer Square</td>\n",
       "      <td>92</td>\n",
       "      <td>Palmer Square</td>\n",
       "    </tr>\n",
       "    <tr>\n",
       "      <th>384</th>\n",
       "      <td>Stone, Bernard (Pk 526)</td>\n",
       "      <td>90</td>\n",
       "      <td>Stone Bernard Pk 526</td>\n",
       "    </tr>\n",
       "    <tr>\n",
       "      <th>122</th>\n",
       "      <td>Fernwood Parkway</td>\n",
       "      <td>87</td>\n",
       "      <td>Fernwood Parkway</td>\n",
       "    </tr>\n",
       "    <tr>\n",
       "      <th>77</th>\n",
       "      <td>Clarendon</td>\n",
       "      <td>86</td>\n",
       "      <td>Clarendon</td>\n",
       "    </tr>\n",
       "  </tbody>\n",
       "</table>\n",
       "</div>"
      ],
      "text/plain": [
       "                        LABEL  trees                     ALIAS\n",
       "101                   Douglas   1110                   Douglas\n",
       "355            Russell Square    128            Russell Square\n",
       "218                LaFollette    105                LaFollette\n",
       "286  North Park Nature Center    104  North Park Nature Center\n",
       "55             Brown Memorial    101            Brown Memorial\n",
       "308                  Park 503     95                  Park 503\n",
       "300             Palmer Square     92             Palmer Square\n",
       "384   Stone, Bernard (Pk 526)     90      Stone Bernard Pk 526\n",
       "122          Fernwood Parkway     87          Fernwood Parkway\n",
       "77                  Clarendon     86                 Clarendon"
      ]
     },
     "execution_count": 72,
     "metadata": {},
     "output_type": "execute_result"
    }
   ],
   "source": [
    "out.head(10)"
   ]
  },
  {
   "cell_type": "markdown",
   "id": "baa141db-ccb2-4fab-b45a-3a08564a2734",
   "metadata": {},
   "source": [
    "So, yes, there are relevant parks not yet merged. Let's review the top 10 relevant parks first, using the first 10 letters from each park. It means:\n",
    "\n",
    "- filter rows using a column:\n",
    "\n",
    "   df[df[column]...]\n",
    "\n",
    "- then, instead of ... , convert it to string\n",
    "\n",
    "   .str\n",
    "\n",
    "- and, for this string, use a function .startswith with a value.\n",
    "\n",
    "    .startswith('string')"
   ]
  },
  {
   "cell_type": "code",
   "execution_count": 73,
   "id": "0b1b8ad0-4c94-4515-aaf3-2b119e232450",
   "metadata": {},
   "outputs": [
    {
     "data": {
      "text/html": [
       "<div>\n",
       "<style scoped>\n",
       "    .dataframe tbody tr th:only-of-type {\n",
       "        vertical-align: middle;\n",
       "    }\n",
       "\n",
       "    .dataframe tbody tr th {\n",
       "        vertical-align: top;\n",
       "    }\n",
       "\n",
       "    .dataframe thead th {\n",
       "        text-align: right;\n",
       "    }\n",
       "</style>\n",
       "<table border=\"1\" class=\"dataframe\">\n",
       "  <thead>\n",
       "    <tr style=\"text-align: right;\">\n",
       "      <th></th>\n",
       "      <th>the_geom</th>\n",
       "      <th>OBJECTID_1</th>\n",
       "      <th>PARK_NO</th>\n",
       "      <th>PARK</th>\n",
       "      <th>LOCATION</th>\n",
       "      <th>ZIP</th>\n",
       "      <th>ACRES</th>\n",
       "      <th>WARD</th>\n",
       "      <th>PARK_CLASS</th>\n",
       "      <th>LABEL</th>\n",
       "      <th>...</th>\n",
       "      <th>CROQUET</th>\n",
       "      <th>HANDBALL_I</th>\n",
       "      <th>HARBOR</th>\n",
       "      <th>MODELTRAIN</th>\n",
       "      <th>MODELYACHT</th>\n",
       "      <th>NATURE_BIR</th>\n",
       "      <th>MINIGOLF</th>\n",
       "      <th>PERIMETER</th>\n",
       "      <th>Shape_Leng</th>\n",
       "      <th>Shape_Area</th>\n",
       "    </tr>\n",
       "  </thead>\n",
       "  <tbody>\n",
       "    <tr>\n",
       "      <th>73</th>\n",
       "      <td>MULTIPOLYGON (((-87.69582657890847 41.86102197...</td>\n",
       "      <td>123</td>\n",
       "      <td>218</td>\n",
       "      <td>DOUGLASS (ANNA &amp; FREDERICK)</td>\n",
       "      <td>1401 S SACRAMENTO DR</td>\n",
       "      <td>60623.0</td>\n",
       "      <td>165.49</td>\n",
       "      <td>0</td>\n",
       "      <td>CITYWIDE PARK</td>\n",
       "      <td>Douglass</td>\n",
       "      <td>...</td>\n",
       "      <td>0</td>\n",
       "      <td>0</td>\n",
       "      <td>0</td>\n",
       "      <td>0</td>\n",
       "      <td>0</td>\n",
       "      <td>0</td>\n",
       "      <td>1</td>\n",
       "      <td>18628.536103</td>\n",
       "      <td>18628.536103</td>\n",
       "      <td>7046674.332</td>\n",
       "    </tr>\n",
       "  </tbody>\n",
       "</table>\n",
       "<p>1 rows × 81 columns</p>\n",
       "</div>"
      ],
      "text/plain": [
       "                                             the_geom  OBJECTID_1  PARK_NO  \\\n",
       "73  MULTIPOLYGON (((-87.69582657890847 41.86102197...         123      218   \n",
       "\n",
       "                           PARK              LOCATION      ZIP   ACRES  WARD  \\\n",
       "73  DOUGLASS (ANNA & FREDERICK)  1401 S SACRAMENTO DR  60623.0  165.49     0   \n",
       "\n",
       "       PARK_CLASS     LABEL  ...  CROQUET  HANDBALL_I  HARBOR  MODELTRAIN  \\\n",
       "73  CITYWIDE PARK  Douglass  ...        0           0       0           0   \n",
       "\n",
       "    MODELYACHT  NATURE_BIR  MINIGOLF     PERIMETER    Shape_Leng   Shape_Area  \n",
       "73           0           0         1  18628.536103  18628.536103  7046674.332  \n",
       "\n",
       "[1 rows x 81 columns]"
      ]
     },
     "execution_count": 73,
     "metadata": {},
     "output_type": "execute_result"
    }
   ],
   "source": [
    "off_chic[off_chic['LABEL'].str.startswith('Dougl')]"
   ]
  },
  {
   "cell_type": "markdown",
   "id": "453690a4-1b8c-4fdf-9f73-385dbb9011f9",
   "metadata": {},
   "source": [
    "So, \"Douglas\" is really \"Douglass\", with two \"s\". We should then change this value, inside park_names. First, find the row:"
   ]
  },
  {
   "cell_type": "code",
   "execution_count": 74,
   "id": "486378b4-46ec-4322-a0d8-355a4101b86d",
   "metadata": {},
   "outputs": [
    {
     "data": {
      "text/html": [
       "<div>\n",
       "<style scoped>\n",
       "    .dataframe tbody tr th:only-of-type {\n",
       "        vertical-align: middle;\n",
       "    }\n",
       "\n",
       "    .dataframe tbody tr th {\n",
       "        vertical-align: top;\n",
       "    }\n",
       "\n",
       "    .dataframe thead th {\n",
       "        text-align: right;\n",
       "    }\n",
       "</style>\n",
       "<table border=\"1\" class=\"dataframe\">\n",
       "  <thead>\n",
       "    <tr style=\"text-align: right;\">\n",
       "      <th></th>\n",
       "      <th>LABEL</th>\n",
       "      <th>trees</th>\n",
       "      <th>ALIAS</th>\n",
       "    </tr>\n",
       "  </thead>\n",
       "  <tbody>\n",
       "    <tr>\n",
       "      <th>101</th>\n",
       "      <td>Douglas</td>\n",
       "      <td>1110</td>\n",
       "      <td>Douglas</td>\n",
       "    </tr>\n",
       "  </tbody>\n",
       "</table>\n",
       "</div>"
      ],
      "text/plain": [
       "       LABEL  trees    ALIAS\n",
       "101  Douglas   1110  Douglas"
      ]
     },
     "execution_count": 74,
     "metadata": {},
     "output_type": "execute_result"
    }
   ],
   "source": [
    "park_names[park_names['ALIAS'] == 'Douglas']"
   ]
  },
  {
   "cell_type": "markdown",
   "id": "df56464e-57e0-4646-ac96-1183f908d783",
   "metadata": {},
   "source": [
    "And then, the cell matches the row 101, and column 4, so:"
   ]
  },
  {
   "cell_type": "code",
   "execution_count": 75,
   "id": "b1916b33-18bc-4a04-a5d2-b1f518d4f77a",
   "metadata": {},
   "outputs": [],
   "source": [
    "park_names.loc[101,'ALIAS'] = 'Douglass'"
   ]
  },
  {
   "cell_type": "code",
   "execution_count": 76,
   "id": "d13fe51e-3f94-4d44-9be8-30642193e3d6",
   "metadata": {},
   "outputs": [
    {
     "data": {
      "text/html": [
       "<div>\n",
       "<style scoped>\n",
       "    .dataframe tbody tr th:only-of-type {\n",
       "        vertical-align: middle;\n",
       "    }\n",
       "\n",
       "    .dataframe tbody tr th {\n",
       "        vertical-align: top;\n",
       "    }\n",
       "\n",
       "    .dataframe thead th {\n",
       "        text-align: right;\n",
       "    }\n",
       "</style>\n",
       "<table border=\"1\" class=\"dataframe\">\n",
       "  <thead>\n",
       "    <tr style=\"text-align: right;\">\n",
       "      <th></th>\n",
       "      <th>LABEL</th>\n",
       "      <th>trees</th>\n",
       "      <th>ALIAS</th>\n",
       "    </tr>\n",
       "  </thead>\n",
       "  <tbody>\n",
       "    <tr>\n",
       "      <th>101</th>\n",
       "      <td>Douglas</td>\n",
       "      <td>1110</td>\n",
       "      <td>Douglass</td>\n",
       "    </tr>\n",
       "  </tbody>\n",
       "</table>\n",
       "</div>"
      ],
      "text/plain": [
       "       LABEL  trees     ALIAS\n",
       "101  Douglas   1110  Douglass"
      ]
     },
     "execution_count": 76,
     "metadata": {},
     "output_type": "execute_result"
    }
   ],
   "source": [
    "park_names[park_names['ALIAS'].str.startswith('Dougl')]"
   ]
  },
  {
   "cell_type": "markdown",
   "id": "34104d3d-3a31-435d-a11f-84c90f5008bf",
   "metadata": {},
   "source": [
    "Repeat these four lines, mutatis mutandis."
   ]
  },
  {
   "cell_type": "code",
   "execution_count": 77,
   "id": "af262930-71cb-4a23-a235-c87c773876a7",
   "metadata": {},
   "outputs": [
    {
     "data": {
      "text/html": [
       "<div>\n",
       "<style scoped>\n",
       "    .dataframe tbody tr th:only-of-type {\n",
       "        vertical-align: middle;\n",
       "    }\n",
       "\n",
       "    .dataframe tbody tr th {\n",
       "        vertical-align: top;\n",
       "    }\n",
       "\n",
       "    .dataframe thead th {\n",
       "        text-align: right;\n",
       "    }\n",
       "</style>\n",
       "<table border=\"1\" class=\"dataframe\">\n",
       "  <thead>\n",
       "    <tr style=\"text-align: right;\">\n",
       "      <th></th>\n",
       "      <th>the_geom</th>\n",
       "      <th>OBJECTID_1</th>\n",
       "      <th>PARK_NO</th>\n",
       "      <th>PARK</th>\n",
       "      <th>LOCATION</th>\n",
       "      <th>ZIP</th>\n",
       "      <th>ACRES</th>\n",
       "      <th>WARD</th>\n",
       "      <th>PARK_CLASS</th>\n",
       "      <th>LABEL</th>\n",
       "      <th>...</th>\n",
       "      <th>CROQUET</th>\n",
       "      <th>HANDBALL_I</th>\n",
       "      <th>HARBOR</th>\n",
       "      <th>MODELTRAIN</th>\n",
       "      <th>MODELYACHT</th>\n",
       "      <th>NATURE_BIR</th>\n",
       "      <th>MINIGOLF</th>\n",
       "      <th>PERIMETER</th>\n",
       "      <th>Shape_Leng</th>\n",
       "      <th>Shape_Area</th>\n",
       "    </tr>\n",
       "  </thead>\n",
       "  <tbody>\n",
       "    <tr>\n",
       "      <th>4</th>\n",
       "      <td>MULTIPOLYGON (((-87.5479925005375 41.744623883...</td>\n",
       "      <td>5</td>\n",
       "      <td>6</td>\n",
       "      <td>RUSSELL (MARTIN) SQUARE</td>\n",
       "      <td>3045 E 83RD ST</td>\n",
       "      <td>60617.0</td>\n",
       "      <td>10.05</td>\n",
       "      <td>10</td>\n",
       "      <td>COMMUNITY PARK</td>\n",
       "      <td>Russell Sq</td>\n",
       "      <td>...</td>\n",
       "      <td>0</td>\n",
       "      <td>0</td>\n",
       "      <td>0</td>\n",
       "      <td>0</td>\n",
       "      <td>0</td>\n",
       "      <td>0</td>\n",
       "      <td>0</td>\n",
       "      <td>2777.375936</td>\n",
       "      <td>2777.375936</td>\n",
       "      <td>435169.113288</td>\n",
       "    </tr>\n",
       "  </tbody>\n",
       "</table>\n",
       "<p>1 rows × 81 columns</p>\n",
       "</div>"
      ],
      "text/plain": [
       "                                            the_geom  OBJECTID_1  PARK_NO  \\\n",
       "4  MULTIPOLYGON (((-87.5479925005375 41.744623883...           5        6   \n",
       "\n",
       "                      PARK        LOCATION      ZIP  ACRES  WARD  \\\n",
       "4  RUSSELL (MARTIN) SQUARE  3045 E 83RD ST  60617.0  10.05    10   \n",
       "\n",
       "       PARK_CLASS       LABEL  ...  CROQUET  HANDBALL_I  HARBOR  MODELTRAIN  \\\n",
       "4  COMMUNITY PARK  Russell Sq  ...        0           0       0           0   \n",
       "\n",
       "   MODELYACHT  NATURE_BIR  MINIGOLF    PERIMETER   Shape_Leng     Shape_Area  \n",
       "4           0           0         0  2777.375936  2777.375936  435169.113288  \n",
       "\n",
       "[1 rows x 81 columns]"
      ]
     },
     "execution_count": 77,
     "metadata": {},
     "output_type": "execute_result"
    }
   ],
   "source": [
    "off_chic[off_chic['LABEL'].str.startswith('Russell')]"
   ]
  },
  {
   "cell_type": "markdown",
   "id": "070ef9a9-cb0d-412a-8432-e3ea7614b09d",
   "metadata": {},
   "source": [
    "Here, instead of \"...Square\" (in park_names), appears \"Sq\" (in off_chic). Would there be more?"
   ]
  },
  {
   "cell_type": "code",
   "execution_count": 78,
   "id": "c882dd3f-f218-47ac-8ff1-aa5d7624aa45",
   "metadata": {},
   "outputs": [
    {
     "data": {
      "text/html": [
       "<div>\n",
       "<style scoped>\n",
       "    .dataframe tbody tr th:only-of-type {\n",
       "        vertical-align: middle;\n",
       "    }\n",
       "\n",
       "    .dataframe tbody tr th {\n",
       "        vertical-align: top;\n",
       "    }\n",
       "\n",
       "    .dataframe thead th {\n",
       "        text-align: right;\n",
       "    }\n",
       "</style>\n",
       "<table border=\"1\" class=\"dataframe\">\n",
       "  <thead>\n",
       "    <tr style=\"text-align: right;\">\n",
       "      <th></th>\n",
       "      <th>LABEL</th>\n",
       "      <th>trees</th>\n",
       "      <th>ALIAS</th>\n",
       "    </tr>\n",
       "  </thead>\n",
       "  <tbody>\n",
       "    <tr>\n",
       "      <th>355</th>\n",
       "      <td>Russell Square</td>\n",
       "      <td>128</td>\n",
       "      <td>Russell Square</td>\n",
       "    </tr>\n",
       "    <tr>\n",
       "      <th>345</th>\n",
       "      <td>Roberts Square</td>\n",
       "      <td>116</td>\n",
       "      <td>Roberts Square</td>\n",
       "    </tr>\n",
       "    <tr>\n",
       "      <th>300</th>\n",
       "      <td>Palmer Square</td>\n",
       "      <td>92</td>\n",
       "      <td>Palmer Square</td>\n",
       "    </tr>\n",
       "    <tr>\n",
       "      <th>92</th>\n",
       "      <td>Davis Square</td>\n",
       "      <td>75</td>\n",
       "      <td>Davis Square</td>\n",
       "    </tr>\n",
       "    <tr>\n",
       "      <th>86</th>\n",
       "      <td>Cornell Square</td>\n",
       "      <td>75</td>\n",
       "      <td>Cornell Square</td>\n",
       "    </tr>\n",
       "    <tr>\n",
       "      <th>13</th>\n",
       "      <td>Armour Square</td>\n",
       "      <td>62</td>\n",
       "      <td>Armour Square</td>\n",
       "    </tr>\n",
       "    <tr>\n",
       "      <th>416</th>\n",
       "      <td>Washington Square</td>\n",
       "      <td>19</td>\n",
       "      <td>Washington Square</td>\n",
       "    </tr>\n",
       "    <tr>\n",
       "      <th>173</th>\n",
       "      <td>Homan Square</td>\n",
       "      <td>15</td>\n",
       "      <td>Homan Square</td>\n",
       "    </tr>\n",
       "    <tr>\n",
       "      <th>238</th>\n",
       "      <td>Logan Square DFA</td>\n",
       "      <td>8</td>\n",
       "      <td>Logan Square DFA</td>\n",
       "    </tr>\n",
       "    <tr>\n",
       "      <th>139</th>\n",
       "      <td>Goudy Square</td>\n",
       "      <td>1</td>\n",
       "      <td>Goudy Square</td>\n",
       "    </tr>\n",
       "  </tbody>\n",
       "</table>\n",
       "</div>"
      ],
      "text/plain": [
       "                 LABEL  trees              ALIAS\n",
       "355     Russell Square    128     Russell Square\n",
       "345     Roberts Square    116     Roberts Square\n",
       "300      Palmer Square     92      Palmer Square\n",
       "92        Davis Square     75       Davis Square\n",
       "86      Cornell Square     75     Cornell Square\n",
       "13       Armour Square     62      Armour Square\n",
       "416  Washington Square     19  Washington Square\n",
       "173       Homan Square     15       Homan Square\n",
       "238   Logan Square DFA      8   Logan Square DFA\n",
       "139       Goudy Square      1       Goudy Square"
      ]
     },
     "execution_count": 78,
     "metadata": {},
     "output_type": "execute_result"
    }
   ],
   "source": [
    "park_names[park_names['ALIAS'].str.contains('Sq')]"
   ]
  },
  {
   "cell_type": "code",
   "execution_count": 79,
   "id": "578bdfba-d82b-4aa2-92d7-747e9ae1dc47",
   "metadata": {},
   "outputs": [
    {
     "data": {
      "text/html": [
       "<div>\n",
       "<style scoped>\n",
       "    .dataframe tbody tr th:only-of-type {\n",
       "        vertical-align: middle;\n",
       "    }\n",
       "\n",
       "    .dataframe tbody tr th {\n",
       "        vertical-align: top;\n",
       "    }\n",
       "\n",
       "    .dataframe thead th {\n",
       "        text-align: right;\n",
       "    }\n",
       "</style>\n",
       "<table border=\"1\" class=\"dataframe\">\n",
       "  <thead>\n",
       "    <tr style=\"text-align: right;\">\n",
       "      <th></th>\n",
       "      <th>LABEL</th>\n",
       "      <th>trees</th>\n",
       "      <th>ALIAS</th>\n",
       "    </tr>\n",
       "  </thead>\n",
       "  <tbody>\n",
       "    <tr>\n",
       "      <th>355</th>\n",
       "      <td>Russell Square</td>\n",
       "      <td>128</td>\n",
       "      <td>Russell Square</td>\n",
       "    </tr>\n",
       "    <tr>\n",
       "      <th>345</th>\n",
       "      <td>Roberts Square</td>\n",
       "      <td>116</td>\n",
       "      <td>Roberts Square</td>\n",
       "    </tr>\n",
       "    <tr>\n",
       "      <th>300</th>\n",
       "      <td>Palmer Square</td>\n",
       "      <td>92</td>\n",
       "      <td>Palmer Square</td>\n",
       "    </tr>\n",
       "    <tr>\n",
       "      <th>92</th>\n",
       "      <td>Davis Square</td>\n",
       "      <td>75</td>\n",
       "      <td>Davis Square</td>\n",
       "    </tr>\n",
       "    <tr>\n",
       "      <th>86</th>\n",
       "      <td>Cornell Square</td>\n",
       "      <td>75</td>\n",
       "      <td>Cornell Square</td>\n",
       "    </tr>\n",
       "    <tr>\n",
       "      <th>13</th>\n",
       "      <td>Armour Square</td>\n",
       "      <td>62</td>\n",
       "      <td>Armour Square</td>\n",
       "    </tr>\n",
       "    <tr>\n",
       "      <th>416</th>\n",
       "      <td>Washington Square</td>\n",
       "      <td>19</td>\n",
       "      <td>Washington Square</td>\n",
       "    </tr>\n",
       "    <tr>\n",
       "      <th>173</th>\n",
       "      <td>Homan Square</td>\n",
       "      <td>15</td>\n",
       "      <td>Homan Square</td>\n",
       "    </tr>\n",
       "    <tr>\n",
       "      <th>238</th>\n",
       "      <td>Logan Square DFA</td>\n",
       "      <td>8</td>\n",
       "      <td>Logan Square DFA</td>\n",
       "    </tr>\n",
       "    <tr>\n",
       "      <th>139</th>\n",
       "      <td>Goudy Square</td>\n",
       "      <td>1</td>\n",
       "      <td>Goudy Square</td>\n",
       "    </tr>\n",
       "  </tbody>\n",
       "</table>\n",
       "</div>"
      ],
      "text/plain": [
       "                 LABEL  trees              ALIAS\n",
       "355     Russell Square    128     Russell Square\n",
       "345     Roberts Square    116     Roberts Square\n",
       "300      Palmer Square     92      Palmer Square\n",
       "92        Davis Square     75       Davis Square\n",
       "86      Cornell Square     75     Cornell Square\n",
       "13       Armour Square     62      Armour Square\n",
       "416  Washington Square     19  Washington Square\n",
       "173       Homan Square     15       Homan Square\n",
       "238   Logan Square DFA      8   Logan Square DFA\n",
       "139       Goudy Square      1       Goudy Square"
      ]
     },
     "execution_count": 79,
     "metadata": {},
     "output_type": "execute_result"
    }
   ],
   "source": [
    "park_names[park_names['ALIAS'].str.contains('Square')]"
   ]
  },
  {
   "cell_type": "code",
   "execution_count": 80,
   "id": "1ee72ef1-b958-4dcc-a0f8-15fa4eda636d",
   "metadata": {},
   "outputs": [
    {
     "data": {
      "text/html": [
       "<div>\n",
       "<style scoped>\n",
       "    .dataframe tbody tr th:only-of-type {\n",
       "        vertical-align: middle;\n",
       "    }\n",
       "\n",
       "    .dataframe tbody tr th {\n",
       "        vertical-align: top;\n",
       "    }\n",
       "\n",
       "    .dataframe thead th {\n",
       "        text-align: right;\n",
       "    }\n",
       "</style>\n",
       "<table border=\"1\" class=\"dataframe\">\n",
       "  <thead>\n",
       "    <tr style=\"text-align: right;\">\n",
       "      <th></th>\n",
       "      <th>LABEL</th>\n",
       "      <th>trees</th>\n",
       "      <th>ALIAS</th>\n",
       "    </tr>\n",
       "  </thead>\n",
       "  <tbody>\n",
       "    <tr>\n",
       "      <th>355</th>\n",
       "      <td>True</td>\n",
       "      <td>True</td>\n",
       "      <td>True</td>\n",
       "    </tr>\n",
       "    <tr>\n",
       "      <th>345</th>\n",
       "      <td>True</td>\n",
       "      <td>True</td>\n",
       "      <td>True</td>\n",
       "    </tr>\n",
       "    <tr>\n",
       "      <th>300</th>\n",
       "      <td>True</td>\n",
       "      <td>True</td>\n",
       "      <td>True</td>\n",
       "    </tr>\n",
       "    <tr>\n",
       "      <th>92</th>\n",
       "      <td>True</td>\n",
       "      <td>True</td>\n",
       "      <td>True</td>\n",
       "    </tr>\n",
       "    <tr>\n",
       "      <th>86</th>\n",
       "      <td>True</td>\n",
       "      <td>True</td>\n",
       "      <td>True</td>\n",
       "    </tr>\n",
       "    <tr>\n",
       "      <th>13</th>\n",
       "      <td>True</td>\n",
       "      <td>True</td>\n",
       "      <td>True</td>\n",
       "    </tr>\n",
       "    <tr>\n",
       "      <th>416</th>\n",
       "      <td>True</td>\n",
       "      <td>True</td>\n",
       "      <td>True</td>\n",
       "    </tr>\n",
       "    <tr>\n",
       "      <th>173</th>\n",
       "      <td>True</td>\n",
       "      <td>True</td>\n",
       "      <td>True</td>\n",
       "    </tr>\n",
       "    <tr>\n",
       "      <th>238</th>\n",
       "      <td>True</td>\n",
       "      <td>True</td>\n",
       "      <td>True</td>\n",
       "    </tr>\n",
       "    <tr>\n",
       "      <th>139</th>\n",
       "      <td>True</td>\n",
       "      <td>True</td>\n",
       "      <td>True</td>\n",
       "    </tr>\n",
       "  </tbody>\n",
       "</table>\n",
       "</div>"
      ],
      "text/plain": [
       "     LABEL  trees  ALIAS\n",
       "355   True   True   True\n",
       "345   True   True   True\n",
       "300   True   True   True\n",
       "92    True   True   True\n",
       "86    True   True   True\n",
       "13    True   True   True\n",
       "416   True   True   True\n",
       "173   True   True   True\n",
       "238   True   True   True\n",
       "139   True   True   True"
      ]
     },
     "execution_count": 80,
     "metadata": {},
     "output_type": "execute_result"
    }
   ],
   "source": [
    "park_names[park_names['ALIAS'].str.contains('Sq')] == park_names[park_names['ALIAS'].str.contains('Square')]"
   ]
  },
  {
   "cell_type": "markdown",
   "id": "ccc42f56-5c07-44a2-be6d-d669c3b96bf1",
   "metadata": {},
   "source": [
    "Statement: all the _park_names_ ending with an ending word word beginning with \"Sq\" are ending with a \"Square\" word.\n",
    "\n",
    "What happens in _short_off_?"
   ]
  },
  {
   "cell_type": "code",
   "execution_count": 81,
   "id": "bf47db92-7e80-4a7f-ade2-28c067ef5edd",
   "metadata": {},
   "outputs": [
    {
     "data": {
      "text/html": [
       "<div>\n",
       "<style scoped>\n",
       "    .dataframe tbody tr th:only-of-type {\n",
       "        vertical-align: middle;\n",
       "    }\n",
       "\n",
       "    .dataframe tbody tr th {\n",
       "        vertical-align: top;\n",
       "    }\n",
       "\n",
       "    .dataframe thead th {\n",
       "        text-align: right;\n",
       "    }\n",
       "</style>\n",
       "<table border=\"1\" class=\"dataframe\">\n",
       "  <thead>\n",
       "    <tr style=\"text-align: right;\">\n",
       "      <th></th>\n",
       "      <th>PARK</th>\n",
       "      <th>LABEL</th>\n",
       "      <th>ACRES</th>\n",
       "      <th>WARD</th>\n",
       "      <th>PARK_CLASS</th>\n",
       "      <th>ALIAS</th>\n",
       "    </tr>\n",
       "  </thead>\n",
       "  <tbody>\n",
       "    <tr>\n",
       "      <th>61</th>\n",
       "      <td>ROBERTS (DANIEL) SQUARE</td>\n",
       "      <td>Roberts Square</td>\n",
       "      <td>4.53</td>\n",
       "      <td>45</td>\n",
       "      <td>NEIGHBORHOOD PARK</td>\n",
       "      <td>Roberts Square</td>\n",
       "    </tr>\n",
       "  </tbody>\n",
       "</table>\n",
       "</div>"
      ],
      "text/plain": [
       "                       PARK           LABEL  ACRES  WARD         PARK_CLASS  \\\n",
       "61  ROBERTS (DANIEL) SQUARE  Roberts Square   4.53    45  NEIGHBORHOOD PARK   \n",
       "\n",
       "             ALIAS  \n",
       "61  Roberts Square  "
      ]
     },
     "execution_count": 81,
     "metadata": {},
     "output_type": "execute_result"
    }
   ],
   "source": [
    "short_off[short_off['LABEL'].str.contains('Square')]"
   ]
  },
  {
   "cell_type": "code",
   "execution_count": 82,
   "id": "194eca1a-ee95-4e88-9440-283568a8e406",
   "metadata": {},
   "outputs": [
    {
     "data": {
      "text/html": [
       "<div>\n",
       "<style scoped>\n",
       "    .dataframe tbody tr th:only-of-type {\n",
       "        vertical-align: middle;\n",
       "    }\n",
       "\n",
       "    .dataframe tbody tr th {\n",
       "        vertical-align: top;\n",
       "    }\n",
       "\n",
       "    .dataframe thead th {\n",
       "        text-align: right;\n",
       "    }\n",
       "</style>\n",
       "<table border=\"1\" class=\"dataframe\">\n",
       "  <thead>\n",
       "    <tr style=\"text-align: right;\">\n",
       "      <th></th>\n",
       "      <th>PARK</th>\n",
       "      <th>LABEL</th>\n",
       "      <th>ACRES</th>\n",
       "      <th>WARD</th>\n",
       "      <th>PARK_CLASS</th>\n",
       "      <th>ALIAS</th>\n",
       "    </tr>\n",
       "  </thead>\n",
       "  <tbody>\n",
       "    <tr>\n",
       "      <th>1</th>\n",
       "      <td>ARMOUR (PHILIP) SQUARE</td>\n",
       "      <td>Armour Sq</td>\n",
       "      <td>9.05</td>\n",
       "      <td>11</td>\n",
       "      <td>COMMUNITY PARK</td>\n",
       "      <td>Armour Sq</td>\n",
       "    </tr>\n",
       "    <tr>\n",
       "      <th>3</th>\n",
       "      <td>CORNELL (PAUL) SQUARE</td>\n",
       "      <td>Cornell Sq</td>\n",
       "      <td>8.80</td>\n",
       "      <td>20</td>\n",
       "      <td>COMMUNITY PARK</td>\n",
       "      <td>Cornell Sq</td>\n",
       "    </tr>\n",
       "    <tr>\n",
       "      <th>4</th>\n",
       "      <td>RUSSELL (MARTIN) SQUARE</td>\n",
       "      <td>Russell Sq</td>\n",
       "      <td>10.05</td>\n",
       "      <td>10</td>\n",
       "      <td>COMMUNITY PARK</td>\n",
       "      <td>Russell Sq</td>\n",
       "    </tr>\n",
       "    <tr>\n",
       "      <th>6</th>\n",
       "      <td>DAVIS (DR. NATHAN) SQUARE</td>\n",
       "      <td>Davis (Nathan) Sq</td>\n",
       "      <td>8.91</td>\n",
       "      <td>15</td>\n",
       "      <td>COMMUNITY PARK</td>\n",
       "      <td>Davis Nathan Sq</td>\n",
       "    </tr>\n",
       "    <tr>\n",
       "      <th>61</th>\n",
       "      <td>ROBERTS (DANIEL) SQUARE</td>\n",
       "      <td>Roberts Square</td>\n",
       "      <td>4.53</td>\n",
       "      <td>45</td>\n",
       "      <td>NEIGHBORHOOD PARK</td>\n",
       "      <td>Roberts Square</td>\n",
       "    </tr>\n",
       "    <tr>\n",
       "      <th>65</th>\n",
       "      <td>GOUDY (WILLIAM) SQUARE</td>\n",
       "      <td>Goudy Sq</td>\n",
       "      <td>0.61</td>\n",
       "      <td>43</td>\n",
       "      <td>MINI-PARK</td>\n",
       "      <td>Goudy Sq</td>\n",
       "    </tr>\n",
       "    <tr>\n",
       "      <th>211</th>\n",
       "      <td>FLYING SQUIRREL</td>\n",
       "      <td>Flying Squirrel</td>\n",
       "      <td>0.33</td>\n",
       "      <td>5</td>\n",
       "      <td>MINI-PARK</td>\n",
       "      <td>Flying Squirrel</td>\n",
       "    </tr>\n",
       "    <tr>\n",
       "      <th>344</th>\n",
       "      <td>HOMAN SQUARE COMMUNITY CENTER</td>\n",
       "      <td>Homan Sq CC</td>\n",
       "      <td>5.46</td>\n",
       "      <td>24</td>\n",
       "      <td>COMMUNITY PARK</td>\n",
       "      <td>Homan Sq CC</td>\n",
       "    </tr>\n",
       "    <tr>\n",
       "      <th>368</th>\n",
       "      <td>PALMER SQUARE</td>\n",
       "      <td>Palmer Sq</td>\n",
       "      <td>8.09</td>\n",
       "      <td>0</td>\n",
       "      <td>COMMUNITY PARK</td>\n",
       "      <td>Palmer Sq</td>\n",
       "    </tr>\n",
       "    <tr>\n",
       "      <th>376</th>\n",
       "      <td>LOGAN SQUARE SKATE PARK</td>\n",
       "      <td>Logan Sq Skate Park</td>\n",
       "      <td>1.61</td>\n",
       "      <td>32</td>\n",
       "      <td>NEIGHBORHOOD PARK</td>\n",
       "      <td>Logan Sq Skate Park</td>\n",
       "    </tr>\n",
       "    <tr>\n",
       "      <th>543</th>\n",
       "      <td>BICKERDIKE (GEORGE) SQUARE</td>\n",
       "      <td>Bickerdike Sq</td>\n",
       "      <td>0.72</td>\n",
       "      <td>1</td>\n",
       "      <td>PASSIVE PARK</td>\n",
       "      <td>Bickerdike Sq</td>\n",
       "    </tr>\n",
       "    <tr>\n",
       "      <th>565</th>\n",
       "      <td>WASHINGTON SQUARE</td>\n",
       "      <td>Washington Sq</td>\n",
       "      <td>2.84</td>\n",
       "      <td>2</td>\n",
       "      <td>PASSIVE PARK</td>\n",
       "      <td>Washington Sq</td>\n",
       "    </tr>\n",
       "  </tbody>\n",
       "</table>\n",
       "</div>"
      ],
      "text/plain": [
       "                              PARK                LABEL  ACRES  WARD  \\\n",
       "1           ARMOUR (PHILIP) SQUARE            Armour Sq   9.05    11   \n",
       "3            CORNELL (PAUL) SQUARE           Cornell Sq   8.80    20   \n",
       "4          RUSSELL (MARTIN) SQUARE           Russell Sq  10.05    10   \n",
       "6        DAVIS (DR. NATHAN) SQUARE    Davis (Nathan) Sq   8.91    15   \n",
       "61         ROBERTS (DANIEL) SQUARE       Roberts Square   4.53    45   \n",
       "65          GOUDY (WILLIAM) SQUARE             Goudy Sq   0.61    43   \n",
       "211                FLYING SQUIRREL      Flying Squirrel   0.33     5   \n",
       "344  HOMAN SQUARE COMMUNITY CENTER          Homan Sq CC   5.46    24   \n",
       "368                  PALMER SQUARE            Palmer Sq   8.09     0   \n",
       "376        LOGAN SQUARE SKATE PARK  Logan Sq Skate Park   1.61    32   \n",
       "543     BICKERDIKE (GEORGE) SQUARE        Bickerdike Sq   0.72     1   \n",
       "565              WASHINGTON SQUARE        Washington Sq   2.84     2   \n",
       "\n",
       "            PARK_CLASS                ALIAS  \n",
       "1       COMMUNITY PARK            Armour Sq  \n",
       "3       COMMUNITY PARK           Cornell Sq  \n",
       "4       COMMUNITY PARK           Russell Sq  \n",
       "6       COMMUNITY PARK      Davis Nathan Sq  \n",
       "61   NEIGHBORHOOD PARK       Roberts Square  \n",
       "65           MINI-PARK             Goudy Sq  \n",
       "211          MINI-PARK      Flying Squirrel  \n",
       "344     COMMUNITY PARK          Homan Sq CC  \n",
       "368     COMMUNITY PARK            Palmer Sq  \n",
       "376  NEIGHBORHOOD PARK  Logan Sq Skate Park  \n",
       "543       PASSIVE PARK        Bickerdike Sq  \n",
       "565       PASSIVE PARK        Washington Sq  "
      ]
     },
     "execution_count": 82,
     "metadata": {},
     "output_type": "execute_result"
    }
   ],
   "source": [
    "short_off[short_off['LABEL'].str.contains('Sq')]"
   ]
  },
  {
   "cell_type": "markdown",
   "id": "e4345f8a-4278-4756-b4cb-bf0b947c86e8",
   "metadata": {},
   "source": [
    "__Statement:__\n",
    "Most of the cases, short_off alias containing an ending word starting with \"Sq\" really mean \"Square\", but not all.\n",
    "- There is a \"Roberts Square\"\n",
    "- There is a \"Flying Squirrel\".\n",
    "- And there is a \"Logan Square DFA\", that might match to a Logan Square \"DFA\" (in park_names) but not 100%.\n",
    "\n",
    "Given that _park_names_ could be used for future operations, I decided to create a modified version of short_off, named as _short_off_mod_, and changing there  the \"Sq\" with \"Square\".\n",
    "\n",
    "So, the followed steps were:\n",
    "\n",
    "1. Create a copy of short_off, just in case there were any problem."
   ]
  },
  {
   "cell_type": "code",
   "execution_count": 83,
   "id": "3fbcfb48-c037-4020-b132-4424cb4652db",
   "metadata": {},
   "outputs": [],
   "source": [
    "short_off_mod = short_off.copy()"
   ]
  },
  {
   "cell_type": "code",
   "execution_count": 84,
   "id": "9ebca091-cb5d-446e-b1c9-671d158ce359",
   "metadata": {},
   "outputs": [
    {
     "data": {
      "text/html": [
       "<div>\n",
       "<style scoped>\n",
       "    .dataframe tbody tr th:only-of-type {\n",
       "        vertical-align: middle;\n",
       "    }\n",
       "\n",
       "    .dataframe tbody tr th {\n",
       "        vertical-align: top;\n",
       "    }\n",
       "\n",
       "    .dataframe thead th {\n",
       "        text-align: right;\n",
       "    }\n",
       "</style>\n",
       "<table border=\"1\" class=\"dataframe\">\n",
       "  <thead>\n",
       "    <tr style=\"text-align: right;\">\n",
       "      <th></th>\n",
       "      <th>PARK</th>\n",
       "      <th>LABEL</th>\n",
       "      <th>ACRES</th>\n",
       "      <th>WARD</th>\n",
       "      <th>PARK_CLASS</th>\n",
       "      <th>ALIAS</th>\n",
       "    </tr>\n",
       "  </thead>\n",
       "  <tbody>\n",
       "    <tr>\n",
       "      <th>0</th>\n",
       "      <td>MCGUANE (JOHN)</td>\n",
       "      <td>McGuane</td>\n",
       "      <td>10.30</td>\n",
       "      <td>11</td>\n",
       "      <td>COMMUNITY PARK</td>\n",
       "      <td>McGuane</td>\n",
       "    </tr>\n",
       "    <tr>\n",
       "      <th>1</th>\n",
       "      <td>ARMOUR (PHILIP) SQUARE</td>\n",
       "      <td>Armour Sq</td>\n",
       "      <td>9.05</td>\n",
       "      <td>11</td>\n",
       "      <td>COMMUNITY PARK</td>\n",
       "      <td>Armour Sq</td>\n",
       "    </tr>\n",
       "    <tr>\n",
       "      <th>2</th>\n",
       "      <td>FULLER (MELVILLE)</td>\n",
       "      <td>Fuller</td>\n",
       "      <td>11.31</td>\n",
       "      <td>3</td>\n",
       "      <td>COMMUNITY PARK</td>\n",
       "      <td>Fuller</td>\n",
       "    </tr>\n",
       "    <tr>\n",
       "      <th>3</th>\n",
       "      <td>CORNELL (PAUL) SQUARE</td>\n",
       "      <td>Cornell Sq</td>\n",
       "      <td>8.80</td>\n",
       "      <td>20</td>\n",
       "      <td>COMMUNITY PARK</td>\n",
       "      <td>Cornell Sq</td>\n",
       "    </tr>\n",
       "    <tr>\n",
       "      <th>4</th>\n",
       "      <td>RUSSELL (MARTIN) SQUARE</td>\n",
       "      <td>Russell Sq</td>\n",
       "      <td>10.05</td>\n",
       "      <td>10</td>\n",
       "      <td>COMMUNITY PARK</td>\n",
       "      <td>Russell Sq</td>\n",
       "    </tr>\n",
       "    <tr>\n",
       "      <th>...</th>\n",
       "      <td>...</td>\n",
       "      <td>...</td>\n",
       "      <td>...</td>\n",
       "      <td>...</td>\n",
       "      <td>...</td>\n",
       "      <td>...</td>\n",
       "    </tr>\n",
       "    <tr>\n",
       "      <th>612</th>\n",
       "      <td>PARK NO. 598</td>\n",
       "      <td>Park 598</td>\n",
       "      <td>3.89</td>\n",
       "      <td>27</td>\n",
       "      <td>UNIMPROVED PARK</td>\n",
       "      <td>Park 598</td>\n",
       "    </tr>\n",
       "    <tr>\n",
       "      <th>613</th>\n",
       "      <td>PARK NO. 599</td>\n",
       "      <td>Park 599</td>\n",
       "      <td>0.00</td>\n",
       "      <td>0</td>\n",
       "      <td>PENDING</td>\n",
       "      <td>Park 599</td>\n",
       "    </tr>\n",
       "    <tr>\n",
       "      <th>614</th>\n",
       "      <td>PARK NO. 600</td>\n",
       "      <td>Park 600</td>\n",
       "      <td>0.00</td>\n",
       "      <td>0</td>\n",
       "      <td>PENDING</td>\n",
       "      <td>Park 600</td>\n",
       "    </tr>\n",
       "    <tr>\n",
       "      <th>615</th>\n",
       "      <td>PARK NO. 601</td>\n",
       "      <td>Park 601</td>\n",
       "      <td>0.00</td>\n",
       "      <td>0</td>\n",
       "      <td>PENDING</td>\n",
       "      <td>Park 601</td>\n",
       "    </tr>\n",
       "    <tr>\n",
       "      <th>616</th>\n",
       "      <td>PARK NO. 602</td>\n",
       "      <td>Park 602</td>\n",
       "      <td>0.00</td>\n",
       "      <td>0</td>\n",
       "      <td>PENDING</td>\n",
       "      <td>Park 602</td>\n",
       "    </tr>\n",
       "  </tbody>\n",
       "</table>\n",
       "<p>617 rows × 6 columns</p>\n",
       "</div>"
      ],
      "text/plain": [
       "                        PARK       LABEL  ACRES  WARD       PARK_CLASS  \\\n",
       "0             MCGUANE (JOHN)     McGuane  10.30    11   COMMUNITY PARK   \n",
       "1     ARMOUR (PHILIP) SQUARE   Armour Sq   9.05    11   COMMUNITY PARK   \n",
       "2          FULLER (MELVILLE)      Fuller  11.31     3   COMMUNITY PARK   \n",
       "3      CORNELL (PAUL) SQUARE  Cornell Sq   8.80    20   COMMUNITY PARK   \n",
       "4    RUSSELL (MARTIN) SQUARE  Russell Sq  10.05    10   COMMUNITY PARK   \n",
       "..                       ...         ...    ...   ...              ...   \n",
       "612             PARK NO. 598    Park 598   3.89    27  UNIMPROVED PARK   \n",
       "613             PARK NO. 599    Park 599   0.00     0          PENDING   \n",
       "614             PARK NO. 600    Park 600   0.00     0          PENDING   \n",
       "615             PARK NO. 601    Park 601   0.00     0          PENDING   \n",
       "616             PARK NO. 602    Park 602   0.00     0          PENDING   \n",
       "\n",
       "          ALIAS  \n",
       "0       McGuane  \n",
       "1     Armour Sq  \n",
       "2        Fuller  \n",
       "3    Cornell Sq  \n",
       "4    Russell Sq  \n",
       "..          ...  \n",
       "612    Park 598  \n",
       "613    Park 599  \n",
       "614    Park 600  \n",
       "615    Park 601  \n",
       "616    Park 602  \n",
       "\n",
       "[617 rows x 6 columns]"
      ]
     },
     "execution_count": 84,
     "metadata": {},
     "output_type": "execute_result"
    }
   ],
   "source": [
    "short_off_mod"
   ]
  },
  {
   "cell_type": "markdown",
   "id": "0d5a2340-cb9a-47f2-85a9-92f68398dcbc",
   "metadata": {},
   "source": [
    "2. Extract a subset with all the rows ending with 'Sq'..."
   ]
  },
  {
   "cell_type": "code",
   "execution_count": 85,
   "id": "eb4040f9-7477-4518-91ba-fb71c24ca0a5",
   "metadata": {},
   "outputs": [],
   "source": [
    "sq = short_off_mod[short_off['ALIAS'].str.endswith('Sq')]"
   ]
  },
  {
   "cell_type": "code",
   "execution_count": 86,
   "id": "1a78dc4e-9a0d-42d5-b3e5-da5ea46e8d8c",
   "metadata": {
    "scrolled": true
   },
   "outputs": [
    {
     "data": {
      "text/html": [
       "<div>\n",
       "<style scoped>\n",
       "    .dataframe tbody tr th:only-of-type {\n",
       "        vertical-align: middle;\n",
       "    }\n",
       "\n",
       "    .dataframe tbody tr th {\n",
       "        vertical-align: top;\n",
       "    }\n",
       "\n",
       "    .dataframe thead th {\n",
       "        text-align: right;\n",
       "    }\n",
       "</style>\n",
       "<table border=\"1\" class=\"dataframe\">\n",
       "  <thead>\n",
       "    <tr style=\"text-align: right;\">\n",
       "      <th></th>\n",
       "      <th>PARK</th>\n",
       "      <th>LABEL</th>\n",
       "      <th>ACRES</th>\n",
       "      <th>WARD</th>\n",
       "      <th>PARK_CLASS</th>\n",
       "      <th>ALIAS</th>\n",
       "    </tr>\n",
       "  </thead>\n",
       "  <tbody>\n",
       "    <tr>\n",
       "      <th>1</th>\n",
       "      <td>ARMOUR (PHILIP) SQUARE</td>\n",
       "      <td>Armour Sq</td>\n",
       "      <td>9.05</td>\n",
       "      <td>11</td>\n",
       "      <td>COMMUNITY PARK</td>\n",
       "      <td>Armour Sq</td>\n",
       "    </tr>\n",
       "    <tr>\n",
       "      <th>3</th>\n",
       "      <td>CORNELL (PAUL) SQUARE</td>\n",
       "      <td>Cornell Sq</td>\n",
       "      <td>8.80</td>\n",
       "      <td>20</td>\n",
       "      <td>COMMUNITY PARK</td>\n",
       "      <td>Cornell Sq</td>\n",
       "    </tr>\n",
       "    <tr>\n",
       "      <th>4</th>\n",
       "      <td>RUSSELL (MARTIN) SQUARE</td>\n",
       "      <td>Russell Sq</td>\n",
       "      <td>10.05</td>\n",
       "      <td>10</td>\n",
       "      <td>COMMUNITY PARK</td>\n",
       "      <td>Russell Sq</td>\n",
       "    </tr>\n",
       "    <tr>\n",
       "      <th>6</th>\n",
       "      <td>DAVIS (DR. NATHAN) SQUARE</td>\n",
       "      <td>Davis (Nathan) Sq</td>\n",
       "      <td>8.91</td>\n",
       "      <td>15</td>\n",
       "      <td>COMMUNITY PARK</td>\n",
       "      <td>Davis Nathan Sq</td>\n",
       "    </tr>\n",
       "    <tr>\n",
       "      <th>65</th>\n",
       "      <td>GOUDY (WILLIAM) SQUARE</td>\n",
       "      <td>Goudy Sq</td>\n",
       "      <td>0.61</td>\n",
       "      <td>43</td>\n",
       "      <td>MINI-PARK</td>\n",
       "      <td>Goudy Sq</td>\n",
       "    </tr>\n",
       "    <tr>\n",
       "      <th>368</th>\n",
       "      <td>PALMER SQUARE</td>\n",
       "      <td>Palmer Sq</td>\n",
       "      <td>8.09</td>\n",
       "      <td>0</td>\n",
       "      <td>COMMUNITY PARK</td>\n",
       "      <td>Palmer Sq</td>\n",
       "    </tr>\n",
       "    <tr>\n",
       "      <th>543</th>\n",
       "      <td>BICKERDIKE (GEORGE) SQUARE</td>\n",
       "      <td>Bickerdike Sq</td>\n",
       "      <td>0.72</td>\n",
       "      <td>1</td>\n",
       "      <td>PASSIVE PARK</td>\n",
       "      <td>Bickerdike Sq</td>\n",
       "    </tr>\n",
       "    <tr>\n",
       "      <th>565</th>\n",
       "      <td>WASHINGTON SQUARE</td>\n",
       "      <td>Washington Sq</td>\n",
       "      <td>2.84</td>\n",
       "      <td>2</td>\n",
       "      <td>PASSIVE PARK</td>\n",
       "      <td>Washington Sq</td>\n",
       "    </tr>\n",
       "  </tbody>\n",
       "</table>\n",
       "</div>"
      ],
      "text/plain": [
       "                           PARK              LABEL  ACRES  WARD  \\\n",
       "1        ARMOUR (PHILIP) SQUARE          Armour Sq   9.05    11   \n",
       "3         CORNELL (PAUL) SQUARE         Cornell Sq   8.80    20   \n",
       "4       RUSSELL (MARTIN) SQUARE         Russell Sq  10.05    10   \n",
       "6     DAVIS (DR. NATHAN) SQUARE  Davis (Nathan) Sq   8.91    15   \n",
       "65       GOUDY (WILLIAM) SQUARE           Goudy Sq   0.61    43   \n",
       "368               PALMER SQUARE          Palmer Sq   8.09     0   \n",
       "543  BICKERDIKE (GEORGE) SQUARE      Bickerdike Sq   0.72     1   \n",
       "565           WASHINGTON SQUARE      Washington Sq   2.84     2   \n",
       "\n",
       "         PARK_CLASS            ALIAS  \n",
       "1    COMMUNITY PARK        Armour Sq  \n",
       "3    COMMUNITY PARK       Cornell Sq  \n",
       "4    COMMUNITY PARK       Russell Sq  \n",
       "6    COMMUNITY PARK  Davis Nathan Sq  \n",
       "65        MINI-PARK         Goudy Sq  \n",
       "368  COMMUNITY PARK        Palmer Sq  \n",
       "543    PASSIVE PARK    Bickerdike Sq  \n",
       "565    PASSIVE PARK    Washington Sq  "
      ]
     },
     "execution_count": 86,
     "metadata": {},
     "output_type": "execute_result"
    }
   ],
   "source": [
    "sq"
   ]
  },
  {
   "cell_type": "markdown",
   "id": "2e937dab-1a96-49fb-bbf4-10f9fa45e283",
   "metadata": {},
   "source": [
    "3. Inside these 'ALIAS' cells, replace 'Sq' with 'Square'"
   ]
  },
  {
   "cell_type": "code",
   "execution_count": 87,
   "id": "75744a29-5eb2-4f44-8584-58090487b492",
   "metadata": {},
   "outputs": [
    {
     "name": "stderr",
     "output_type": "stream",
     "text": [
      "C:\\Users\\pirio\\AppData\\Local\\Temp\\ipykernel_13080\\1772677520.py:1: SettingWithCopyWarning: \n",
      "A value is trying to be set on a copy of a slice from a DataFrame.\n",
      "Try using .loc[row_indexer,col_indexer] = value instead\n",
      "\n",
      "See the caveats in the documentation: https://pandas.pydata.org/pandas-docs/stable/user_guide/indexing.html#returning-a-view-versus-a-copy\n",
      "  [sq['ALIAS']] = [sq['ALIAS'].str.replace('Sq','Square')]\n"
     ]
    }
   ],
   "source": [
    "[sq['ALIAS']] = [sq['ALIAS'].str.replace('Sq','Square')]"
   ]
  },
  {
   "cell_type": "code",
   "execution_count": 88,
   "id": "c23afbdb-cd26-46a1-a3fc-d6e9e8c969e2",
   "metadata": {},
   "outputs": [
    {
     "data": {
      "text/html": [
       "<div>\n",
       "<style scoped>\n",
       "    .dataframe tbody tr th:only-of-type {\n",
       "        vertical-align: middle;\n",
       "    }\n",
       "\n",
       "    .dataframe tbody tr th {\n",
       "        vertical-align: top;\n",
       "    }\n",
       "\n",
       "    .dataframe thead th {\n",
       "        text-align: right;\n",
       "    }\n",
       "</style>\n",
       "<table border=\"1\" class=\"dataframe\">\n",
       "  <thead>\n",
       "    <tr style=\"text-align: right;\">\n",
       "      <th></th>\n",
       "      <th>PARK</th>\n",
       "      <th>LABEL</th>\n",
       "      <th>ACRES</th>\n",
       "      <th>WARD</th>\n",
       "      <th>PARK_CLASS</th>\n",
       "      <th>ALIAS</th>\n",
       "    </tr>\n",
       "  </thead>\n",
       "  <tbody>\n",
       "    <tr>\n",
       "      <th>1</th>\n",
       "      <td>ARMOUR (PHILIP) SQUARE</td>\n",
       "      <td>Armour Sq</td>\n",
       "      <td>9.05</td>\n",
       "      <td>11</td>\n",
       "      <td>COMMUNITY PARK</td>\n",
       "      <td>Armour Square</td>\n",
       "    </tr>\n",
       "    <tr>\n",
       "      <th>3</th>\n",
       "      <td>CORNELL (PAUL) SQUARE</td>\n",
       "      <td>Cornell Sq</td>\n",
       "      <td>8.80</td>\n",
       "      <td>20</td>\n",
       "      <td>COMMUNITY PARK</td>\n",
       "      <td>Cornell Square</td>\n",
       "    </tr>\n",
       "    <tr>\n",
       "      <th>4</th>\n",
       "      <td>RUSSELL (MARTIN) SQUARE</td>\n",
       "      <td>Russell Sq</td>\n",
       "      <td>10.05</td>\n",
       "      <td>10</td>\n",
       "      <td>COMMUNITY PARK</td>\n",
       "      <td>Russell Square</td>\n",
       "    </tr>\n",
       "    <tr>\n",
       "      <th>6</th>\n",
       "      <td>DAVIS (DR. NATHAN) SQUARE</td>\n",
       "      <td>Davis (Nathan) Sq</td>\n",
       "      <td>8.91</td>\n",
       "      <td>15</td>\n",
       "      <td>COMMUNITY PARK</td>\n",
       "      <td>Davis Nathan Square</td>\n",
       "    </tr>\n",
       "    <tr>\n",
       "      <th>65</th>\n",
       "      <td>GOUDY (WILLIAM) SQUARE</td>\n",
       "      <td>Goudy Sq</td>\n",
       "      <td>0.61</td>\n",
       "      <td>43</td>\n",
       "      <td>MINI-PARK</td>\n",
       "      <td>Goudy Square</td>\n",
       "    </tr>\n",
       "    <tr>\n",
       "      <th>368</th>\n",
       "      <td>PALMER SQUARE</td>\n",
       "      <td>Palmer Sq</td>\n",
       "      <td>8.09</td>\n",
       "      <td>0</td>\n",
       "      <td>COMMUNITY PARK</td>\n",
       "      <td>Palmer Square</td>\n",
       "    </tr>\n",
       "    <tr>\n",
       "      <th>543</th>\n",
       "      <td>BICKERDIKE (GEORGE) SQUARE</td>\n",
       "      <td>Bickerdike Sq</td>\n",
       "      <td>0.72</td>\n",
       "      <td>1</td>\n",
       "      <td>PASSIVE PARK</td>\n",
       "      <td>Bickerdike Square</td>\n",
       "    </tr>\n",
       "    <tr>\n",
       "      <th>565</th>\n",
       "      <td>WASHINGTON SQUARE</td>\n",
       "      <td>Washington Sq</td>\n",
       "      <td>2.84</td>\n",
       "      <td>2</td>\n",
       "      <td>PASSIVE PARK</td>\n",
       "      <td>Washington Square</td>\n",
       "    </tr>\n",
       "  </tbody>\n",
       "</table>\n",
       "</div>"
      ],
      "text/plain": [
       "                           PARK              LABEL  ACRES  WARD  \\\n",
       "1        ARMOUR (PHILIP) SQUARE          Armour Sq   9.05    11   \n",
       "3         CORNELL (PAUL) SQUARE         Cornell Sq   8.80    20   \n",
       "4       RUSSELL (MARTIN) SQUARE         Russell Sq  10.05    10   \n",
       "6     DAVIS (DR. NATHAN) SQUARE  Davis (Nathan) Sq   8.91    15   \n",
       "65       GOUDY (WILLIAM) SQUARE           Goudy Sq   0.61    43   \n",
       "368               PALMER SQUARE          Palmer Sq   8.09     0   \n",
       "543  BICKERDIKE (GEORGE) SQUARE      Bickerdike Sq   0.72     1   \n",
       "565           WASHINGTON SQUARE      Washington Sq   2.84     2   \n",
       "\n",
       "         PARK_CLASS                ALIAS  \n",
       "1    COMMUNITY PARK        Armour Square  \n",
       "3    COMMUNITY PARK       Cornell Square  \n",
       "4    COMMUNITY PARK       Russell Square  \n",
       "6    COMMUNITY PARK  Davis Nathan Square  \n",
       "65        MINI-PARK         Goudy Square  \n",
       "368  COMMUNITY PARK        Palmer Square  \n",
       "543    PASSIVE PARK    Bickerdike Square  \n",
       "565    PASSIVE PARK    Washington Square  "
      ]
     },
     "execution_count": 88,
     "metadata": {},
     "output_type": "execute_result"
    }
   ],
   "source": [
    "sq"
   ]
  },
  {
   "cell_type": "markdown",
   "id": "190c32f6-f946-41dd-a7b6-25383f000797",
   "metadata": {},
   "source": [
    "4. Concat both sets, sq (the \"square\" subset) and short_off_mod, in a new subset, short_off_3."
   ]
  },
  {
   "cell_type": "code",
   "execution_count": 89,
   "id": "85a07dd4-6148-40d9-b631-7b142fd3d419",
   "metadata": {},
   "outputs": [],
   "source": [
    "short_off_3 = pd.concat([sq,short_off_mod])"
   ]
  },
  {
   "cell_type": "markdown",
   "id": "17c48850-0886-452a-838f-3aac3c0590d1",
   "metadata": {},
   "source": [
    "5. Now, a same park (i.e., \"Armour Sq\" in 'LABEL'= will have two rows: the new (from Sq) and the old (from short_off_mod), in that order."
   ]
  },
  {
   "cell_type": "code",
   "execution_count": 90,
   "id": "a6a94fde-c7d1-4ed4-860e-2979db612893",
   "metadata": {},
   "outputs": [
    {
     "data": {
      "text/html": [
       "<div>\n",
       "<style scoped>\n",
       "    .dataframe tbody tr th:only-of-type {\n",
       "        vertical-align: middle;\n",
       "    }\n",
       "\n",
       "    .dataframe tbody tr th {\n",
       "        vertical-align: top;\n",
       "    }\n",
       "\n",
       "    .dataframe thead th {\n",
       "        text-align: right;\n",
       "    }\n",
       "</style>\n",
       "<table border=\"1\" class=\"dataframe\">\n",
       "  <thead>\n",
       "    <tr style=\"text-align: right;\">\n",
       "      <th></th>\n",
       "      <th>PARK</th>\n",
       "      <th>LABEL</th>\n",
       "      <th>ACRES</th>\n",
       "      <th>WARD</th>\n",
       "      <th>PARK_CLASS</th>\n",
       "      <th>ALIAS</th>\n",
       "    </tr>\n",
       "  </thead>\n",
       "  <tbody>\n",
       "    <tr>\n",
       "      <th>1</th>\n",
       "      <td>ARMOUR (PHILIP) SQUARE</td>\n",
       "      <td>Armour Sq</td>\n",
       "      <td>9.05</td>\n",
       "      <td>11</td>\n",
       "      <td>COMMUNITY PARK</td>\n",
       "      <td>Armour Square</td>\n",
       "    </tr>\n",
       "    <tr>\n",
       "      <th>1</th>\n",
       "      <td>ARMOUR (PHILIP) SQUARE</td>\n",
       "      <td>Armour Sq</td>\n",
       "      <td>9.05</td>\n",
       "      <td>11</td>\n",
       "      <td>COMMUNITY PARK</td>\n",
       "      <td>Armour Sq</td>\n",
       "    </tr>\n",
       "  </tbody>\n",
       "</table>\n",
       "</div>"
      ],
      "text/plain": [
       "                     PARK      LABEL  ACRES  WARD      PARK_CLASS  \\\n",
       "1  ARMOUR (PHILIP) SQUARE  Armour Sq   9.05    11  COMMUNITY PARK   \n",
       "1  ARMOUR (PHILIP) SQUARE  Armour Sq   9.05    11  COMMUNITY PARK   \n",
       "\n",
       "           ALIAS  \n",
       "1  Armour Square  \n",
       "1      Armour Sq  "
      ]
     },
     "execution_count": 90,
     "metadata": {},
     "output_type": "execute_result"
    }
   ],
   "source": [
    "short_off_3[short_off_3['ALIAS'].str.startswith('Armour')]"
   ]
  },
  {
   "cell_type": "markdown",
   "id": "13d8cedd-2b2b-4db7-a7aa-90d0acc6d9f8",
   "metadata": {},
   "source": [
    "6. Last, wipe off the duplicates. By default, it will keep the first row, from 'sq', and it will drop the second one, from 'short_off_mod'."
   ]
  },
  {
   "cell_type": "code",
   "execution_count": 91,
   "id": "991906eb-242d-417c-b00a-19ec52b00f0e",
   "metadata": {},
   "outputs": [
    {
     "data": {
      "text/html": [
       "<div>\n",
       "<style scoped>\n",
       "    .dataframe tbody tr th:only-of-type {\n",
       "        vertical-align: middle;\n",
       "    }\n",
       "\n",
       "    .dataframe tbody tr th {\n",
       "        vertical-align: top;\n",
       "    }\n",
       "\n",
       "    .dataframe thead th {\n",
       "        text-align: right;\n",
       "    }\n",
       "</style>\n",
       "<table border=\"1\" class=\"dataframe\">\n",
       "  <thead>\n",
       "    <tr style=\"text-align: right;\">\n",
       "      <th></th>\n",
       "      <th>PARK</th>\n",
       "      <th>LABEL</th>\n",
       "      <th>ACRES</th>\n",
       "      <th>WARD</th>\n",
       "      <th>PARK_CLASS</th>\n",
       "      <th>ALIAS</th>\n",
       "    </tr>\n",
       "  </thead>\n",
       "  <tbody>\n",
       "    <tr>\n",
       "      <th>1</th>\n",
       "      <td>ARMOUR (PHILIP) SQUARE</td>\n",
       "      <td>Armour Sq</td>\n",
       "      <td>9.05</td>\n",
       "      <td>11</td>\n",
       "      <td>COMMUNITY PARK</td>\n",
       "      <td>Armour Square</td>\n",
       "    </tr>\n",
       "    <tr>\n",
       "      <th>3</th>\n",
       "      <td>CORNELL (PAUL) SQUARE</td>\n",
       "      <td>Cornell Sq</td>\n",
       "      <td>8.80</td>\n",
       "      <td>20</td>\n",
       "      <td>COMMUNITY PARK</td>\n",
       "      <td>Cornell Square</td>\n",
       "    </tr>\n",
       "    <tr>\n",
       "      <th>4</th>\n",
       "      <td>RUSSELL (MARTIN) SQUARE</td>\n",
       "      <td>Russell Sq</td>\n",
       "      <td>10.05</td>\n",
       "      <td>10</td>\n",
       "      <td>COMMUNITY PARK</td>\n",
       "      <td>Russell Square</td>\n",
       "    </tr>\n",
       "    <tr>\n",
       "      <th>6</th>\n",
       "      <td>DAVIS (DR. NATHAN) SQUARE</td>\n",
       "      <td>Davis (Nathan) Sq</td>\n",
       "      <td>8.91</td>\n",
       "      <td>15</td>\n",
       "      <td>COMMUNITY PARK</td>\n",
       "      <td>Davis Nathan Square</td>\n",
       "    </tr>\n",
       "    <tr>\n",
       "      <th>65</th>\n",
       "      <td>GOUDY (WILLIAM) SQUARE</td>\n",
       "      <td>Goudy Sq</td>\n",
       "      <td>0.61</td>\n",
       "      <td>43</td>\n",
       "      <td>MINI-PARK</td>\n",
       "      <td>Goudy Square</td>\n",
       "    </tr>\n",
       "    <tr>\n",
       "      <th>...</th>\n",
       "      <td>...</td>\n",
       "      <td>...</td>\n",
       "      <td>...</td>\n",
       "      <td>...</td>\n",
       "      <td>...</td>\n",
       "      <td>...</td>\n",
       "    </tr>\n",
       "    <tr>\n",
       "      <th>612</th>\n",
       "      <td>PARK NO. 598</td>\n",
       "      <td>Park 598</td>\n",
       "      <td>3.89</td>\n",
       "      <td>27</td>\n",
       "      <td>UNIMPROVED PARK</td>\n",
       "      <td>Park 598</td>\n",
       "    </tr>\n",
       "    <tr>\n",
       "      <th>613</th>\n",
       "      <td>PARK NO. 599</td>\n",
       "      <td>Park 599</td>\n",
       "      <td>0.00</td>\n",
       "      <td>0</td>\n",
       "      <td>PENDING</td>\n",
       "      <td>Park 599</td>\n",
       "    </tr>\n",
       "    <tr>\n",
       "      <th>614</th>\n",
       "      <td>PARK NO. 600</td>\n",
       "      <td>Park 600</td>\n",
       "      <td>0.00</td>\n",
       "      <td>0</td>\n",
       "      <td>PENDING</td>\n",
       "      <td>Park 600</td>\n",
       "    </tr>\n",
       "    <tr>\n",
       "      <th>615</th>\n",
       "      <td>PARK NO. 601</td>\n",
       "      <td>Park 601</td>\n",
       "      <td>0.00</td>\n",
       "      <td>0</td>\n",
       "      <td>PENDING</td>\n",
       "      <td>Park 601</td>\n",
       "    </tr>\n",
       "    <tr>\n",
       "      <th>616</th>\n",
       "      <td>PARK NO. 602</td>\n",
       "      <td>Park 602</td>\n",
       "      <td>0.00</td>\n",
       "      <td>0</td>\n",
       "      <td>PENDING</td>\n",
       "      <td>Park 602</td>\n",
       "    </tr>\n",
       "  </tbody>\n",
       "</table>\n",
       "<p>617 rows × 6 columns</p>\n",
       "</div>"
      ],
      "text/plain": [
       "                          PARK              LABEL  ACRES  WARD  \\\n",
       "1       ARMOUR (PHILIP) SQUARE          Armour Sq   9.05    11   \n",
       "3        CORNELL (PAUL) SQUARE         Cornell Sq   8.80    20   \n",
       "4      RUSSELL (MARTIN) SQUARE         Russell Sq  10.05    10   \n",
       "6    DAVIS (DR. NATHAN) SQUARE  Davis (Nathan) Sq   8.91    15   \n",
       "65      GOUDY (WILLIAM) SQUARE           Goudy Sq   0.61    43   \n",
       "..                         ...                ...    ...   ...   \n",
       "612               PARK NO. 598           Park 598   3.89    27   \n",
       "613               PARK NO. 599           Park 599   0.00     0   \n",
       "614               PARK NO. 600           Park 600   0.00     0   \n",
       "615               PARK NO. 601           Park 601   0.00     0   \n",
       "616               PARK NO. 602           Park 602   0.00     0   \n",
       "\n",
       "          PARK_CLASS                ALIAS  \n",
       "1     COMMUNITY PARK        Armour Square  \n",
       "3     COMMUNITY PARK       Cornell Square  \n",
       "4     COMMUNITY PARK       Russell Square  \n",
       "6     COMMUNITY PARK  Davis Nathan Square  \n",
       "65         MINI-PARK         Goudy Square  \n",
       "..               ...                  ...  \n",
       "612  UNIMPROVED PARK             Park 598  \n",
       "613          PENDING             Park 599  \n",
       "614          PENDING             Park 600  \n",
       "615          PENDING             Park 601  \n",
       "616          PENDING             Park 602  \n",
       "\n",
       "[617 rows x 6 columns]"
      ]
     },
     "execution_count": 91,
     "metadata": {},
     "output_type": "execute_result"
    }
   ],
   "source": [
    "short_off_3.drop_duplicates(subset=['LABEL'])"
   ]
  },
  {
   "cell_type": "markdown",
   "id": "62da7b32-7828-4d0f-92ca-c9478d03643e",
   "metadata": {},
   "source": [
    "Let's try to merge again the current list of 'official' parks, `short_off_3`, and the current 'parks and trees' list, "
   ]
  },
  {
   "cell_type": "code",
   "execution_count": 92,
   "id": "be2df1ef-4e0c-4ecb-b48f-0c5d55fac5df",
   "metadata": {},
   "outputs": [],
   "source": [
    "compare_parks = pd.merge(park_names,short_off_3,on='ALIAS')"
   ]
  },
  {
   "cell_type": "code",
   "execution_count": 93,
   "id": "4fe3bf98-5a99-472f-8838-d118991be641",
   "metadata": {},
   "outputs": [
    {
     "data": {
      "text/plain": [
       "374"
      ]
     },
     "execution_count": 93,
     "metadata": {},
     "output_type": "execute_result"
    }
   ],
   "source": [
    "len(compare_parks['ALIAS'])"
   ]
  },
  {
   "cell_type": "markdown",
   "id": "152164f5-45b9-4b11-9c05-81a03fc1cb85",
   "metadata": {},
   "source": [
    "So, there are still 446-367 = 79 parks not matching!!!)\n",
    "\n",
    "But, are these remaining parks really relevant?\n",
    "\n",
    "For instance, how many trees were planted within these parks, on the whole?\n"
   ]
  },
  {
   "cell_type": "code",
   "execution_count": 94,
   "id": "a6661943-bbb6-4e08-bdb1-e5a2aeddde8d",
   "metadata": {},
   "outputs": [
    {
     "data": {
      "text/plain": [
       "36437"
      ]
     },
     "execution_count": 94,
     "metadata": {},
     "output_type": "execute_result"
    }
   ],
   "source": [
    "park_names['trees'].sum()"
   ]
  },
  {
   "cell_type": "code",
   "execution_count": 95,
   "id": "0dd1d35a-92ac-4168-9d69-b0e6c78cec8a",
   "metadata": {},
   "outputs": [
    {
     "data": {
      "text/plain": [
       "34003"
      ]
     },
     "execution_count": 95,
     "metadata": {},
     "output_type": "execute_result"
    }
   ],
   "source": [
    "compare_parks['trees'].sum()"
   ]
  },
  {
   "cell_type": "code",
   "execution_count": 96,
   "id": "989c88f3-3ac5-4396-a22e-2478d05b344d",
   "metadata": {},
   "outputs": [
    {
     "data": {
      "text/plain": [
       "93.31997694651042"
      ]
     },
     "execution_count": 96,
     "metadata": {},
     "output_type": "execute_result"
    }
   ],
   "source": [
    "compare_parks['trees'].sum() / park_names['trees'].sum() * 100"
   ]
  },
  {
   "cell_type": "markdown",
   "id": "145c570a-afdc-4f75-97f4-54644c65fb4f",
   "metadata": {},
   "source": [
    "So, now, 93,3% of the trees are included) whose parks names are not included into the merged list?\n",
    "\n",
    "Is there any relevant park not included yet? Let's try again:"
   ]
  },
  {
   "cell_type": "code",
   "execution_count": 97,
   "id": "a91fd91e-d563-4078-a772-97165dd2c018",
   "metadata": {},
   "outputs": [],
   "source": [
    "out = park_names[~park_names['ALIAS'].isin(short_off_3['ALIAS'])].sort_values('trees', ascending=False)"
   ]
  },
  {
   "cell_type": "code",
   "execution_count": 98,
   "id": "956e28fd-195f-4668-bec2-e0df1813a774",
   "metadata": {},
   "outputs": [
    {
     "data": {
      "text/plain": [
       "72"
      ]
     },
     "execution_count": 98,
     "metadata": {},
     "output_type": "execute_result"
    }
   ],
   "source": [
    "len(out)"
   ]
  },
  {
   "cell_type": "code",
   "execution_count": 99,
   "id": "3c6c4391-3017-4306-894c-645d136542a2",
   "metadata": {},
   "outputs": [
    {
     "data": {
      "text/plain": [
       "LABEL    LaFolletteNorth Park Nature CenterBrown Memori...\n",
       "trees                                                 2434\n",
       "ALIAS    LaFolletteNorth Park Nature CenterBrown Memori...\n",
       "dtype: object"
      ]
     },
     "execution_count": 99,
     "metadata": {},
     "output_type": "execute_result"
    }
   ],
   "source": [
    "out.sum()"
   ]
  },
  {
   "cell_type": "code",
   "execution_count": 100,
   "id": "3a9ab228-3307-47ac-b67b-4d7b43d1cffe",
   "metadata": {},
   "outputs": [
    {
     "data": {
      "text/html": [
       "<div>\n",
       "<style scoped>\n",
       "    .dataframe tbody tr th:only-of-type {\n",
       "        vertical-align: middle;\n",
       "    }\n",
       "\n",
       "    .dataframe tbody tr th {\n",
       "        vertical-align: top;\n",
       "    }\n",
       "\n",
       "    .dataframe thead th {\n",
       "        text-align: right;\n",
       "    }\n",
       "</style>\n",
       "<table border=\"1\" class=\"dataframe\">\n",
       "  <thead>\n",
       "    <tr style=\"text-align: right;\">\n",
       "      <th></th>\n",
       "      <th>LABEL</th>\n",
       "      <th>trees</th>\n",
       "      <th>ALIAS</th>\n",
       "    </tr>\n",
       "  </thead>\n",
       "  <tbody>\n",
       "    <tr>\n",
       "      <th>218</th>\n",
       "      <td>LaFollette</td>\n",
       "      <td>105</td>\n",
       "      <td>LaFollette</td>\n",
       "    </tr>\n",
       "    <tr>\n",
       "      <th>286</th>\n",
       "      <td>North Park Nature Center</td>\n",
       "      <td>104</td>\n",
       "      <td>North Park Nature Center</td>\n",
       "    </tr>\n",
       "    <tr>\n",
       "      <th>55</th>\n",
       "      <td>Brown Memorial</td>\n",
       "      <td>101</td>\n",
       "      <td>Brown Memorial</td>\n",
       "    </tr>\n",
       "    <tr>\n",
       "      <th>308</th>\n",
       "      <td>Park 503</td>\n",
       "      <td>95</td>\n",
       "      <td>Park 503</td>\n",
       "    </tr>\n",
       "    <tr>\n",
       "      <th>384</th>\n",
       "      <td>Stone, Bernard (Pk 526)</td>\n",
       "      <td>90</td>\n",
       "      <td>Stone Bernard Pk 526</td>\n",
       "    </tr>\n",
       "    <tr>\n",
       "      <th>122</th>\n",
       "      <td>Fernwood Parkway</td>\n",
       "      <td>87</td>\n",
       "      <td>Fernwood Parkway</td>\n",
       "    </tr>\n",
       "    <tr>\n",
       "      <th>77</th>\n",
       "      <td>Clarendon</td>\n",
       "      <td>86</td>\n",
       "      <td>Clarendon</td>\n",
       "    </tr>\n",
       "    <tr>\n",
       "      <th>287</th>\n",
       "      <td>North Park Village NC</td>\n",
       "      <td>84</td>\n",
       "      <td>North Park Village NC</td>\n",
       "    </tr>\n",
       "    <tr>\n",
       "      <th>245</th>\n",
       "      <td>Major Taylor Trail</td>\n",
       "      <td>75</td>\n",
       "      <td>Major Taylor Trail</td>\n",
       "    </tr>\n",
       "    <tr>\n",
       "      <th>92</th>\n",
       "      <td>Davis Square</td>\n",
       "      <td>75</td>\n",
       "      <td>Davis Square</td>\n",
       "    </tr>\n",
       "    <tr>\n",
       "      <th>98</th>\n",
       "      <td>Dixon, Lorraine</td>\n",
       "      <td>73</td>\n",
       "      <td>Dixon Lorraine</td>\n",
       "    </tr>\n",
       "    <tr>\n",
       "      <th>226</th>\n",
       "      <td>LeClaire-Hearst</td>\n",
       "      <td>72</td>\n",
       "      <td>LeClaireHearst</td>\n",
       "    </tr>\n",
       "    <tr>\n",
       "      <th>347</th>\n",
       "      <td>Robinson, Jackie</td>\n",
       "      <td>70</td>\n",
       "      <td>Robinson Jackie</td>\n",
       "    </tr>\n",
       "    <tr>\n",
       "      <th>244</th>\n",
       "      <td>Major Tailor Trail</td>\n",
       "      <td>68</td>\n",
       "      <td>Major Tailor Trail</td>\n",
       "    </tr>\n",
       "    <tr>\n",
       "      <th>374</th>\n",
       "      <td>Smith, Joseph H.</td>\n",
       "      <td>60</td>\n",
       "      <td>Smith Joseph H.</td>\n",
       "    </tr>\n",
       "    <tr>\n",
       "      <th>191</th>\n",
       "      <td>Jefferson Memorial</td>\n",
       "      <td>54</td>\n",
       "      <td>Jefferson Memorial</td>\n",
       "    </tr>\n",
       "    <tr>\n",
       "      <th>391</th>\n",
       "      <td>Taylor, Robert</td>\n",
       "      <td>50</td>\n",
       "      <td>Taylor Robert</td>\n",
       "    </tr>\n",
       "    <tr>\n",
       "      <th>208</th>\n",
       "      <td>King, ML Center</td>\n",
       "      <td>50</td>\n",
       "      <td>King ML Center</td>\n",
       "    </tr>\n",
       "    <tr>\n",
       "      <th>123</th>\n",
       "      <td>Field, Eugene</td>\n",
       "      <td>49</td>\n",
       "      <td>Field Eugene</td>\n",
       "    </tr>\n",
       "    <tr>\n",
       "      <th>385</th>\n",
       "      <td>Stout, Florence</td>\n",
       "      <td>48</td>\n",
       "      <td>Stout Florence</td>\n",
       "    </tr>\n",
       "  </tbody>\n",
       "</table>\n",
       "</div>"
      ],
      "text/plain": [
       "                        LABEL  trees                     ALIAS\n",
       "218                LaFollette    105                LaFollette\n",
       "286  North Park Nature Center    104  North Park Nature Center\n",
       "55             Brown Memorial    101            Brown Memorial\n",
       "308                  Park 503     95                  Park 503\n",
       "384   Stone, Bernard (Pk 526)     90      Stone Bernard Pk 526\n",
       "122          Fernwood Parkway     87          Fernwood Parkway\n",
       "77                  Clarendon     86                 Clarendon\n",
       "287     North Park Village NC     84     North Park Village NC\n",
       "245        Major Taylor Trail     75        Major Taylor Trail\n",
       "92               Davis Square     75              Davis Square\n",
       "98            Dixon, Lorraine     73            Dixon Lorraine\n",
       "226           LeClaire-Hearst     72            LeClaireHearst\n",
       "347          Robinson, Jackie     70           Robinson Jackie\n",
       "244        Major Tailor Trail     68        Major Tailor Trail\n",
       "374          Smith, Joseph H.     60           Smith Joseph H.\n",
       "191        Jefferson Memorial     54        Jefferson Memorial\n",
       "391            Taylor, Robert     50             Taylor Robert\n",
       "208           King, ML Center     50            King ML Center\n",
       "123             Field, Eugene     49              Field Eugene\n",
       "385           Stout, Florence     48            Stout Florence"
      ]
     },
     "execution_count": 100,
     "metadata": {},
     "output_type": "execute_result"
    }
   ],
   "source": [
    "out.head(20).sort_values(by='trees', ascending=False)"
   ]
  },
  {
   "cell_type": "code",
   "execution_count": 101,
   "id": "b9f8a4cc-871d-450d-a4d7-ad8b27c7ed20",
   "metadata": {},
   "outputs": [
    {
     "data": {
      "text/plain": [
       "0.06680023053489585"
      ]
     },
     "execution_count": 101,
     "metadata": {},
     "output_type": "execute_result"
    }
   ],
   "source": [
    "out['trees'].sum() / park_names['trees'].sum()"
   ]
  },
  {
   "cell_type": "code",
   "execution_count": 102,
   "id": "071b6daf-783c-417a-a3d0-d29ca979efe8",
   "metadata": {},
   "outputs": [
    {
     "data": {
      "text/html": [
       "<div>\n",
       "<style scoped>\n",
       "    .dataframe tbody tr th:only-of-type {\n",
       "        vertical-align: middle;\n",
       "    }\n",
       "\n",
       "    .dataframe tbody tr th {\n",
       "        vertical-align: top;\n",
       "    }\n",
       "\n",
       "    .dataframe thead th {\n",
       "        text-align: right;\n",
       "    }\n",
       "</style>\n",
       "<table border=\"1\" class=\"dataframe\">\n",
       "  <thead>\n",
       "    <tr style=\"text-align: right;\">\n",
       "      <th></th>\n",
       "      <th>LABEL</th>\n",
       "      <th>trees</th>\n",
       "      <th>ALIAS</th>\n",
       "    </tr>\n",
       "  </thead>\n",
       "  <tbody>\n",
       "    <tr>\n",
       "      <th>234</th>\n",
       "      <td>Lincoln</td>\n",
       "      <td>3508</td>\n",
       "      <td>Lincoln</td>\n",
       "    </tr>\n",
       "    <tr>\n",
       "      <th>58</th>\n",
       "      <td>Burnham</td>\n",
       "      <td>1912</td>\n",
       "      <td>Burnham</td>\n",
       "    </tr>\n",
       "    <tr>\n",
       "      <th>130</th>\n",
       "      <td>Garfield</td>\n",
       "      <td>1854</td>\n",
       "      <td>Garfield</td>\n",
       "    </tr>\n",
       "  </tbody>\n",
       "</table>\n",
       "</div>"
      ],
      "text/plain": [
       "        LABEL  trees     ALIAS\n",
       "234   Lincoln   3508   Lincoln\n",
       "58    Burnham   1912   Burnham\n",
       "130  Garfield   1854  Garfield"
      ]
     },
     "execution_count": 102,
     "metadata": {},
     "output_type": "execute_result"
    }
   ],
   "source": [
    "park_names.head(3)"
   ]
  },
  {
   "cell_type": "markdown",
   "id": "a5174d1c-fb65-4886-a856-f3e95d77a13a",
   "metadata": {},
   "source": [
    "Challenge: there are 72 remaining parks which ALIAS/LABEL does not match LABEL in __park_names_. Nevertheless, the last 20 parks hardly have 88 planted trees (0.002% of the total amount), so this subset seems not relevant.\n",
    "\n",
    "Let's try to find out possible parks for the __first 20 remaining parks__ in _park_names_.\n",
    "\n",
    "To do so (long way, would it be another better path?):\n",
    "- We reindex _short_off_3_\n",
    "- And we copy park_names to _park_names_2_ , to be reindexed.\n",
    "- (And we review both datasets, before going on.)"
   ]
  },
  {
   "cell_type": "code",
   "execution_count": 103,
   "id": "311529d1-5498-484b-95f9-69808388b10a",
   "metadata": {},
   "outputs": [],
   "source": [
    "short_off_3.reset_index(drop=True, inplace=True)"
   ]
  },
  {
   "cell_type": "code",
   "execution_count": 104,
   "id": "325aa034-95b8-467b-b2e5-e909cbcc921a",
   "metadata": {},
   "outputs": [],
   "source": [
    "park_names_2 = park_names.copy()"
   ]
  },
  {
   "cell_type": "code",
   "execution_count": 105,
   "id": "2c307e47-ff09-40eb-910c-32238c952b7e",
   "metadata": {},
   "outputs": [],
   "source": [
    "park_names_2.reset_index(drop=True, inplace=True)"
   ]
  },
  {
   "cell_type": "code",
   "execution_count": 106,
   "id": "7e095af5-0309-425d-be03-f55e7a090449",
   "metadata": {},
   "outputs": [
    {
     "data": {
      "text/html": [
       "<div>\n",
       "<style scoped>\n",
       "    .dataframe tbody tr th:only-of-type {\n",
       "        vertical-align: middle;\n",
       "    }\n",
       "\n",
       "    .dataframe tbody tr th {\n",
       "        vertical-align: top;\n",
       "    }\n",
       "\n",
       "    .dataframe thead th {\n",
       "        text-align: right;\n",
       "    }\n",
       "</style>\n",
       "<table border=\"1\" class=\"dataframe\">\n",
       "  <thead>\n",
       "    <tr style=\"text-align: right;\">\n",
       "      <th></th>\n",
       "      <th>LABEL</th>\n",
       "      <th>trees</th>\n",
       "      <th>ALIAS</th>\n",
       "    </tr>\n",
       "  </thead>\n",
       "  <tbody>\n",
       "    <tr>\n",
       "      <th>0</th>\n",
       "      <td>Lincoln</td>\n",
       "      <td>3508</td>\n",
       "      <td>Lincoln</td>\n",
       "    </tr>\n",
       "  </tbody>\n",
       "</table>\n",
       "</div>"
      ],
      "text/plain": [
       "     LABEL  trees    ALIAS\n",
       "0  Lincoln   3508  Lincoln"
      ]
     },
     "execution_count": 106,
     "metadata": {},
     "output_type": "execute_result"
    }
   ],
   "source": [
    "park_names_2.head(1)"
   ]
  },
  {
   "cell_type": "code",
   "execution_count": 107,
   "id": "9731d306-e070-48b0-a83c-6b58db74dde4",
   "metadata": {},
   "outputs": [
    {
     "data": {
      "text/html": [
       "<div>\n",
       "<style scoped>\n",
       "    .dataframe tbody tr th:only-of-type {\n",
       "        vertical-align: middle;\n",
       "    }\n",
       "\n",
       "    .dataframe tbody tr th {\n",
       "        vertical-align: top;\n",
       "    }\n",
       "\n",
       "    .dataframe thead th {\n",
       "        text-align: right;\n",
       "    }\n",
       "</style>\n",
       "<table border=\"1\" class=\"dataframe\">\n",
       "  <thead>\n",
       "    <tr style=\"text-align: right;\">\n",
       "      <th></th>\n",
       "      <th>PARK</th>\n",
       "      <th>LABEL</th>\n",
       "      <th>ACRES</th>\n",
       "      <th>WARD</th>\n",
       "      <th>PARK_CLASS</th>\n",
       "      <th>ALIAS</th>\n",
       "    </tr>\n",
       "  </thead>\n",
       "  <tbody>\n",
       "    <tr>\n",
       "      <th>0</th>\n",
       "      <td>ARMOUR (PHILIP) SQUARE</td>\n",
       "      <td>Armour Sq</td>\n",
       "      <td>9.05</td>\n",
       "      <td>11</td>\n",
       "      <td>COMMUNITY PARK</td>\n",
       "      <td>Armour Square</td>\n",
       "    </tr>\n",
       "  </tbody>\n",
       "</table>\n",
       "</div>"
      ],
      "text/plain": [
       "                     PARK      LABEL  ACRES  WARD      PARK_CLASS  \\\n",
       "0  ARMOUR (PHILIP) SQUARE  Armour Sq   9.05    11  COMMUNITY PARK   \n",
       "\n",
       "           ALIAS  \n",
       "0  Armour Square  "
      ]
     },
     "execution_count": 107,
     "metadata": {},
     "output_type": "execute_result"
    }
   ],
   "source": [
    "short_off_3.head(1)"
   ]
  },
  {
   "cell_type": "markdown",
   "id": "34d1d2b1-35a5-4b81-b4fd-f502c27ddffe",
   "metadata": {},
   "source": [
    "We search for the first word of an example, as 'Brown' (the third one on the top 20 ranked remaining parks by number of trees, see cell [199] in this notebook."
   ]
  },
  {
   "cell_type": "code",
   "execution_count": 108,
   "id": "50b33624-7ed9-4574-b16c-26dedca6e785",
   "metadata": {},
   "outputs": [
    {
     "data": {
      "text/html": [
       "<div>\n",
       "<style scoped>\n",
       "    .dataframe tbody tr th:only-of-type {\n",
       "        vertical-align: middle;\n",
       "    }\n",
       "\n",
       "    .dataframe tbody tr th {\n",
       "        vertical-align: top;\n",
       "    }\n",
       "\n",
       "    .dataframe thead th {\n",
       "        text-align: right;\n",
       "    }\n",
       "</style>\n",
       "<table border=\"1\" class=\"dataframe\">\n",
       "  <thead>\n",
       "    <tr style=\"text-align: right;\">\n",
       "      <th></th>\n",
       "      <th>PARK</th>\n",
       "      <th>LABEL</th>\n",
       "      <th>ACRES</th>\n",
       "      <th>WARD</th>\n",
       "      <th>PARK_CLASS</th>\n",
       "      <th>ALIAS</th>\n",
       "    </tr>\n",
       "  </thead>\n",
       "  <tbody>\n",
       "    <tr>\n",
       "      <th>192</th>\n",
       "      <td>BROWN (SIDNEY) MEML.</td>\n",
       "      <td>Brown Mem'l</td>\n",
       "      <td>6.7</td>\n",
       "      <td>6</td>\n",
       "      <td>COMMUNITY PARK</td>\n",
       "      <td>Brown Mem'l</td>\n",
       "    </tr>\n",
       "  </tbody>\n",
       "</table>\n",
       "</div>"
      ],
      "text/plain": [
       "                     PARK        LABEL  ACRES  WARD      PARK_CLASS  \\\n",
       "192  BROWN (SIDNEY) MEML.  Brown Mem'l    6.7     6  COMMUNITY PARK   \n",
       "\n",
       "           ALIAS  \n",
       "192  Brown Mem'l  "
      ]
     },
     "execution_count": 108,
     "metadata": {},
     "output_type": "execute_result"
    }
   ],
   "source": [
    "short_off_3[short_off_3['ALIAS'].str.startswith('Brown')]"
   ]
  },
  {
   "cell_type": "markdown",
   "id": "54d3ffe0-1a0f-4f97-9f24-68f14336e5c2",
   "metadata": {},
   "source": [
    "We do the same in _park_names_"
   ]
  },
  {
   "cell_type": "code",
   "execution_count": 109,
   "id": "8fb2a5d5-d058-45c8-b633-8fdd6f2390d6",
   "metadata": {},
   "outputs": [
    {
     "data": {
      "text/html": [
       "<div>\n",
       "<style scoped>\n",
       "    .dataframe tbody tr th:only-of-type {\n",
       "        vertical-align: middle;\n",
       "    }\n",
       "\n",
       "    .dataframe tbody tr th {\n",
       "        vertical-align: top;\n",
       "    }\n",
       "\n",
       "    .dataframe thead th {\n",
       "        text-align: right;\n",
       "    }\n",
       "</style>\n",
       "<table border=\"1\" class=\"dataframe\">\n",
       "  <thead>\n",
       "    <tr style=\"text-align: right;\">\n",
       "      <th></th>\n",
       "      <th>LABEL</th>\n",
       "      <th>trees</th>\n",
       "      <th>ALIAS</th>\n",
       "    </tr>\n",
       "  </thead>\n",
       "  <tbody>\n",
       "    <tr>\n",
       "      <th>69</th>\n",
       "      <td>Brown Memorial</td>\n",
       "      <td>101</td>\n",
       "      <td>Brown Memorial</td>\n",
       "    </tr>\n",
       "  </tbody>\n",
       "</table>\n",
       "</div>"
      ],
      "text/plain": [
       "             LABEL  trees           ALIAS\n",
       "69  Brown Memorial    101  Brown Memorial"
      ]
     },
     "execution_count": 109,
     "metadata": {},
     "output_type": "execute_result"
    }
   ],
   "source": [
    "park_names_2[park_names_2['ALIAS'].str.startswith('Brown')]"
   ]
  },
  {
   "cell_type": "markdown",
   "id": "b8fcb799-72a0-4708-8ab0-728885fe7786",
   "metadata": {},
   "source": [
    "There is a possible coincidence, but with a different writing: \"Mem'l\" vs. \"Memorial\".\n",
    "\n",
    "So:\n",
    "    1. we find the row (192) and 'ALIAS' column (5) (*) from _park_names_2_\n",
    "    2. we do the same with _park_names_ (here, 69,2)\n",
    "\n",
    "And we replace value '2' with value '1'\n",
    "\n",
    "(*) This is the 6th column, but column numbers starts with 0, so this is column \"5\""
   ]
  },
  {
   "cell_type": "code",
   "execution_count": 110,
   "id": "0b35f422-8d1d-4e5f-9c70-e630afba09f0",
   "metadata": {},
   "outputs": [],
   "source": [
    "short_off_3.iat[192,5] = park_names_2.iat[69,2]"
   ]
  },
  {
   "cell_type": "markdown",
   "id": "93c851d1-b959-4040-92c9-296bd5779731",
   "metadata": {},
   "source": [
    "Last, we check out if the changes are correct."
   ]
  },
  {
   "cell_type": "code",
   "execution_count": 111,
   "id": "de8656f7-2eb7-494c-adfd-188f4c4d020f",
   "metadata": {},
   "outputs": [
    {
     "data": {
      "text/html": [
       "<div>\n",
       "<style scoped>\n",
       "    .dataframe tbody tr th:only-of-type {\n",
       "        vertical-align: middle;\n",
       "    }\n",
       "\n",
       "    .dataframe tbody tr th {\n",
       "        vertical-align: top;\n",
       "    }\n",
       "\n",
       "    .dataframe thead th {\n",
       "        text-align: right;\n",
       "    }\n",
       "</style>\n",
       "<table border=\"1\" class=\"dataframe\">\n",
       "  <thead>\n",
       "    <tr style=\"text-align: right;\">\n",
       "      <th></th>\n",
       "      <th>PARK</th>\n",
       "      <th>LABEL</th>\n",
       "      <th>ACRES</th>\n",
       "      <th>WARD</th>\n",
       "      <th>PARK_CLASS</th>\n",
       "      <th>ALIAS</th>\n",
       "    </tr>\n",
       "  </thead>\n",
       "  <tbody>\n",
       "    <tr>\n",
       "      <th>383</th>\n",
       "      <td>MAJOR TAYLOR BIKE TRAIL</td>\n",
       "      <td>Major Taylor Bike Trail</td>\n",
       "      <td>34.28</td>\n",
       "      <td>0</td>\n",
       "      <td>LINEAR PARK</td>\n",
       "      <td>Major Taylor Bike Trail</td>\n",
       "    </tr>\n",
       "  </tbody>\n",
       "</table>\n",
       "</div>"
      ],
      "text/plain": [
       "                        PARK                    LABEL  ACRES  WARD  \\\n",
       "383  MAJOR TAYLOR BIKE TRAIL  Major Taylor Bike Trail  34.28     0   \n",
       "\n",
       "      PARK_CLASS                    ALIAS  \n",
       "383  LINEAR PARK  Major Taylor Bike Trail  "
      ]
     },
     "execution_count": 111,
     "metadata": {},
     "output_type": "execute_result"
    }
   ],
   "source": [
    "short_off_3[short_off_3['ALIAS'].str.startswith('Major')]"
   ]
  },
  {
   "cell_type": "markdown",
   "id": "fd371736-cd44-4a04-8021-2162f46b7e58",
   "metadata": {},
   "source": [
    "Now, we can use this FOUR lines, changing:\n",
    "\n",
    "a) the string after `.startswith` (see the top 20 ranked parts from `out` dataset, see cell [199] above.\n",
    "\n",
    "b) ONLY the row values after `.iat` obtained from a)\n",
    "    (COLUMN values remain)."
   ]
  },
  {
   "cell_type": "code",
   "execution_count": 112,
   "id": "94f530db-72cd-4a1c-a362-6f0a2a30fd28",
   "metadata": {},
   "outputs": [
    {
     "data": {
      "text/html": [
       "<div>\n",
       "<style scoped>\n",
       "    .dataframe tbody tr th:only-of-type {\n",
       "        vertical-align: middle;\n",
       "    }\n",
       "\n",
       "    .dataframe tbody tr th {\n",
       "        vertical-align: top;\n",
       "    }\n",
       "\n",
       "    .dataframe thead th {\n",
       "        text-align: right;\n",
       "    }\n",
       "</style>\n",
       "<table border=\"1\" class=\"dataframe\">\n",
       "  <thead>\n",
       "    <tr style=\"text-align: right;\">\n",
       "      <th></th>\n",
       "      <th>PARK</th>\n",
       "      <th>LABEL</th>\n",
       "      <th>ACRES</th>\n",
       "      <th>WARD</th>\n",
       "      <th>PARK_CLASS</th>\n",
       "      <th>ALIAS</th>\n",
       "    </tr>\n",
       "  </thead>\n",
       "  <tbody>\n",
       "    <tr>\n",
       "      <th>194</th>\n",
       "      <td>STOUT (FLORENCE)</td>\n",
       "      <td>Stout</td>\n",
       "      <td>2.81</td>\n",
       "      <td>5</td>\n",
       "      <td>NEIGHBORHOOD PARK</td>\n",
       "      <td>Stout</td>\n",
       "    </tr>\n",
       "  </tbody>\n",
       "</table>\n",
       "</div>"
      ],
      "text/plain": [
       "                 PARK  LABEL  ACRES  WARD         PARK_CLASS  ALIAS\n",
       "194  STOUT (FLORENCE)  Stout   2.81     5  NEIGHBORHOOD PARK  Stout"
      ]
     },
     "execution_count": 112,
     "metadata": {},
     "output_type": "execute_result"
    }
   ],
   "source": [
    "short_off_3[short_off_3['ALIAS'].str.startswith('Stout')]"
   ]
  },
  {
   "cell_type": "code",
   "execution_count": 113,
   "id": "99280ffd-3344-42e1-9c8f-28d509e9b65d",
   "metadata": {},
   "outputs": [
    {
     "data": {
      "text/html": [
       "<div>\n",
       "<style scoped>\n",
       "    .dataframe tbody tr th:only-of-type {\n",
       "        vertical-align: middle;\n",
       "    }\n",
       "\n",
       "    .dataframe tbody tr th {\n",
       "        vertical-align: top;\n",
       "    }\n",
       "\n",
       "    .dataframe thead th {\n",
       "        text-align: right;\n",
       "    }\n",
       "</style>\n",
       "<table border=\"1\" class=\"dataframe\">\n",
       "  <thead>\n",
       "    <tr style=\"text-align: right;\">\n",
       "      <th></th>\n",
       "      <th>LABEL</th>\n",
       "      <th>trees</th>\n",
       "      <th>ALIAS</th>\n",
       "    </tr>\n",
       "  </thead>\n",
       "  <tbody>\n",
       "    <tr>\n",
       "      <th>147</th>\n",
       "      <td>Stout, Florence</td>\n",
       "      <td>48</td>\n",
       "      <td>Stout Florence</td>\n",
       "    </tr>\n",
       "  </tbody>\n",
       "</table>\n",
       "</div>"
      ],
      "text/plain": [
       "               LABEL  trees           ALIAS\n",
       "147  Stout, Florence     48  Stout Florence"
      ]
     },
     "execution_count": 113,
     "metadata": {},
     "output_type": "execute_result"
    }
   ],
   "source": [
    "park_names_2[park_names_2['ALIAS'].str.startswith('Stout')]"
   ]
  },
  {
   "cell_type": "code",
   "execution_count": 114,
   "id": "debfbf1d-6dff-43bf-8a93-9369e621d5f0",
   "metadata": {},
   "outputs": [],
   "source": [
    "short_off_3.iat[194,5] = park_names_2.iat[147,2]"
   ]
  },
  {
   "cell_type": "code",
   "execution_count": 115,
   "id": "5aa98d4e-18aa-40da-91e0-eda1a0c8da0c",
   "metadata": {},
   "outputs": [
    {
     "data": {
      "text/html": [
       "<div>\n",
       "<style scoped>\n",
       "    .dataframe tbody tr th:only-of-type {\n",
       "        vertical-align: middle;\n",
       "    }\n",
       "\n",
       "    .dataframe tbody tr th {\n",
       "        vertical-align: top;\n",
       "    }\n",
       "\n",
       "    .dataframe thead th {\n",
       "        text-align: right;\n",
       "    }\n",
       "</style>\n",
       "<table border=\"1\" class=\"dataframe\">\n",
       "  <thead>\n",
       "    <tr style=\"text-align: right;\">\n",
       "      <th></th>\n",
       "      <th>PARK</th>\n",
       "      <th>LABEL</th>\n",
       "      <th>ACRES</th>\n",
       "      <th>WARD</th>\n",
       "      <th>PARK_CLASS</th>\n",
       "      <th>ALIAS</th>\n",
       "    </tr>\n",
       "  </thead>\n",
       "  <tbody>\n",
       "    <tr>\n",
       "      <th>194</th>\n",
       "      <td>STOUT (FLORENCE)</td>\n",
       "      <td>Stout</td>\n",
       "      <td>2.81</td>\n",
       "      <td>5</td>\n",
       "      <td>NEIGHBORHOOD PARK</td>\n",
       "      <td>Stout Florence</td>\n",
       "    </tr>\n",
       "  </tbody>\n",
       "</table>\n",
       "</div>"
      ],
      "text/plain": [
       "                 PARK  LABEL  ACRES  WARD         PARK_CLASS           ALIAS\n",
       "194  STOUT (FLORENCE)  Stout   2.81     5  NEIGHBORHOOD PARK  Stout Florence"
      ]
     },
     "execution_count": 115,
     "metadata": {},
     "output_type": "execute_result"
    }
   ],
   "source": [
    "short_off_3[short_off_3['ALIAS'].str.startswith('Stout')]"
   ]
  },
  {
   "cell_type": "markdown",
   "id": "085bae21-8894-4f54-9df2-818cf929c174",
   "metadata": {},
   "source": [
    "##################\n",
    "\n",
    "Alternative: if a cell contains a string...\n",
    "\n",
    "NOT FOUND PARKS IN THE OFFICIAL LIST!!:\n",
    "\n",
    "`       LABEL\t    trees\tALIAS`\n",
    "\n",
    "`308\tPark 503\t95\t    Park 503`\n",
    "\n",
    "`287\tNorth Park Village NC\t84\tNorth Park Village NC`\n",
    "\n",
    "`319\tKing, ML\t10\tKing ML`  --> Same as \"King, ML Center\" ?\t\n",
    "\n",
    "\n",
    "Found 'Major Taylor Trail' y 'Major Tailor Trail' as 'ALIAS' (formerly, 'address') in park_names_2 (formerly, parks_and_trees, check it out). It must be a typo. Value has been added in the first row (91)\n",
    "\n",
    "IMPORTANT!!\n",
    "So, park_names_2 row 98 should be dropped (wiped off).\n",
    "\n",
    "Same with this row from `short_off_3`:\n",
    "14\tDAVIS (DR. NATHAN) SQUARE\tDavis (Nathan) Sq\t8.91\t15\tCOMMUNITY PARK\tDavis Nathan Sq\n",
    "\n",
    "##################"
   ]
  },
  {
   "cell_type": "code",
   "execution_count": 116,
   "id": "cfcfad26-8935-4e7b-a695-4fd80945d3b6",
   "metadata": {},
   "outputs": [
    {
     "data": {
      "text/html": [
       "<div>\n",
       "<style scoped>\n",
       "    .dataframe tbody tr th:only-of-type {\n",
       "        vertical-align: middle;\n",
       "    }\n",
       "\n",
       "    .dataframe tbody tr th {\n",
       "        vertical-align: top;\n",
       "    }\n",
       "\n",
       "    .dataframe thead th {\n",
       "        text-align: right;\n",
       "    }\n",
       "</style>\n",
       "<table border=\"1\" class=\"dataframe\">\n",
       "  <thead>\n",
       "    <tr style=\"text-align: right;\">\n",
       "      <th></th>\n",
       "      <th>PARK</th>\n",
       "      <th>LABEL</th>\n",
       "      <th>ACRES</th>\n",
       "      <th>WARD</th>\n",
       "      <th>PARK_CLASS</th>\n",
       "      <th>ALIAS</th>\n",
       "    </tr>\n",
       "  </thead>\n",
       "  <tbody>\n",
       "  </tbody>\n",
       "</table>\n",
       "</div>"
      ],
      "text/plain": [
       "Empty DataFrame\n",
       "Columns: [PARK, LABEL, ACRES, WARD, PARK_CLASS, ALIAS]\n",
       "Index: []"
      ]
     },
     "execution_count": 116,
     "metadata": {},
     "output_type": "execute_result"
    }
   ],
   "source": [
    "short_off_3[short_off_3['ALIAS'].str.contains('503')]"
   ]
  },
  {
   "cell_type": "markdown",
   "id": "bcd266b8-e39d-4a30-9132-b328bf480095",
   "metadata": {},
   "source": [
    "Let's review the current results again (cells [97] to [146] have been copied, changing now `park_names` to `park_names_2`"
   ]
  },
  {
   "cell_type": "code",
   "execution_count": 117,
   "id": "6d9f5132-96c5-427f-b50c-cf2368d5b17a",
   "metadata": {},
   "outputs": [],
   "source": [
    "compare_parks = pd.merge(park_names_2,short_off_3,on='ALIAS')"
   ]
  },
  {
   "cell_type": "code",
   "execution_count": 118,
   "id": "60a32a53-e17d-419e-8319-e4219afd1622",
   "metadata": {},
   "outputs": [
    {
     "data": {
      "text/plain": [
       "376"
      ]
     },
     "execution_count": 118,
     "metadata": {},
     "output_type": "execute_result"
    }
   ],
   "source": [
    "len(compare_parks['ALIAS'])"
   ]
  },
  {
   "cell_type": "markdown",
   "id": "156df65d-3f97-46ea-8224-65854f23be17",
   "metadata": {},
   "source": [
    "So, there are still 446-367 = 79 parks not matching!!!)\n",
    "\n",
    "But, are these remaining parks really relevant?\n",
    "\n",
    "For instance, how many trees were planted within these parks, on the whole?\n"
   ]
  },
  {
   "cell_type": "code",
   "execution_count": 119,
   "id": "cabda67c-3df4-4342-bc70-44c15ff34ea0",
   "metadata": {},
   "outputs": [
    {
     "data": {
      "text/plain": [
       "36437"
      ]
     },
     "execution_count": 119,
     "metadata": {},
     "output_type": "execute_result"
    }
   ],
   "source": [
    "park_names_2['trees'].sum()"
   ]
  },
  {
   "cell_type": "code",
   "execution_count": 120,
   "id": "e9cd9089-f43f-4a68-94e8-66d79912b1fc",
   "metadata": {},
   "outputs": [
    {
     "data": {
      "text/plain": [
       "34152"
      ]
     },
     "execution_count": 120,
     "metadata": {},
     "output_type": "execute_result"
    }
   ],
   "source": [
    "compare_parks['trees'].sum()"
   ]
  },
  {
   "cell_type": "code",
   "execution_count": 121,
   "id": "051a7ae9-7aec-45da-b341-dfee8e57f172",
   "metadata": {},
   "outputs": [
    {
     "data": {
      "text/plain": [
       "93.72890194033538"
      ]
     },
     "execution_count": 121,
     "metadata": {},
     "output_type": "execute_result"
    }
   ],
   "source": [
    "compare_parks['trees'].sum() / park_names_2['trees'].sum() * 100"
   ]
  },
  {
   "cell_type": "markdown",
   "id": "827db6e4-287c-4848-9951-3e050f1f2a0e",
   "metadata": {},
   "source": [
    "###### So, now, 96,7% of the trees are included.\n",
    "\n",
    "Is there any relevant park not included yet? Let's try again:"
   ]
  },
  {
   "cell_type": "code",
   "execution_count": 122,
   "id": "ee9444e5-4511-4391-982c-0b50b3c454df",
   "metadata": {},
   "outputs": [],
   "source": [
    "out = park_names_2[~park_names_2['ALIAS'].isin(short_off_3['ALIAS'])].sort_values('trees', ascending=False)"
   ]
  },
  {
   "cell_type": "code",
   "execution_count": 123,
   "id": "bf956473-c472-42db-bfd8-48c41737a83c",
   "metadata": {},
   "outputs": [
    {
     "data": {
      "text/plain": [
       "70"
      ]
     },
     "execution_count": 123,
     "metadata": {},
     "output_type": "execute_result"
    }
   ],
   "source": [
    "len(out)"
   ]
  },
  {
   "cell_type": "code",
   "execution_count": 124,
   "id": "98ddcd80-d71f-436b-bc2e-2f2631b82fa5",
   "metadata": {},
   "outputs": [
    {
     "data": {
      "text/plain": [
       "LABEL    LaFolletteNorth Park Nature CenterPark 503Ston...\n",
       "trees                                                 1441\n",
       "ALIAS    LaFolletteNorth Park Nature CenterPark 503Ston...\n",
       "dtype: object"
      ]
     },
     "execution_count": 124,
     "metadata": {},
     "output_type": "execute_result"
    }
   ],
   "source": [
    "out.head(20).sum()"
   ]
  },
  {
   "cell_type": "code",
   "execution_count": 125,
   "id": "5e3b0402-6ba2-4d7d-a344-d8ee69680fef",
   "metadata": {},
   "outputs": [
    {
     "data": {
      "text/html": [
       "<div>\n",
       "<style scoped>\n",
       "    .dataframe tbody tr th:only-of-type {\n",
       "        vertical-align: middle;\n",
       "    }\n",
       "\n",
       "    .dataframe tbody tr th {\n",
       "        vertical-align: top;\n",
       "    }\n",
       "\n",
       "    .dataframe thead th {\n",
       "        text-align: right;\n",
       "    }\n",
       "</style>\n",
       "<table border=\"1\" class=\"dataframe\">\n",
       "  <thead>\n",
       "    <tr style=\"text-align: right;\">\n",
       "      <th></th>\n",
       "      <th>LABEL</th>\n",
       "      <th>trees</th>\n",
       "      <th>ALIAS</th>\n",
       "    </tr>\n",
       "  </thead>\n",
       "  <tbody>\n",
       "    <tr>\n",
       "      <th>65</th>\n",
       "      <td>LaFollette</td>\n",
       "      <td>105</td>\n",
       "      <td>LaFollette</td>\n",
       "    </tr>\n",
       "    <tr>\n",
       "      <th>66</th>\n",
       "      <td>North Park Nature Center</td>\n",
       "      <td>104</td>\n",
       "      <td>North Park Nature Center</td>\n",
       "    </tr>\n",
       "    <tr>\n",
       "      <th>74</th>\n",
       "      <td>Park 503</td>\n",
       "      <td>95</td>\n",
       "      <td>Park 503</td>\n",
       "    </tr>\n",
       "    <tr>\n",
       "      <th>79</th>\n",
       "      <td>Stone, Bernard (Pk 526)</td>\n",
       "      <td>90</td>\n",
       "      <td>Stone Bernard Pk 526</td>\n",
       "    </tr>\n",
       "    <tr>\n",
       "      <th>83</th>\n",
       "      <td>Fernwood Parkway</td>\n",
       "      <td>87</td>\n",
       "      <td>Fernwood Parkway</td>\n",
       "    </tr>\n",
       "    <tr>\n",
       "      <th>84</th>\n",
       "      <td>Clarendon</td>\n",
       "      <td>86</td>\n",
       "      <td>Clarendon</td>\n",
       "    </tr>\n",
       "    <tr>\n",
       "      <th>85</th>\n",
       "      <td>North Park Village NC</td>\n",
       "      <td>84</td>\n",
       "      <td>North Park Village NC</td>\n",
       "    </tr>\n",
       "    <tr>\n",
       "      <th>91</th>\n",
       "      <td>Major Taylor Trail</td>\n",
       "      <td>75</td>\n",
       "      <td>Major Taylor Trail</td>\n",
       "    </tr>\n",
       "    <tr>\n",
       "      <th>90</th>\n",
       "      <td>Davis Square</td>\n",
       "      <td>75</td>\n",
       "      <td>Davis Square</td>\n",
       "    </tr>\n",
       "    <tr>\n",
       "      <th>93</th>\n",
       "      <td>Dixon, Lorraine</td>\n",
       "      <td>73</td>\n",
       "      <td>Dixon Lorraine</td>\n",
       "    </tr>\n",
       "    <tr>\n",
       "      <th>95</th>\n",
       "      <td>LeClaire-Hearst</td>\n",
       "      <td>72</td>\n",
       "      <td>LeClaireHearst</td>\n",
       "    </tr>\n",
       "    <tr>\n",
       "      <th>96</th>\n",
       "      <td>Robinson, Jackie</td>\n",
       "      <td>70</td>\n",
       "      <td>Robinson Jackie</td>\n",
       "    </tr>\n",
       "    <tr>\n",
       "      <th>98</th>\n",
       "      <td>Major Tailor Trail</td>\n",
       "      <td>68</td>\n",
       "      <td>Major Tailor Trail</td>\n",
       "    </tr>\n",
       "    <tr>\n",
       "      <th>109</th>\n",
       "      <td>Smith, Joseph H.</td>\n",
       "      <td>60</td>\n",
       "      <td>Smith Joseph H.</td>\n",
       "    </tr>\n",
       "    <tr>\n",
       "      <th>122</th>\n",
       "      <td>Jefferson Memorial</td>\n",
       "      <td>54</td>\n",
       "      <td>Jefferson Memorial</td>\n",
       "    </tr>\n",
       "    <tr>\n",
       "      <th>137</th>\n",
       "      <td>Taylor, Robert</td>\n",
       "      <td>50</td>\n",
       "      <td>Taylor Robert</td>\n",
       "    </tr>\n",
       "    <tr>\n",
       "      <th>139</th>\n",
       "      <td>King, ML Center</td>\n",
       "      <td>50</td>\n",
       "      <td>King ML Center</td>\n",
       "    </tr>\n",
       "    <tr>\n",
       "      <th>140</th>\n",
       "      <td>Field, Eugene</td>\n",
       "      <td>49</td>\n",
       "      <td>Field Eugene</td>\n",
       "    </tr>\n",
       "    <tr>\n",
       "      <th>149</th>\n",
       "      <td>Museum Campus</td>\n",
       "      <td>47</td>\n",
       "      <td>Museum Campus</td>\n",
       "    </tr>\n",
       "    <tr>\n",
       "      <th>150</th>\n",
       "      <td>Stateway Park</td>\n",
       "      <td>47</td>\n",
       "      <td>Stateway Park</td>\n",
       "    </tr>\n",
       "  </tbody>\n",
       "</table>\n",
       "</div>"
      ],
      "text/plain": [
       "                        LABEL  trees                     ALIAS\n",
       "65                 LaFollette    105                LaFollette\n",
       "66   North Park Nature Center    104  North Park Nature Center\n",
       "74                   Park 503     95                  Park 503\n",
       "79    Stone, Bernard (Pk 526)     90      Stone Bernard Pk 526\n",
       "83           Fernwood Parkway     87          Fernwood Parkway\n",
       "84                  Clarendon     86                 Clarendon\n",
       "85      North Park Village NC     84     North Park Village NC\n",
       "91         Major Taylor Trail     75        Major Taylor Trail\n",
       "90               Davis Square     75              Davis Square\n",
       "93            Dixon, Lorraine     73            Dixon Lorraine\n",
       "95            LeClaire-Hearst     72            LeClaireHearst\n",
       "96           Robinson, Jackie     70           Robinson Jackie\n",
       "98         Major Tailor Trail     68        Major Tailor Trail\n",
       "109          Smith, Joseph H.     60           Smith Joseph H.\n",
       "122        Jefferson Memorial     54        Jefferson Memorial\n",
       "137            Taylor, Robert     50             Taylor Robert\n",
       "139           King, ML Center     50            King ML Center\n",
       "140             Field, Eugene     49              Field Eugene\n",
       "149             Museum Campus     47             Museum Campus\n",
       "150             Stateway Park     47             Stateway Park"
      ]
     },
     "execution_count": 125,
     "metadata": {},
     "output_type": "execute_result"
    }
   ],
   "source": [
    "out.head(20).sort_values(by='trees', ascending=False)"
   ]
  },
  {
   "cell_type": "code",
   "execution_count": 126,
   "id": "d5f24fab-6ad3-4778-a187-73ae9a49a28e",
   "metadata": {},
   "outputs": [
    {
     "data": {
      "text/plain": [
       "6.2710980596646255"
      ]
     },
     "execution_count": 126,
     "metadata": {},
     "output_type": "execute_result"
    }
   ],
   "source": [
    "out['trees'].sum() / park_names_2['trees'].sum() * 100"
   ]
  },
  {
   "cell_type": "markdown",
   "id": "9a650f9b-0b55-4643-9fc2-e08f597c8e51",
   "metadata": {},
   "source": [
    "## Warning\n",
    "\n",
    "So, although there are 54 not found parks yet (a 3.28% of the total amount of trees), we will stop here the process to match parks from _park_names_2 and short_off_3, and we will go on the current `compare_parks` dataset to try to solve the remaining questions:"
   ]
  },
  {
   "cell_type": "markdown",
   "id": "863ff313-c461-4d0b-aafe-2836b79b7baa",
   "metadata": {},
   "source": [
    "# Question 3. Parks, trees and wards.\n",
    "Last, compare the real number of trees with each ward, and compare the number of trees inside and outside a park."
   ]
  },
  {
   "cell_type": "markdown",
   "id": "fecfb047-0a02-4a1c-b2aa-efd4f77c174e",
   "metadata": {},
   "source": [
    "## Question 3.1.\n",
    "\n",
    "How many trees have been planted outside a street, on each WARD? \n",
    "\n",
    "\n",
    "Now, we start with the current grouped trees in parks file, `compare_parks`..."
   ]
  },
  {
   "cell_type": "markdown",
   "id": "b3ca8f24-303d-4ab8-8c27-be29f59d7113",
   "metadata": {},
   "source": [
    "... and we need to go back to the original `tl` file:"
   ]
  },
  {
   "cell_type": "code",
   "execution_count": 127,
   "id": "310cc8a7-9fb3-4224-8ebf-c52ea95bd1a8",
   "metadata": {},
   "outputs": [
    {
     "data": {
      "text/html": [
       "<div>\n",
       "<style scoped>\n",
       "    .dataframe tbody tr th:only-of-type {\n",
       "        vertical-align: middle;\n",
       "    }\n",
       "\n",
       "    .dataframe tbody tr th {\n",
       "        vertical-align: top;\n",
       "    }\n",
       "\n",
       "    .dataframe thead th {\n",
       "        text-align: right;\n",
       "    }\n",
       "</style>\n",
       "<table border=\"1\" class=\"dataframe\">\n",
       "  <thead>\n",
       "    <tr style=\"text-align: right;\">\n",
       "      <th></th>\n",
       "      <th>id</th>\n",
       "      <th>date</th>\n",
       "      <th>address</th>\n",
       "      <th>ward</th>\n",
       "      <th>trees</th>\n",
       "      <th>source</th>\n",
       "      <th>year</th>\n",
       "    </tr>\n",
       "  </thead>\n",
       "  <tbody>\n",
       "    <tr>\n",
       "      <th>0</th>\n",
       "      <td>201100837</td>\n",
       "      <td>2011-04-14 12:00:00</td>\n",
       "      <td>7777 W IRVING PARK RD</td>\n",
       "      <td>36</td>\n",
       "      <td>2</td>\n",
       "      <td>dss</td>\n",
       "      <td>2011.0</td>\n",
       "    </tr>\n",
       "    <tr>\n",
       "      <th>1</th>\n",
       "      <td>201100839</td>\n",
       "      <td>2011-04-14 12:00:00</td>\n",
       "      <td>5152 S ARTESIAN AVE</td>\n",
       "      <td>14</td>\n",
       "      <td>1</td>\n",
       "      <td>dss</td>\n",
       "      <td>2011.0</td>\n",
       "    </tr>\n",
       "    <tr>\n",
       "      <th>2</th>\n",
       "      <td>201100841</td>\n",
       "      <td>2011-04-14 12:00:00</td>\n",
       "      <td>3520 S ARCHER AVE</td>\n",
       "      <td>12</td>\n",
       "      <td>1</td>\n",
       "      <td>dss</td>\n",
       "      <td>2011.0</td>\n",
       "    </tr>\n",
       "  </tbody>\n",
       "</table>\n",
       "</div>"
      ],
      "text/plain": [
       "          id                 date                address ward  trees source  \\\n",
       "0  201100837  2011-04-14 12:00:00  7777 W IRVING PARK RD   36      2    dss   \n",
       "1  201100839  2011-04-14 12:00:00    5152 S ARTESIAN AVE   14      1    dss   \n",
       "2  201100841  2011-04-14 12:00:00      3520 S ARCHER AVE   12      1    dss   \n",
       "\n",
       "     year  \n",
       "0  2011.0  \n",
       "1  2011.0  \n",
       "2  2011.0  "
      ]
     },
     "execution_count": 127,
     "metadata": {},
     "output_type": "execute_result"
    }
   ],
   "source": [
    "tl.head(3)"
   ]
  },
  {
   "cell_type": "markdown",
   "id": "e3625f3d-1857-4fbc-a041-9bb3c2ff35ef",
   "metadata": {},
   "source": [
    "Let's see all the other `source` apart from \"parks\":"
   ]
  },
  {
   "cell_type": "code",
   "execution_count": 128,
   "id": "c9cd2070-275d-44d6-99a8-703902dca0a3",
   "metadata": {},
   "outputs": [
    {
     "data": {
      "text/plain": [
       "source\n",
       "cdot     12949\n",
       "dss      19974\n",
       "parks      875\n",
       "Name: count, dtype: int64"
      ]
     },
     "execution_count": 128,
     "metadata": {},
     "output_type": "execute_result"
    }
   ],
   "source": [
    "tl['source'].value_counts().sort_index()"
   ]
  },
  {
   "cell_type": "markdown",
   "id": "a3b557cc-3ef4-4d78-b177-959ab6399ea7",
   "metadata": {},
   "source": [
    "So, we can get the tl subset with source != 'parks', and then, group by ward, sum the number of trees and create a new index: all these steps, as we did in `[10]`."
   ]
  },
  {
   "cell_type": "code",
   "execution_count": 129,
   "id": "28de2b5e-1418-4de3-8e02-81db2ec1f5c3",
   "metadata": {},
   "outputs": [],
   "source": [
    "# tl_no_park = tl[tl['source'] != 'parks']"
   ]
  },
  {
   "cell_type": "code",
   "execution_count": 130,
   "id": "3d02189f-62a7-46ad-bfb0-959aad8a24c1",
   "metadata": {},
   "outputs": [],
   "source": [
    "tl_no_park = tl[tl['source'] != 'parks'].groupby('ward').sum('trees').reset_index()"
   ]
  },
  {
   "cell_type": "code",
   "execution_count": 131,
   "id": "a9d5f494-15ec-437f-b1b3-ae5c8127dc88",
   "metadata": {},
   "outputs": [
    {
     "data": {
      "text/html": [
       "<div>\n",
       "<style scoped>\n",
       "    .dataframe tbody tr th:only-of-type {\n",
       "        vertical-align: middle;\n",
       "    }\n",
       "\n",
       "    .dataframe tbody tr th {\n",
       "        vertical-align: top;\n",
       "    }\n",
       "\n",
       "    .dataframe thead th {\n",
       "        text-align: right;\n",
       "    }\n",
       "</style>\n",
       "<table border=\"1\" class=\"dataframe\">\n",
       "  <thead>\n",
       "    <tr style=\"text-align: right;\">\n",
       "      <th></th>\n",
       "      <th>ward</th>\n",
       "      <th>trees</th>\n",
       "    </tr>\n",
       "  </thead>\n",
       "  <tbody>\n",
       "    <tr>\n",
       "      <th>0</th>\n",
       "      <td></td>\n",
       "      <td>91</td>\n",
       "    </tr>\n",
       "    <tr>\n",
       "      <th>1</th>\n",
       "      <td>1</td>\n",
       "      <td>1325</td>\n",
       "    </tr>\n",
       "    <tr>\n",
       "      <th>2</th>\n",
       "      <td>10</td>\n",
       "      <td>672</td>\n",
       "    </tr>\n",
       "    <tr>\n",
       "      <th>3</th>\n",
       "      <td>11</td>\n",
       "      <td>830</td>\n",
       "    </tr>\n",
       "    <tr>\n",
       "      <th>4</th>\n",
       "      <td>12</td>\n",
       "      <td>453</td>\n",
       "    </tr>\n",
       "    <tr>\n",
       "      <th>5</th>\n",
       "      <td>13</td>\n",
       "      <td>945</td>\n",
       "    </tr>\n",
       "    <tr>\n",
       "      <th>6</th>\n",
       "      <td>14</td>\n",
       "      <td>617</td>\n",
       "    </tr>\n",
       "    <tr>\n",
       "      <th>7</th>\n",
       "      <td>15</td>\n",
       "      <td>390</td>\n",
       "    </tr>\n",
       "    <tr>\n",
       "      <th>8</th>\n",
       "      <td>16</td>\n",
       "      <td>785</td>\n",
       "    </tr>\n",
       "    <tr>\n",
       "      <th>9</th>\n",
       "      <td>17</td>\n",
       "      <td>605</td>\n",
       "    </tr>\n",
       "    <tr>\n",
       "      <th>10</th>\n",
       "      <td>18</td>\n",
       "      <td>416</td>\n",
       "    </tr>\n",
       "    <tr>\n",
       "      <th>11</th>\n",
       "      <td>19</td>\n",
       "      <td>1332</td>\n",
       "    </tr>\n",
       "    <tr>\n",
       "      <th>12</th>\n",
       "      <td>2</td>\n",
       "      <td>677</td>\n",
       "    </tr>\n",
       "    <tr>\n",
       "      <th>13</th>\n",
       "      <td>20</td>\n",
       "      <td>868</td>\n",
       "    </tr>\n",
       "    <tr>\n",
       "      <th>14</th>\n",
       "      <td>21</td>\n",
       "      <td>459</td>\n",
       "    </tr>\n",
       "    <tr>\n",
       "      <th>15</th>\n",
       "      <td>22</td>\n",
       "      <td>264</td>\n",
       "    </tr>\n",
       "    <tr>\n",
       "      <th>16</th>\n",
       "      <td>23</td>\n",
       "      <td>601</td>\n",
       "    </tr>\n",
       "    <tr>\n",
       "      <th>17</th>\n",
       "      <td>24</td>\n",
       "      <td>577</td>\n",
       "    </tr>\n",
       "    <tr>\n",
       "      <th>18</th>\n",
       "      <td>25</td>\n",
       "      <td>1173</td>\n",
       "    </tr>\n",
       "    <tr>\n",
       "      <th>19</th>\n",
       "      <td>26</td>\n",
       "      <td>745</td>\n",
       "    </tr>\n",
       "    <tr>\n",
       "      <th>20</th>\n",
       "      <td>27</td>\n",
       "      <td>1874</td>\n",
       "    </tr>\n",
       "    <tr>\n",
       "      <th>21</th>\n",
       "      <td>28</td>\n",
       "      <td>1363</td>\n",
       "    </tr>\n",
       "    <tr>\n",
       "      <th>22</th>\n",
       "      <td>29</td>\n",
       "      <td>650</td>\n",
       "    </tr>\n",
       "    <tr>\n",
       "      <th>23</th>\n",
       "      <td>3</td>\n",
       "      <td>988</td>\n",
       "    </tr>\n",
       "    <tr>\n",
       "      <th>24</th>\n",
       "      <td>30</td>\n",
       "      <td>612</td>\n",
       "    </tr>\n",
       "    <tr>\n",
       "      <th>25</th>\n",
       "      <td>31</td>\n",
       "      <td>549</td>\n",
       "    </tr>\n",
       "    <tr>\n",
       "      <th>26</th>\n",
       "      <td>32</td>\n",
       "      <td>1212</td>\n",
       "    </tr>\n",
       "    <tr>\n",
       "      <th>27</th>\n",
       "      <td>33</td>\n",
       "      <td>802</td>\n",
       "    </tr>\n",
       "    <tr>\n",
       "      <th>28</th>\n",
       "      <td>34</td>\n",
       "      <td>527</td>\n",
       "    </tr>\n",
       "    <tr>\n",
       "      <th>29</th>\n",
       "      <td>35</td>\n",
       "      <td>589</td>\n",
       "    </tr>\n",
       "    <tr>\n",
       "      <th>30</th>\n",
       "      <td>36</td>\n",
       "      <td>532</td>\n",
       "    </tr>\n",
       "    <tr>\n",
       "      <th>31</th>\n",
       "      <td>37</td>\n",
       "      <td>477</td>\n",
       "    </tr>\n",
       "    <tr>\n",
       "      <th>32</th>\n",
       "      <td>38</td>\n",
       "      <td>962</td>\n",
       "    </tr>\n",
       "    <tr>\n",
       "      <th>33</th>\n",
       "      <td>39</td>\n",
       "      <td>1285</td>\n",
       "    </tr>\n",
       "    <tr>\n",
       "      <th>34</th>\n",
       "      <td>4</td>\n",
       "      <td>707</td>\n",
       "    </tr>\n",
       "    <tr>\n",
       "      <th>35</th>\n",
       "      <td>40</td>\n",
       "      <td>923</td>\n",
       "    </tr>\n",
       "    <tr>\n",
       "      <th>36</th>\n",
       "      <td>41</td>\n",
       "      <td>1714</td>\n",
       "    </tr>\n",
       "    <tr>\n",
       "      <th>37</th>\n",
       "      <td>42</td>\n",
       "      <td>942</td>\n",
       "    </tr>\n",
       "    <tr>\n",
       "      <th>38</th>\n",
       "      <td>43</td>\n",
       "      <td>769</td>\n",
       "    </tr>\n",
       "    <tr>\n",
       "      <th>39</th>\n",
       "      <td>44</td>\n",
       "      <td>811</td>\n",
       "    </tr>\n",
       "    <tr>\n",
       "      <th>40</th>\n",
       "      <td>45</td>\n",
       "      <td>1497</td>\n",
       "    </tr>\n",
       "    <tr>\n",
       "      <th>41</th>\n",
       "      <td>46</td>\n",
       "      <td>544</td>\n",
       "    </tr>\n",
       "    <tr>\n",
       "      <th>42</th>\n",
       "      <td>47</td>\n",
       "      <td>1073</td>\n",
       "    </tr>\n",
       "    <tr>\n",
       "      <th>43</th>\n",
       "      <td>48</td>\n",
       "      <td>831</td>\n",
       "    </tr>\n",
       "    <tr>\n",
       "      <th>44</th>\n",
       "      <td>49</td>\n",
       "      <td>944</td>\n",
       "    </tr>\n",
       "    <tr>\n",
       "      <th>45</th>\n",
       "      <td>5</td>\n",
       "      <td>620</td>\n",
       "    </tr>\n",
       "    <tr>\n",
       "      <th>46</th>\n",
       "      <td>50</td>\n",
       "      <td>724</td>\n",
       "    </tr>\n",
       "    <tr>\n",
       "      <th>47</th>\n",
       "      <td>6</td>\n",
       "      <td>700</td>\n",
       "    </tr>\n",
       "    <tr>\n",
       "      <th>48</th>\n",
       "      <td>7</td>\n",
       "      <td>414</td>\n",
       "    </tr>\n",
       "    <tr>\n",
       "      <th>49</th>\n",
       "      <td>8</td>\n",
       "      <td>531</td>\n",
       "    </tr>\n",
       "    <tr>\n",
       "      <th>50</th>\n",
       "      <td>9</td>\n",
       "      <td>512</td>\n",
       "    </tr>\n",
       "  </tbody>\n",
       "</table>\n",
       "</div>"
      ],
      "text/plain": [
       "   ward  trees\n",
       "0           91\n",
       "1     1   1325\n",
       "2    10    672\n",
       "3    11    830\n",
       "4    12    453\n",
       "5    13    945\n",
       "6    14    617\n",
       "7    15    390\n",
       "8    16    785\n",
       "9    17    605\n",
       "10   18    416\n",
       "11   19   1332\n",
       "12    2    677\n",
       "13   20    868\n",
       "14   21    459\n",
       "15   22    264\n",
       "16   23    601\n",
       "17   24    577\n",
       "18   25   1173\n",
       "19   26    745\n",
       "20   27   1874\n",
       "21   28   1363\n",
       "22   29    650\n",
       "23    3    988\n",
       "24   30    612\n",
       "25   31    549\n",
       "26   32   1212\n",
       "27   33    802\n",
       "28   34    527\n",
       "29   35    589\n",
       "30   36    532\n",
       "31   37    477\n",
       "32   38    962\n",
       "33   39   1285\n",
       "34    4    707\n",
       "35   40    923\n",
       "36   41   1714\n",
       "37   42    942\n",
       "38   43    769\n",
       "39   44    811\n",
       "40   45   1497\n",
       "41   46    544\n",
       "42   47   1073\n",
       "43   48    831\n",
       "44   49    944\n",
       "45    5    620\n",
       "46   50    724\n",
       "47    6    700\n",
       "48    7    414\n",
       "49    8    531\n",
       "50    9    512"
      ]
     },
     "execution_count": 131,
     "metadata": {},
     "output_type": "execute_result"
    }
   ],
   "source": [
    "tl_no_park"
   ]
  },
  {
   "cell_type": "markdown",
   "id": "8462d548-bfb4-4790-bd9d-a1876456ac9c",
   "metadata": {},
   "source": [
    "__Note:__\n",
    "There are 91 trees not included into any ward. For this exercise, we will not consider it."
   ]
  },
  {
   "cell_type": "markdown",
   "id": "f1844ec1-1de6-42ae-9ca1-bb4ab9eff061",
   "metadata": {},
   "source": [
    "## Question 3.2.\n",
    "\n",
    "Can we group all the planted trees in parks... by WARD? We repete some previous figures:"
   ]
  },
  {
   "cell_type": "code",
   "execution_count": 132,
   "id": "90c01e1a-6e35-4267-a941-fbc8e63c785f",
   "metadata": {},
   "outputs": [
    {
     "data": {
      "text/plain": [
       "(376, 8)"
      ]
     },
     "execution_count": 132,
     "metadata": {},
     "output_type": "execute_result"
    }
   ],
   "source": [
    "compare_parks.shape"
   ]
  },
  {
   "cell_type": "code",
   "execution_count": 133,
   "id": "90b51985-e581-4733-83b3-ec830bad1832",
   "metadata": {},
   "outputs": [
    {
     "data": {
      "text/plain": [
       "34152"
      ]
     },
     "execution_count": 133,
     "metadata": {},
     "output_type": "execute_result"
    }
   ],
   "source": [
    "compare_parks['trees'].sum()"
   ]
  },
  {
   "cell_type": "markdown",
   "id": "7c08a2c5-dccf-4f0f-9374-0e0d8b43af75",
   "metadata": {},
   "source": [
    "Statement: we have data from:\n",
    "- 392 parks (from the original 446 in `tl`)\n",
    "- but almost 97% of the trees..."
   ]
  },
  {
   "cell_type": "code",
   "execution_count": 134,
   "id": "b945241f-b5e1-47f8-813c-bda50a095919",
   "metadata": {},
   "outputs": [
    {
     "data": {
      "text/html": [
       "<div>\n",
       "<style scoped>\n",
       "    .dataframe tbody tr th:only-of-type {\n",
       "        vertical-align: middle;\n",
       "    }\n",
       "\n",
       "    .dataframe tbody tr th {\n",
       "        vertical-align: top;\n",
       "    }\n",
       "\n",
       "    .dataframe thead th {\n",
       "        text-align: right;\n",
       "    }\n",
       "</style>\n",
       "<table border=\"1\" class=\"dataframe\">\n",
       "  <thead>\n",
       "    <tr style=\"text-align: right;\">\n",
       "      <th></th>\n",
       "      <th>LABEL_x</th>\n",
       "      <th>trees</th>\n",
       "      <th>ALIAS</th>\n",
       "      <th>PARK</th>\n",
       "      <th>LABEL_y</th>\n",
       "      <th>ACRES</th>\n",
       "      <th>WARD</th>\n",
       "      <th>PARK_CLASS</th>\n",
       "    </tr>\n",
       "  </thead>\n",
       "  <tbody>\n",
       "    <tr>\n",
       "      <th>0</th>\n",
       "      <td>Lincoln</td>\n",
       "      <td>3508</td>\n",
       "      <td>Lincoln</td>\n",
       "      <td>LINCOLN (ABRAHAM)</td>\n",
       "      <td>Lincoln</td>\n",
       "      <td>1209.98</td>\n",
       "      <td>0</td>\n",
       "      <td>MAGNET PARK</td>\n",
       "    </tr>\n",
       "    <tr>\n",
       "      <th>1</th>\n",
       "      <td>Burnham</td>\n",
       "      <td>1912</td>\n",
       "      <td>Burnham</td>\n",
       "      <td>BURNHAM (DANIEL)</td>\n",
       "      <td>Burnham</td>\n",
       "      <td>657.83</td>\n",
       "      <td>0</td>\n",
       "      <td>MAGNET PARK</td>\n",
       "    </tr>\n",
       "  </tbody>\n",
       "</table>\n",
       "</div>"
      ],
      "text/plain": [
       "   LABEL_x  trees    ALIAS               PARK  LABEL_y    ACRES  WARD  \\\n",
       "0  Lincoln   3508  Lincoln  LINCOLN (ABRAHAM)  Lincoln  1209.98     0   \n",
       "1  Burnham   1912  Burnham   BURNHAM (DANIEL)  Burnham   657.83     0   \n",
       "\n",
       "    PARK_CLASS  \n",
       "0  MAGNET PARK  \n",
       "1  MAGNET PARK  "
      ]
     },
     "execution_count": 134,
     "metadata": {},
     "output_type": "execute_result"
    }
   ],
   "source": [
    "compare_parks.head(2)"
   ]
  },
  {
   "cell_type": "markdown",
   "id": "22d95bf2-70ed-4ea4-8cbf-7170315c6933",
   "metadata": {},
   "source": [
    "Does not something seems wrong here? The first two parks are linked to ward = 0 (???).\n",
    "\n",
    "Let's create a new subset, only with 'WARD' and 'trees', group it by 'WARD', and sum the number of trees"
   ]
  },
  {
   "cell_type": "code",
   "execution_count": 135,
   "id": "d6153fbe-75f9-4f21-a80d-1cca3ef21169",
   "metadata": {},
   "outputs": [],
   "source": [
    "trpk = compare_parks[['trees','WARD']].groupby('WARD').sum('trees').reset_index()"
   ]
  },
  {
   "cell_type": "markdown",
   "id": "640752e1-1917-4b05-ba76-271334286f94",
   "metadata": {},
   "source": [
    "Let's check out the top 10 wards, concerning the number of planted trees inside their parks:"
   ]
  },
  {
   "cell_type": "code",
   "execution_count": 136,
   "id": "58b084dc-b01e-480a-9961-6525688ae2ef",
   "metadata": {},
   "outputs": [
    {
     "data": {
      "text/html": [
       "<div>\n",
       "<style scoped>\n",
       "    .dataframe tbody tr th:only-of-type {\n",
       "        vertical-align: middle;\n",
       "    }\n",
       "\n",
       "    .dataframe tbody tr th {\n",
       "        vertical-align: top;\n",
       "    }\n",
       "\n",
       "    .dataframe thead th {\n",
       "        text-align: right;\n",
       "    }\n",
       "</style>\n",
       "<table border=\"1\" class=\"dataframe\">\n",
       "  <thead>\n",
       "    <tr style=\"text-align: right;\">\n",
       "      <th></th>\n",
       "      <th>WARD</th>\n",
       "      <th>trees</th>\n",
       "    </tr>\n",
       "  </thead>\n",
       "  <tbody>\n",
       "    <tr>\n",
       "      <th>0</th>\n",
       "      <td>0</td>\n",
       "      <td>10698</td>\n",
       "    </tr>\n",
       "    <tr>\n",
       "      <th>5</th>\n",
       "      <td>5</td>\n",
       "      <td>1005</td>\n",
       "    </tr>\n",
       "    <tr>\n",
       "      <th>9</th>\n",
       "      <td>9</td>\n",
       "      <td>822</td>\n",
       "    </tr>\n",
       "    <tr>\n",
       "      <th>7</th>\n",
       "      <td>7</td>\n",
       "      <td>806</td>\n",
       "    </tr>\n",
       "    <tr>\n",
       "      <th>8</th>\n",
       "      <td>8</td>\n",
       "      <td>646</td>\n",
       "    </tr>\n",
       "    <tr>\n",
       "      <th>4</th>\n",
       "      <td>4</td>\n",
       "      <td>563</td>\n",
       "    </tr>\n",
       "    <tr>\n",
       "      <th>6</th>\n",
       "      <td>6</td>\n",
       "      <td>364</td>\n",
       "    </tr>\n",
       "    <tr>\n",
       "      <th>3</th>\n",
       "      <td>3</td>\n",
       "      <td>330</td>\n",
       "    </tr>\n",
       "    <tr>\n",
       "      <th>2</th>\n",
       "      <td>2</td>\n",
       "      <td>79</td>\n",
       "    </tr>\n",
       "    <tr>\n",
       "      <th>1</th>\n",
       "      <td>1</td>\n",
       "      <td>63</td>\n",
       "    </tr>\n",
       "  </tbody>\n",
       "</table>\n",
       "</div>"
      ],
      "text/plain": [
       "   WARD  trees\n",
       "0     0  10698\n",
       "5     5   1005\n",
       "9     9    822\n",
       "7     7    806\n",
       "8     8    646\n",
       "4     4    563\n",
       "6     6    364\n",
       "3     3    330\n",
       "2     2     79\n",
       "1     1     63"
      ]
     },
     "execution_count": 136,
     "metadata": {},
     "output_type": "execute_result"
    }
   ],
   "source": [
    "trpk.head(10).sort_values('trees', ascending=False)"
   ]
  },
  {
   "cell_type": "markdown",
   "id": "84d8e1e7-0e62-4582-9f3c-6c7ccfc25a4b",
   "metadata": {},
   "source": [
    "__Statement__: almost 11000 planted trees have no ward reference! (WARD = 0)"
   ]
  },
  {
   "cell_type": "markdown",
   "id": "72ba0695-3a8a-4a9b-9daa-b94d1f9ac549",
   "metadata": {},
   "source": [
    "How many parks do have 'WARD' == 0?"
   ]
  },
  {
   "cell_type": "code",
   "execution_count": 137,
   "id": "410fbe8d-356e-47ed-bdf8-a16236618cbe",
   "metadata": {},
   "outputs": [],
   "source": [
    "ward0 = compare_parks[compare_parks['WARD'] == 0]"
   ]
  },
  {
   "cell_type": "code",
   "execution_count": 138,
   "id": "ee27c32f-a579-4d9f-9c0c-306ce629d06a",
   "metadata": {},
   "outputs": [
    {
     "data": {
      "text/plain": [
       "15"
      ]
     },
     "execution_count": 138,
     "metadata": {},
     "output_type": "execute_result"
    }
   ],
   "source": [
    "len(ward0)"
   ]
  },
  {
   "cell_type": "markdown",
   "id": "be6b3b67-d0ad-474f-b0f9-8c139f73bde1",
   "metadata": {},
   "source": [
    "__Statement:__ 17 parks inside compare_parks are not related to any ward.\n",
    "\n",
    "These parks are:"
   ]
  },
  {
   "cell_type": "code",
   "execution_count": 139,
   "id": "b6f57b1f-bca6-4a8d-b6b0-b84eb938ae49",
   "metadata": {},
   "outputs": [
    {
     "data": {
      "text/html": [
       "<div>\n",
       "<style scoped>\n",
       "    .dataframe tbody tr th:only-of-type {\n",
       "        vertical-align: middle;\n",
       "    }\n",
       "\n",
       "    .dataframe tbody tr th {\n",
       "        vertical-align: top;\n",
       "    }\n",
       "\n",
       "    .dataframe thead th {\n",
       "        text-align: right;\n",
       "    }\n",
       "</style>\n",
       "<table border=\"1\" class=\"dataframe\">\n",
       "  <thead>\n",
       "    <tr style=\"text-align: right;\">\n",
       "      <th></th>\n",
       "      <th>LABEL_x</th>\n",
       "      <th>trees</th>\n",
       "      <th>ALIAS</th>\n",
       "      <th>PARK</th>\n",
       "      <th>LABEL_y</th>\n",
       "      <th>ACRES</th>\n",
       "      <th>WARD</th>\n",
       "      <th>PARK_CLASS</th>\n",
       "    </tr>\n",
       "  </thead>\n",
       "  <tbody>\n",
       "    <tr>\n",
       "      <th>0</th>\n",
       "      <td>Lincoln</td>\n",
       "      <td>3508</td>\n",
       "      <td>Lincoln</td>\n",
       "      <td>LINCOLN (ABRAHAM)</td>\n",
       "      <td>Lincoln</td>\n",
       "      <td>1209.98</td>\n",
       "      <td>0</td>\n",
       "      <td>MAGNET PARK</td>\n",
       "    </tr>\n",
       "    <tr>\n",
       "      <th>1</th>\n",
       "      <td>Burnham</td>\n",
       "      <td>1912</td>\n",
       "      <td>Burnham</td>\n",
       "      <td>BURNHAM (DANIEL)</td>\n",
       "      <td>Burnham</td>\n",
       "      <td>657.83</td>\n",
       "      <td>0</td>\n",
       "      <td>MAGNET PARK</td>\n",
       "    </tr>\n",
       "    <tr>\n",
       "      <th>4</th>\n",
       "      <td>Grant</td>\n",
       "      <td>1582</td>\n",
       "      <td>Grant</td>\n",
       "      <td>GRANT (ULYSSES)</td>\n",
       "      <td>Grant</td>\n",
       "      <td>295.45</td>\n",
       "      <td>0</td>\n",
       "      <td>MAGNET PARK</td>\n",
       "    </tr>\n",
       "    <tr>\n",
       "      <th>5</th>\n",
       "      <td>Washington, George</td>\n",
       "      <td>1294</td>\n",
       "      <td>Washington George</td>\n",
       "      <td>WASHINGTON (GEORGE)</td>\n",
       "      <td>Washington (George)</td>\n",
       "      <td>350.49</td>\n",
       "      <td>0</td>\n",
       "      <td>CITYWIDE PARK</td>\n",
       "    </tr>\n",
       "    <tr>\n",
       "      <th>7</th>\n",
       "      <td>Douglas</td>\n",
       "      <td>1110</td>\n",
       "      <td>Douglass</td>\n",
       "      <td>DOUGLASS (ANNA &amp; FREDERICK)</td>\n",
       "      <td>Douglass</td>\n",
       "      <td>165.49</td>\n",
       "      <td>0</td>\n",
       "      <td>CITYWIDE PARK</td>\n",
       "    </tr>\n",
       "    <tr>\n",
       "      <th>12</th>\n",
       "      <td>Legion</td>\n",
       "      <td>492</td>\n",
       "      <td>Legion</td>\n",
       "      <td>LEGION</td>\n",
       "      <td>Legion</td>\n",
       "      <td>48.44</td>\n",
       "      <td>0</td>\n",
       "      <td>REGIONAL PARK</td>\n",
       "    </tr>\n",
       "    <tr>\n",
       "      <th>22</th>\n",
       "      <td>Gage</td>\n",
       "      <td>192</td>\n",
       "      <td>Gage</td>\n",
       "      <td>GAGE (GEORGE)</td>\n",
       "      <td>Gage</td>\n",
       "      <td>26.50</td>\n",
       "      <td>0</td>\n",
       "      <td>REGIONAL PARK</td>\n",
       "    </tr>\n",
       "    <tr>\n",
       "      <th>26</th>\n",
       "      <td>Rutherford Sayre</td>\n",
       "      <td>189</td>\n",
       "      <td>Rutherford Sayre</td>\n",
       "      <td>RUTHERFORD SAYRE</td>\n",
       "      <td>Rutherford Sayre</td>\n",
       "      <td>13.47</td>\n",
       "      <td>0</td>\n",
       "      <td>COMMUNITY PARK</td>\n",
       "    </tr>\n",
       "    <tr>\n",
       "      <th>56</th>\n",
       "      <td>River</td>\n",
       "      <td>116</td>\n",
       "      <td>River</td>\n",
       "      <td>RIVER</td>\n",
       "      <td>River</td>\n",
       "      <td>29.60</td>\n",
       "      <td>0</td>\n",
       "      <td>REGIONAL PARK</td>\n",
       "    </tr>\n",
       "    <tr>\n",
       "      <th>74</th>\n",
       "      <td>Ronan</td>\n",
       "      <td>93</td>\n",
       "      <td>Ronan</td>\n",
       "      <td>RONAN (GEORGE)</td>\n",
       "      <td>Ronan</td>\n",
       "      <td>11.97</td>\n",
       "      <td>0</td>\n",
       "      <td>LINEAR PARK</td>\n",
       "    </tr>\n",
       "    <tr>\n",
       "      <th>75</th>\n",
       "      <td>Palmer Square</td>\n",
       "      <td>92</td>\n",
       "      <td>Palmer Square</td>\n",
       "      <td>PALMER SQUARE</td>\n",
       "      <td>Palmer Sq</td>\n",
       "      <td>8.09</td>\n",
       "      <td>0</td>\n",
       "      <td>COMMUNITY PARK</td>\n",
       "    </tr>\n",
       "    <tr>\n",
       "      <th>130</th>\n",
       "      <td>Minuteman</td>\n",
       "      <td>47</td>\n",
       "      <td>Minuteman</td>\n",
       "      <td>MINUTEMAN</td>\n",
       "      <td>Minuteman</td>\n",
       "      <td>8.97</td>\n",
       "      <td>0</td>\n",
       "      <td>COMMUNITY PARK</td>\n",
       "    </tr>\n",
       "    <tr>\n",
       "      <th>140</th>\n",
       "      <td>Valley Forge</td>\n",
       "      <td>43</td>\n",
       "      <td>Valley Forge</td>\n",
       "      <td>VALLEY FORGE</td>\n",
       "      <td>Valley Forge</td>\n",
       "      <td>8.32</td>\n",
       "      <td>0</td>\n",
       "      <td>COMMUNITY PARK</td>\n",
       "    </tr>\n",
       "    <tr>\n",
       "      <th>193</th>\n",
       "      <td>Jefferson, Thomas</td>\n",
       "      <td>23</td>\n",
       "      <td>Jefferson Thomas</td>\n",
       "      <td>JEFFERSON (THOMAS)</td>\n",
       "      <td>Jefferson (Thomas)</td>\n",
       "      <td>1.98</td>\n",
       "      <td>0</td>\n",
       "      <td>NEIGHBORHOOD PARK</td>\n",
       "    </tr>\n",
       "    <tr>\n",
       "      <th>316</th>\n",
       "      <td>Park 538</td>\n",
       "      <td>5</td>\n",
       "      <td>Park 538</td>\n",
       "      <td>PARK NO. 538</td>\n",
       "      <td>Park 538</td>\n",
       "      <td>32.67</td>\n",
       "      <td>0</td>\n",
       "      <td>LINEAR PARK</td>\n",
       "    </tr>\n",
       "  </tbody>\n",
       "</table>\n",
       "</div>"
      ],
      "text/plain": [
       "                LABEL_x  trees              ALIAS  \\\n",
       "0               Lincoln   3508            Lincoln   \n",
       "1               Burnham   1912            Burnham   \n",
       "4                 Grant   1582              Grant   \n",
       "5    Washington, George   1294  Washington George   \n",
       "7               Douglas   1110           Douglass   \n",
       "12               Legion    492             Legion   \n",
       "22                 Gage    192               Gage   \n",
       "26     Rutherford Sayre    189   Rutherford Sayre   \n",
       "56                River    116              River   \n",
       "74                Ronan     93              Ronan   \n",
       "75        Palmer Square     92      Palmer Square   \n",
       "130           Minuteman     47          Minuteman   \n",
       "140        Valley Forge     43       Valley Forge   \n",
       "193   Jefferson, Thomas     23   Jefferson Thomas   \n",
       "316            Park 538      5           Park 538   \n",
       "\n",
       "                            PARK              LABEL_y    ACRES  WARD  \\\n",
       "0              LINCOLN (ABRAHAM)              Lincoln  1209.98     0   \n",
       "1               BURNHAM (DANIEL)              Burnham   657.83     0   \n",
       "4                GRANT (ULYSSES)                Grant   295.45     0   \n",
       "5            WASHINGTON (GEORGE)  Washington (George)   350.49     0   \n",
       "7    DOUGLASS (ANNA & FREDERICK)             Douglass   165.49     0   \n",
       "12                        LEGION               Legion    48.44     0   \n",
       "22                 GAGE (GEORGE)                 Gage    26.50     0   \n",
       "26              RUTHERFORD SAYRE     Rutherford Sayre    13.47     0   \n",
       "56                         RIVER                River    29.60     0   \n",
       "74                RONAN (GEORGE)                Ronan    11.97     0   \n",
       "75                 PALMER SQUARE            Palmer Sq     8.09     0   \n",
       "130                    MINUTEMAN            Minuteman     8.97     0   \n",
       "140                 VALLEY FORGE         Valley Forge     8.32     0   \n",
       "193           JEFFERSON (THOMAS)   Jefferson (Thomas)     1.98     0   \n",
       "316                 PARK NO. 538             Park 538    32.67     0   \n",
       "\n",
       "            PARK_CLASS  \n",
       "0          MAGNET PARK  \n",
       "1          MAGNET PARK  \n",
       "4          MAGNET PARK  \n",
       "5        CITYWIDE PARK  \n",
       "7        CITYWIDE PARK  \n",
       "12       REGIONAL PARK  \n",
       "22       REGIONAL PARK  \n",
       "26      COMMUNITY PARK  \n",
       "56       REGIONAL PARK  \n",
       "74         LINEAR PARK  \n",
       "75      COMMUNITY PARK  \n",
       "130     COMMUNITY PARK  \n",
       "140     COMMUNITY PARK  \n",
       "193  NEIGHBORHOOD PARK  \n",
       "316        LINEAR PARK  "
      ]
     },
     "execution_count": 139,
     "metadata": {},
     "output_type": "execute_result"
    }
   ],
   "source": [
    "ward0"
   ]
  },
  {
   "cell_type": "markdown",
   "id": "947804ef-3783-42a7-b402-b22974c1c0e2",
   "metadata": {},
   "source": [
    "Or, as a list:"
   ]
  },
  {
   "cell_type": "code",
   "execution_count": 140,
   "id": "6178237d-3d1e-4442-8528-d1d80603d412",
   "metadata": {},
   "outputs": [
    {
     "data": {
      "text/plain": [
       "['LINCOLN (ABRAHAM)',\n",
       " 'BURNHAM (DANIEL)',\n",
       " 'GRANT (ULYSSES)',\n",
       " 'WASHINGTON (GEORGE)',\n",
       " 'DOUGLASS (ANNA & FREDERICK)',\n",
       " 'LEGION',\n",
       " 'GAGE (GEORGE)',\n",
       " 'RUTHERFORD SAYRE',\n",
       " 'RIVER',\n",
       " 'RONAN (GEORGE)',\n",
       " 'PALMER SQUARE',\n",
       " 'MINUTEMAN',\n",
       " 'VALLEY FORGE',\n",
       " 'JEFFERSON (THOMAS)',\n",
       " 'PARK NO. 538']"
      ]
     },
     "execution_count": 140,
     "metadata": {},
     "output_type": "execute_result"
    }
   ],
   "source": [
    "ward0['PARK'].to_list()"
   ]
  },
  {
   "cell_type": "markdown",
   "id": "b96d3194-a23e-4e0b-b5e4-3c2888092310",
   "metadata": {},
   "source": [
    "I tried a quick way, although it should be reviewed: asking to ChatGPT to find a ward to be linked to each park of the list, and create the code to convert it into a dataset. The following four cells were taken from ChatGPT results:\n",
    "\n",
    "(Note: the first following cell is the same as the previously created here. Redundant.)"
   ]
  },
  {
   "cell_type": "code",
   "execution_count": 141,
   "id": "7c9a7e56-27a8-40f3-827d-2d45b9680f59",
   "metadata": {},
   "outputs": [],
   "source": [
    "pn0 = [\n",
    "    'LINCOLN (ABRAHAM)',\n",
    "    'BURNHAM (DANIEL)',\n",
    "    'GRANT (ULYSSES)',\n",
    "    'WASHINGTON (GEORGE)',\n",
    "    'DOUGLASS (ANNA & FREDERICK)',\n",
    "    'LEGION',\n",
    "    'GAGE (GEORGE)',\n",
    "    'RUTHERFORD SAYRE',\n",
    "    'RIVER',\n",
    "    'RONAN (GEORGE)',\n",
    "    'PALMER SQUARE',\n",
    "    'FERNWOOD PKWY.',\n",
    "    'MAJOR TAYLOR BIKE TRAIL',\n",
    "    'MINUTEMAN',\n",
    "    'VALLEY FORGE',\n",
    "    'JEFFERSON (THOMAS)',\n",
    "    'PARK NO. 538'\n",
    "]"
   ]
  },
  {
   "cell_type": "code",
   "execution_count": 142,
   "id": "9b6050a8-05b2-45b3-8e23-ff15f27fcec8",
   "metadata": {},
   "outputs": [],
   "source": [
    "pn0_gpt_ward_numbers = [\n",
    "    43, 4, 42, 4, 24, 37, 25, 36, 39, 39, 1, 34, 34, 1, 23, 45, 2\n",
    "]"
   ]
  },
  {
   "cell_type": "code",
   "execution_count": 143,
   "id": "aac6fc50-f566-4e56-b32f-2f325f9a77dd",
   "metadata": {},
   "outputs": [],
   "source": [
    "pn0_df = pd.DataFrame({\n",
    "    'PARK': pn0,\n",
    "    'WARD': pn0_gpt_ward_numbers\n",
    "})"
   ]
  },
  {
   "cell_type": "code",
   "execution_count": 144,
   "id": "792fb872-c024-49aa-bcb1-d63f5c3e45ef",
   "metadata": {},
   "outputs": [
    {
     "data": {
      "text/html": [
       "<div>\n",
       "<style scoped>\n",
       "    .dataframe tbody tr th:only-of-type {\n",
       "        vertical-align: middle;\n",
       "    }\n",
       "\n",
       "    .dataframe tbody tr th {\n",
       "        vertical-align: top;\n",
       "    }\n",
       "\n",
       "    .dataframe thead th {\n",
       "        text-align: right;\n",
       "    }\n",
       "</style>\n",
       "<table border=\"1\" class=\"dataframe\">\n",
       "  <thead>\n",
       "    <tr style=\"text-align: right;\">\n",
       "      <th></th>\n",
       "      <th>PARK</th>\n",
       "      <th>WARD</th>\n",
       "    </tr>\n",
       "  </thead>\n",
       "  <tbody>\n",
       "    <tr>\n",
       "      <th>0</th>\n",
       "      <td>LINCOLN (ABRAHAM)</td>\n",
       "      <td>43</td>\n",
       "    </tr>\n",
       "    <tr>\n",
       "      <th>1</th>\n",
       "      <td>BURNHAM (DANIEL)</td>\n",
       "      <td>4</td>\n",
       "    </tr>\n",
       "    <tr>\n",
       "      <th>2</th>\n",
       "      <td>GRANT (ULYSSES)</td>\n",
       "      <td>42</td>\n",
       "    </tr>\n",
       "    <tr>\n",
       "      <th>3</th>\n",
       "      <td>WASHINGTON (GEORGE)</td>\n",
       "      <td>4</td>\n",
       "    </tr>\n",
       "    <tr>\n",
       "      <th>4</th>\n",
       "      <td>DOUGLASS (ANNA &amp; FREDERICK)</td>\n",
       "      <td>24</td>\n",
       "    </tr>\n",
       "    <tr>\n",
       "      <th>5</th>\n",
       "      <td>LEGION</td>\n",
       "      <td>37</td>\n",
       "    </tr>\n",
       "    <tr>\n",
       "      <th>6</th>\n",
       "      <td>GAGE (GEORGE)</td>\n",
       "      <td>25</td>\n",
       "    </tr>\n",
       "    <tr>\n",
       "      <th>7</th>\n",
       "      <td>RUTHERFORD SAYRE</td>\n",
       "      <td>36</td>\n",
       "    </tr>\n",
       "    <tr>\n",
       "      <th>8</th>\n",
       "      <td>RIVER</td>\n",
       "      <td>39</td>\n",
       "    </tr>\n",
       "    <tr>\n",
       "      <th>9</th>\n",
       "      <td>RONAN (GEORGE)</td>\n",
       "      <td>39</td>\n",
       "    </tr>\n",
       "    <tr>\n",
       "      <th>10</th>\n",
       "      <td>PALMER SQUARE</td>\n",
       "      <td>1</td>\n",
       "    </tr>\n",
       "    <tr>\n",
       "      <th>11</th>\n",
       "      <td>FERNWOOD PKWY.</td>\n",
       "      <td>34</td>\n",
       "    </tr>\n",
       "    <tr>\n",
       "      <th>12</th>\n",
       "      <td>MAJOR TAYLOR BIKE TRAIL</td>\n",
       "      <td>34</td>\n",
       "    </tr>\n",
       "    <tr>\n",
       "      <th>13</th>\n",
       "      <td>MINUTEMAN</td>\n",
       "      <td>1</td>\n",
       "    </tr>\n",
       "    <tr>\n",
       "      <th>14</th>\n",
       "      <td>VALLEY FORGE</td>\n",
       "      <td>23</td>\n",
       "    </tr>\n",
       "    <tr>\n",
       "      <th>15</th>\n",
       "      <td>JEFFERSON (THOMAS)</td>\n",
       "      <td>45</td>\n",
       "    </tr>\n",
       "    <tr>\n",
       "      <th>16</th>\n",
       "      <td>PARK NO. 538</td>\n",
       "      <td>2</td>\n",
       "    </tr>\n",
       "  </tbody>\n",
       "</table>\n",
       "</div>"
      ],
      "text/plain": [
       "                           PARK  WARD\n",
       "0             LINCOLN (ABRAHAM)    43\n",
       "1              BURNHAM (DANIEL)     4\n",
       "2               GRANT (ULYSSES)    42\n",
       "3           WASHINGTON (GEORGE)     4\n",
       "4   DOUGLASS (ANNA & FREDERICK)    24\n",
       "5                        LEGION    37\n",
       "6                 GAGE (GEORGE)    25\n",
       "7              RUTHERFORD SAYRE    36\n",
       "8                         RIVER    39\n",
       "9                RONAN (GEORGE)    39\n",
       "10                PALMER SQUARE     1\n",
       "11               FERNWOOD PKWY.    34\n",
       "12      MAJOR TAYLOR BIKE TRAIL    34\n",
       "13                    MINUTEMAN     1\n",
       "14                 VALLEY FORGE    23\n",
       "15           JEFFERSON (THOMAS)    45\n",
       "16                 PARK NO. 538     2"
      ]
     },
     "execution_count": 144,
     "metadata": {},
     "output_type": "execute_result"
    }
   ],
   "source": [
    "pn0_df"
   ]
  },
  {
   "cell_type": "markdown",
   "id": "5e1e02ee-eb92-4a52-ae46-83f7ac2b5f8a",
   "metadata": {},
   "source": [
    "We review that there is no duplicates in compare_parks"
   ]
  },
  {
   "cell_type": "code",
   "execution_count": 145,
   "id": "6559b5fd-6997-46d7-8952-ee4d0fe3e78c",
   "metadata": {},
   "outputs": [
    {
     "data": {
      "text/html": [
       "<div>\n",
       "<style scoped>\n",
       "    .dataframe tbody tr th:only-of-type {\n",
       "        vertical-align: middle;\n",
       "    }\n",
       "\n",
       "    .dataframe tbody tr th {\n",
       "        vertical-align: top;\n",
       "    }\n",
       "\n",
       "    .dataframe thead th {\n",
       "        text-align: right;\n",
       "    }\n",
       "</style>\n",
       "<table border=\"1\" class=\"dataframe\">\n",
       "  <thead>\n",
       "    <tr style=\"text-align: right;\">\n",
       "      <th></th>\n",
       "      <th>LABEL_x</th>\n",
       "      <th>trees</th>\n",
       "      <th>ALIAS</th>\n",
       "      <th>PARK</th>\n",
       "      <th>LABEL_y</th>\n",
       "      <th>ACRES</th>\n",
       "      <th>WARD</th>\n",
       "      <th>PARK_CLASS</th>\n",
       "    </tr>\n",
       "  </thead>\n",
       "  <tbody>\n",
       "  </tbody>\n",
       "</table>\n",
       "</div>"
      ],
      "text/plain": [
       "Empty DataFrame\n",
       "Columns: [LABEL_x, trees, ALIAS, PARK, LABEL_y, ACRES, WARD, PARK_CLASS]\n",
       "Index: []"
      ]
     },
     "execution_count": 145,
     "metadata": {},
     "output_type": "execute_result"
    }
   ],
   "source": [
    "compare_parks[compare_parks.duplicated()]"
   ]
  },
  {
   "cell_type": "markdown",
   "id": "91933861-83e7-4b0f-a129-d796fb2465c0",
   "metadata": {},
   "source": [
    "We merge `pn0_df` with `ward_0` in `ward_0_data`"
   ]
  },
  {
   "cell_type": "code",
   "execution_count": 146,
   "id": "c4dde9e6-486d-4593-9751-9903702b5490",
   "metadata": {},
   "outputs": [],
   "source": [
    "ward_0_data = pd.merge(pn0_df,ward0,on='PARK')"
   ]
  },
  {
   "cell_type": "code",
   "execution_count": 147,
   "id": "320ed8dd-566c-439a-97d6-627d65fc7985",
   "metadata": {},
   "outputs": [
    {
     "data": {
      "text/html": [
       "<div>\n",
       "<style scoped>\n",
       "    .dataframe tbody tr th:only-of-type {\n",
       "        vertical-align: middle;\n",
       "    }\n",
       "\n",
       "    .dataframe tbody tr th {\n",
       "        vertical-align: top;\n",
       "    }\n",
       "\n",
       "    .dataframe thead th {\n",
       "        text-align: right;\n",
       "    }\n",
       "</style>\n",
       "<table border=\"1\" class=\"dataframe\">\n",
       "  <thead>\n",
       "    <tr style=\"text-align: right;\">\n",
       "      <th></th>\n",
       "      <th>PARK</th>\n",
       "      <th>WARD_x</th>\n",
       "      <th>LABEL_x</th>\n",
       "      <th>trees</th>\n",
       "      <th>ALIAS</th>\n",
       "      <th>LABEL_y</th>\n",
       "      <th>ACRES</th>\n",
       "      <th>WARD_y</th>\n",
       "      <th>PARK_CLASS</th>\n",
       "    </tr>\n",
       "  </thead>\n",
       "  <tbody>\n",
       "    <tr>\n",
       "      <th>0</th>\n",
       "      <td>LINCOLN (ABRAHAM)</td>\n",
       "      <td>43</td>\n",
       "      <td>Lincoln</td>\n",
       "      <td>3508</td>\n",
       "      <td>Lincoln</td>\n",
       "      <td>Lincoln</td>\n",
       "      <td>1209.98</td>\n",
       "      <td>0</td>\n",
       "      <td>MAGNET PARK</td>\n",
       "    </tr>\n",
       "    <tr>\n",
       "      <th>1</th>\n",
       "      <td>BURNHAM (DANIEL)</td>\n",
       "      <td>4</td>\n",
       "      <td>Burnham</td>\n",
       "      <td>1912</td>\n",
       "      <td>Burnham</td>\n",
       "      <td>Burnham</td>\n",
       "      <td>657.83</td>\n",
       "      <td>0</td>\n",
       "      <td>MAGNET PARK</td>\n",
       "    </tr>\n",
       "  </tbody>\n",
       "</table>\n",
       "</div>"
      ],
      "text/plain": [
       "                PARK  WARD_x  LABEL_x  trees    ALIAS  LABEL_y    ACRES  \\\n",
       "0  LINCOLN (ABRAHAM)      43  Lincoln   3508  Lincoln  Lincoln  1209.98   \n",
       "1   BURNHAM (DANIEL)       4  Burnham   1912  Burnham  Burnham   657.83   \n",
       "\n",
       "   WARD_y   PARK_CLASS  \n",
       "0       0  MAGNET PARK  \n",
       "1       0  MAGNET PARK  "
      ]
     },
     "execution_count": 147,
     "metadata": {},
     "output_type": "execute_result"
    }
   ],
   "source": [
    "ward_0_data.head(2)"
   ]
  },
  {
   "cell_type": "markdown",
   "id": "ad582f3a-5028-4b31-8ffe-c4352a441145",
   "metadata": {},
   "source": [
    "Let's review `compare_parks`' structure:"
   ]
  },
  {
   "cell_type": "code",
   "execution_count": 148,
   "id": "0477debc-368d-4b68-9b46-cd4613c02861",
   "metadata": {},
   "outputs": [
    {
     "data": {
      "text/html": [
       "<div>\n",
       "<style scoped>\n",
       "    .dataframe tbody tr th:only-of-type {\n",
       "        vertical-align: middle;\n",
       "    }\n",
       "\n",
       "    .dataframe tbody tr th {\n",
       "        vertical-align: top;\n",
       "    }\n",
       "\n",
       "    .dataframe thead th {\n",
       "        text-align: right;\n",
       "    }\n",
       "</style>\n",
       "<table border=\"1\" class=\"dataframe\">\n",
       "  <thead>\n",
       "    <tr style=\"text-align: right;\">\n",
       "      <th></th>\n",
       "      <th>LABEL_x</th>\n",
       "      <th>trees</th>\n",
       "      <th>ALIAS</th>\n",
       "      <th>PARK</th>\n",
       "      <th>LABEL_y</th>\n",
       "      <th>ACRES</th>\n",
       "      <th>WARD</th>\n",
       "      <th>PARK_CLASS</th>\n",
       "    </tr>\n",
       "  </thead>\n",
       "  <tbody>\n",
       "    <tr>\n",
       "      <th>0</th>\n",
       "      <td>Lincoln</td>\n",
       "      <td>3508</td>\n",
       "      <td>Lincoln</td>\n",
       "      <td>LINCOLN (ABRAHAM)</td>\n",
       "      <td>Lincoln</td>\n",
       "      <td>1209.98</td>\n",
       "      <td>0</td>\n",
       "      <td>MAGNET PARK</td>\n",
       "    </tr>\n",
       "    <tr>\n",
       "      <th>1</th>\n",
       "      <td>Burnham</td>\n",
       "      <td>1912</td>\n",
       "      <td>Burnham</td>\n",
       "      <td>BURNHAM (DANIEL)</td>\n",
       "      <td>Burnham</td>\n",
       "      <td>657.83</td>\n",
       "      <td>0</td>\n",
       "      <td>MAGNET PARK</td>\n",
       "    </tr>\n",
       "  </tbody>\n",
       "</table>\n",
       "</div>"
      ],
      "text/plain": [
       "   LABEL_x  trees    ALIAS               PARK  LABEL_y    ACRES  WARD  \\\n",
       "0  Lincoln   3508  Lincoln  LINCOLN (ABRAHAM)  Lincoln  1209.98     0   \n",
       "1  Burnham   1912  Burnham   BURNHAM (DANIEL)  Burnham   657.83     0   \n",
       "\n",
       "    PARK_CLASS  \n",
       "0  MAGNET PARK  \n",
       "1  MAGNET PARK  "
      ]
     },
     "execution_count": 148,
     "metadata": {},
     "output_type": "execute_result"
    }
   ],
   "source": [
    "compare_parks.head(2)"
   ]
  },
  {
   "cell_type": "markdown",
   "id": "3c7c77cb-d334-4c41-a065-3347ecb54dcb",
   "metadata": {},
   "source": [
    "So, we need to modify the structure of `ward_0_data`:\n",
    "\n",
    "- drop the column 'WARD_y' (WARNING: in the same dataframe, so adding the `inplace=True` value)"
   ]
  },
  {
   "cell_type": "code",
   "execution_count": 149,
   "id": "ce45b3b4-c177-47af-a3ba-f8220acfca84",
   "metadata": {},
   "outputs": [],
   "source": [
    "ward_0_data.drop(columns=['WARD_y'], inplace=True)"
   ]
  },
  {
   "cell_type": "markdown",
   "id": "0865ef5c-83d6-44fb-8fa2-e0f21901273d",
   "metadata": {},
   "source": [
    "- rename the columna 'WARD_x' as 'WARD'."
   ]
  },
  {
   "cell_type": "code",
   "execution_count": 150,
   "id": "e3c45321-1f44-4cf9-a7be-1a4a79eb3747",
   "metadata": {},
   "outputs": [],
   "source": [
    "ward_0_data.rename(columns={\"WARD_x\": \"WARD\"}, inplace=True)"
   ]
  },
  {
   "cell_type": "markdown",
   "id": "5b859809-2ab8-480e-a4be-25b1840a1618",
   "metadata": {},
   "source": [
    "- order the `ward_0_data` columns following the same `compare_data` order.\n"
   ]
  },
  {
   "cell_type": "code",
   "execution_count": 151,
   "id": "6370d139-6e1a-460b-bfba-b125ce30d0a1",
   "metadata": {},
   "outputs": [],
   "source": [
    "ward_0_data = ward_0_data.loc[:,['LABEL_x' , 'trees' , 'ALIAS' , 'PARK' , 'LABEL_y' , 'ACRES' , 'WARD' , 'PARK_CLASS']]"
   ]
  },
  {
   "cell_type": "code",
   "execution_count": 152,
   "id": "1be6432f-6115-4f59-a348-202b73efb1a9",
   "metadata": {},
   "outputs": [
    {
     "data": {
      "text/html": [
       "<div>\n",
       "<style scoped>\n",
       "    .dataframe tbody tr th:only-of-type {\n",
       "        vertical-align: middle;\n",
       "    }\n",
       "\n",
       "    .dataframe tbody tr th {\n",
       "        vertical-align: top;\n",
       "    }\n",
       "\n",
       "    .dataframe thead th {\n",
       "        text-align: right;\n",
       "    }\n",
       "</style>\n",
       "<table border=\"1\" class=\"dataframe\">\n",
       "  <thead>\n",
       "    <tr style=\"text-align: right;\">\n",
       "      <th></th>\n",
       "      <th>LABEL_x</th>\n",
       "      <th>trees</th>\n",
       "      <th>ALIAS</th>\n",
       "      <th>PARK</th>\n",
       "      <th>LABEL_y</th>\n",
       "      <th>ACRES</th>\n",
       "      <th>WARD</th>\n",
       "      <th>PARK_CLASS</th>\n",
       "    </tr>\n",
       "  </thead>\n",
       "  <tbody>\n",
       "    <tr>\n",
       "      <th>0</th>\n",
       "      <td>Lincoln</td>\n",
       "      <td>3508</td>\n",
       "      <td>Lincoln</td>\n",
       "      <td>LINCOLN (ABRAHAM)</td>\n",
       "      <td>Lincoln</td>\n",
       "      <td>1209.98</td>\n",
       "      <td>43</td>\n",
       "      <td>MAGNET PARK</td>\n",
       "    </tr>\n",
       "    <tr>\n",
       "      <th>1</th>\n",
       "      <td>Burnham</td>\n",
       "      <td>1912</td>\n",
       "      <td>Burnham</td>\n",
       "      <td>BURNHAM (DANIEL)</td>\n",
       "      <td>Burnham</td>\n",
       "      <td>657.83</td>\n",
       "      <td>4</td>\n",
       "      <td>MAGNET PARK</td>\n",
       "    </tr>\n",
       "  </tbody>\n",
       "</table>\n",
       "</div>"
      ],
      "text/plain": [
       "   LABEL_x  trees    ALIAS               PARK  LABEL_y    ACRES  WARD  \\\n",
       "0  Lincoln   3508  Lincoln  LINCOLN (ABRAHAM)  Lincoln  1209.98    43   \n",
       "1  Burnham   1912  Burnham   BURNHAM (DANIEL)  Burnham   657.83     4   \n",
       "\n",
       "    PARK_CLASS  \n",
       "0  MAGNET PARK  \n",
       "1  MAGNET PARK  "
      ]
     },
     "execution_count": 152,
     "metadata": {},
     "output_type": "execute_result"
    }
   ],
   "source": [
    "ward_0_data.head(2)"
   ]
  },
  {
   "cell_type": "markdown",
   "id": "b62cada5-1293-4924-800b-c561bc467e1f",
   "metadata": {},
   "source": [
    "Then, it is possible to concat `ward_0_data` and `compare_parks`, in that order..."
   ]
  },
  {
   "cell_type": "code",
   "execution_count": 153,
   "id": "dcabf325-d1be-4de0-acde-2cc1875f5b95",
   "metadata": {},
   "outputs": [],
   "source": [
    "all_park_trees = pd.concat([ward_0_data,compare_parks])"
   ]
  },
  {
   "cell_type": "code",
   "execution_count": 154,
   "id": "d236b96a-6d8d-479b-b33e-4f59c0e6040b",
   "metadata": {},
   "outputs": [
    {
     "data": {
      "text/plain": [
       "391"
      ]
     },
     "execution_count": 154,
     "metadata": {},
     "output_type": "execute_result"
    }
   ],
   "source": [
    "len(all_park_trees)"
   ]
  },
  {
   "cell_type": "markdown",
   "id": "6d592766-0cb6-40c3-ada6-881bb39e492c",
   "metadata": {},
   "source": [
    "And drop all the duplicates:"
   ]
  },
  {
   "cell_type": "code",
   "execution_count": 157,
   "id": "df9becda-6826-46e4-af57-2162487594a4",
   "metadata": {},
   "outputs": [],
   "source": [
    "all_park_trees_nodup = all_park_trees.drop_duplicates(subset ='PARK')"
   ]
  },
  {
   "cell_type": "code",
   "execution_count": 158,
   "id": "0d98d9f9-64c4-4d7d-841d-232d1eab199a",
   "metadata": {},
   "outputs": [
    {
     "data": {
      "text/plain": [
       "(375, 8)"
      ]
     },
     "execution_count": 158,
     "metadata": {},
     "output_type": "execute_result"
    }
   ],
   "source": [
    "all_park_trees_nodup.shape"
   ]
  },
  {
   "cell_type": "code",
   "execution_count": 159,
   "id": "171b3428-3ae5-4b92-a2f3-13c2c121df11",
   "metadata": {},
   "outputs": [
    {
     "data": {
      "text/plain": [
       "34058"
      ]
     },
     "execution_count": 159,
     "metadata": {},
     "output_type": "execute_result"
    }
   ],
   "source": [
    "sum(all_park_trees_nodup['trees'])"
   ]
  },
  {
   "cell_type": "code",
   "execution_count": 160,
   "id": "fcae0116-a369-4879-bc67-9e33657d7372",
   "metadata": {},
   "outputs": [
    {
     "data": {
      "text/plain": [
       "36437"
      ]
     },
     "execution_count": 160,
     "metadata": {},
     "output_type": "execute_result"
    }
   ],
   "source": [
    "sum(pato['trees'])"
   ]
  },
  {
   "cell_type": "code",
   "execution_count": 161,
   "id": "006b35cf-51b7-4fbf-91ab-d26073cac662",
   "metadata": {},
   "outputs": [
    {
     "data": {
      "text/plain": [
       "93.4709224140297"
      ]
     },
     "execution_count": 161,
     "metadata": {},
     "output_type": "execute_result"
    }
   ],
   "source": [
    "sum(all_park_trees_nodup['trees']) / sum(pato['trees']) * 100"
   ]
  },
  {
   "cell_type": "markdown",
   "id": "c1fc83f3-b73f-4738-85dd-d6379f2e2e7f",
   "metadata": {},
   "source": [
    "So, hardly a 3% of the trees are not included."
   ]
  },
  {
   "cell_type": "markdown",
   "id": "c3ea2c89-eeb2-4a93-bdfb-8f176b03e60d",
   "metadata": {},
   "source": [
    "## Question 3.3.\n",
    "Can we combine trees __inside and outside parks__, to have a better __\"trees by ward\" ratio?__"
   ]
  },
  {
   "cell_type": "markdown",
   "id": "53b9b963-7221-4e82-8542-fc35c6f67f9b",
   "metadata": {},
   "source": [
    "First, let's group `all_park_trees_nodup` (inside parks)"
   ]
  },
  {
   "cell_type": "code",
   "execution_count": 162,
   "id": "b6761d79-c580-4855-adc4-f4c0c5ce4cf1",
   "metadata": {},
   "outputs": [],
   "source": [
    "all_park_trees_nodup_gr = all_park_trees_nodup[['trees','WARD']].groupby('WARD').sum('trees').sort_values('WARD').reset_index()"
   ]
  },
  {
   "cell_type": "code",
   "execution_count": 163,
   "id": "3ba3179f-fb3e-47fa-8a66-898ac8401ff5",
   "metadata": {},
   "outputs": [
    {
     "data": {
      "text/html": [
       "<div>\n",
       "<style scoped>\n",
       "    .dataframe tbody tr th:only-of-type {\n",
       "        vertical-align: middle;\n",
       "    }\n",
       "\n",
       "    .dataframe tbody tr th {\n",
       "        vertical-align: top;\n",
       "    }\n",
       "\n",
       "    .dataframe thead th {\n",
       "        text-align: right;\n",
       "    }\n",
       "</style>\n",
       "<table border=\"1\" class=\"dataframe\">\n",
       "  <thead>\n",
       "    <tr style=\"text-align: right;\">\n",
       "      <th></th>\n",
       "      <th>WARD</th>\n",
       "      <th>trees</th>\n",
       "    </tr>\n",
       "  </thead>\n",
       "  <tbody>\n",
       "    <tr>\n",
       "      <th>0</th>\n",
       "      <td>1</td>\n",
       "      <td>202</td>\n",
       "    </tr>\n",
       "    <tr>\n",
       "      <th>1</th>\n",
       "      <td>2</td>\n",
       "      <td>84</td>\n",
       "    </tr>\n",
       "    <tr>\n",
       "      <th>2</th>\n",
       "      <td>3</td>\n",
       "      <td>330</td>\n",
       "    </tr>\n",
       "  </tbody>\n",
       "</table>\n",
       "</div>"
      ],
      "text/plain": [
       "   WARD  trees\n",
       "0     1    202\n",
       "1     2     84\n",
       "2     3    330"
      ]
     },
     "execution_count": 163,
     "metadata": {},
     "output_type": "execute_result"
    }
   ],
   "source": [
    "all_park_trees_nodup_gr.head(3)"
   ]
  },
  {
   "cell_type": "markdown",
   "id": "2941142f-bf26-4099-baa9-e0c4949032f3",
   "metadata": {},
   "source": [
    "Then, remember 'tl_no_park`, the outside parks trees grouped dataset by wards."
   ]
  },
  {
   "cell_type": "code",
   "execution_count": 164,
   "id": "53a7186e-ef01-42d0-a361-d57ccebeb68f",
   "metadata": {},
   "outputs": [
    {
     "data": {
      "text/html": [
       "<div>\n",
       "<style scoped>\n",
       "    .dataframe tbody tr th:only-of-type {\n",
       "        vertical-align: middle;\n",
       "    }\n",
       "\n",
       "    .dataframe tbody tr th {\n",
       "        vertical-align: top;\n",
       "    }\n",
       "\n",
       "    .dataframe thead th {\n",
       "        text-align: right;\n",
       "    }\n",
       "</style>\n",
       "<table border=\"1\" class=\"dataframe\">\n",
       "  <thead>\n",
       "    <tr style=\"text-align: right;\">\n",
       "      <th></th>\n",
       "      <th>ward</th>\n",
       "      <th>trees</th>\n",
       "    </tr>\n",
       "  </thead>\n",
       "  <tbody>\n",
       "    <tr>\n",
       "      <th>0</th>\n",
       "      <td></td>\n",
       "      <td>91</td>\n",
       "    </tr>\n",
       "    <tr>\n",
       "      <th>1</th>\n",
       "      <td>1</td>\n",
       "      <td>1325</td>\n",
       "    </tr>\n",
       "    <tr>\n",
       "      <th>2</th>\n",
       "      <td>10</td>\n",
       "      <td>672</td>\n",
       "    </tr>\n",
       "  </tbody>\n",
       "</table>\n",
       "</div>"
      ],
      "text/plain": [
       "  ward  trees\n",
       "0          91\n",
       "1    1   1325\n",
       "2   10    672"
      ]
     },
     "execution_count": 164,
     "metadata": {},
     "output_type": "execute_result"
    }
   ],
   "source": [
    "tl_no_park.head(3)"
   ]
  },
  {
   "cell_type": "markdown",
   "id": "0e63a55a-64b3-4eea-8f30-debf147e4414",
   "metadata": {},
   "source": [
    "Both name of `all_park_trees_nodup_gr` are renamed..."
   ]
  },
  {
   "cell_type": "code",
   "execution_count": 165,
   "id": "2df740ff-ffde-40e6-b5dc-90158dd939a6",
   "metadata": {},
   "outputs": [],
   "source": [
    "all_park_trees_nodup_gr = all_park_trees_nodup_gr.rename(columns={\"WARD\": \"ward\", \"trees\": \"park_trees\"})"
   ]
  },
  {
   "cell_type": "markdown",
   "id": "8d15f08f-5838-4661-a874-5af3d0cd4435",
   "metadata": {},
   "source": [
    "And the 'trees' column from `tl_no_park` is rename as 'no_park_trees':"
   ]
  },
  {
   "cell_type": "code",
   "execution_count": 166,
   "id": "5f7316b2-f285-4b92-9dfb-0ade151af716",
   "metadata": {},
   "outputs": [],
   "source": [
    "tl_no_park = tl_no_park.rename(columns={\"trees\": \"no_park_trees\"})"
   ]
  },
  {
   "cell_type": "markdown",
   "id": "463e8816-b367-41a9-aae4-4587e1169334",
   "metadata": {},
   "source": [
    "We review that both datasets have renamed columns."
   ]
  },
  {
   "cell_type": "code",
   "execution_count": 167,
   "id": "01276946-18f1-4926-80b4-66936037aae1",
   "metadata": {},
   "outputs": [
    {
     "name": "stdout",
     "output_type": "stream",
     "text": [
      "<class 'pandas.core.frame.DataFrame'>\n",
      "RangeIndex: 50 entries, 0 to 49\n",
      "Data columns (total 2 columns):\n",
      " #   Column      Non-Null Count  Dtype\n",
      "---  ------      --------------  -----\n",
      " 0   ward        50 non-null     int64\n",
      " 1   park_trees  50 non-null     int64\n",
      "dtypes: int64(2)\n",
      "memory usage: 932.0 bytes\n"
     ]
    }
   ],
   "source": [
    "all_park_trees_nodup_gr.info()"
   ]
  },
  {
   "cell_type": "code",
   "execution_count": 168,
   "id": "ee7c232f-873d-4d60-8a0c-5ef83acaa0c1",
   "metadata": {},
   "outputs": [
    {
     "name": "stdout",
     "output_type": "stream",
     "text": [
      "<class 'pandas.core.frame.DataFrame'>\n",
      "RangeIndex: 51 entries, 0 to 50\n",
      "Data columns (total 2 columns):\n",
      " #   Column         Non-Null Count  Dtype \n",
      "---  ------         --------------  ----- \n",
      " 0   ward           51 non-null     object\n",
      " 1   no_park_trees  51 non-null     int64 \n",
      "dtypes: int64(1), object(1)\n",
      "memory usage: 948.0+ bytes\n"
     ]
    }
   ],
   "source": [
    "tl_no_park.info()"
   ]
  },
  {
   "cell_type": "markdown",
   "id": "6da751c7-2f2c-44fa-a55a-2cb0cc37de54",
   "metadata": {},
   "source": [
    "And we realize that tl_no_park[\"ward\"] is not a number column, so its column type is changed."
   ]
  },
  {
   "cell_type": "code",
   "execution_count": 169,
   "id": "36258d17-256f-42a0-b2f3-c4ba283d524d",
   "metadata": {},
   "outputs": [],
   "source": [
    "tl_no_park[\"ward\"] = pd.to_numeric(tl_no_park[\"ward\"])"
   ]
  },
  {
   "cell_type": "markdown",
   "id": "d30432d4-c0f0-4fa1-936f-b629f13d305b",
   "metadata": {},
   "source": [
    "Now, both datasets can be merged."
   ]
  },
  {
   "cell_type": "code",
   "execution_count": 191,
   "id": "c8b673c5-4149-4392-b0fc-d574bf9df0cf",
   "metadata": {},
   "outputs": [],
   "source": [
    "ward_trees = pd.merge(all_park_trees_nodup_gr,tl_no_park,on='ward')"
   ]
  },
  {
   "cell_type": "code",
   "execution_count": 203,
   "id": "7a3566c3-5219-43fa-bc55-6154fddbc595",
   "metadata": {},
   "outputs": [
    {
     "data": {
      "text/html": [
       "<div>\n",
       "<style scoped>\n",
       "    .dataframe tbody tr th:only-of-type {\n",
       "        vertical-align: middle;\n",
       "    }\n",
       "\n",
       "    .dataframe tbody tr th {\n",
       "        vertical-align: top;\n",
       "    }\n",
       "\n",
       "    .dataframe thead th {\n",
       "        text-align: right;\n",
       "    }\n",
       "</style>\n",
       "<table border=\"1\" class=\"dataframe\">\n",
       "  <thead>\n",
       "    <tr style=\"text-align: right;\">\n",
       "      <th></th>\n",
       "      <th>ward</th>\n",
       "      <th>park_trees</th>\n",
       "      <th>no_park_trees</th>\n",
       "    </tr>\n",
       "  </thead>\n",
       "  <tbody>\n",
       "    <tr>\n",
       "      <th>0</th>\n",
       "      <td>1</td>\n",
       "      <td>202</td>\n",
       "      <td>1325</td>\n",
       "    </tr>\n",
       "    <tr>\n",
       "      <th>1</th>\n",
       "      <td>2</td>\n",
       "      <td>84</td>\n",
       "      <td>677</td>\n",
       "    </tr>\n",
       "    <tr>\n",
       "      <th>2</th>\n",
       "      <td>3</td>\n",
       "      <td>330</td>\n",
       "      <td>988</td>\n",
       "    </tr>\n",
       "  </tbody>\n",
       "</table>\n",
       "</div>"
      ],
      "text/plain": [
       "   ward  park_trees  no_park_trees\n",
       "0     1         202           1325\n",
       "1     2          84            677\n",
       "2     3         330            988"
      ]
     },
     "execution_count": 203,
     "metadata": {},
     "output_type": "execute_result"
    }
   ],
   "source": [
    "ward_trees.head(3)"
   ]
  },
  {
   "cell_type": "markdown",
   "id": "1b0c1712-8fbb-4482-b68c-88f632abdff2",
   "metadata": {},
   "source": [
    "We can create a new column with the total number of trees per ward."
   ]
  },
  {
   "cell_type": "code",
   "execution_count": 206,
   "id": "f77e3945-0a04-4d74-b08f-1eefcadf3d2b",
   "metadata": {},
   "outputs": [],
   "source": [
    "ward_trees['total_trees'] = ward_trees['park_trees'] + ward_trees['no_park_trees']"
   ]
  },
  {
   "cell_type": "code",
   "execution_count": 207,
   "id": "55754067-92ae-486f-9b35-5e4b00b1f082",
   "metadata": {},
   "outputs": [
    {
     "data": {
      "text/html": [
       "<div>\n",
       "<style scoped>\n",
       "    .dataframe tbody tr th:only-of-type {\n",
       "        vertical-align: middle;\n",
       "    }\n",
       "\n",
       "    .dataframe tbody tr th {\n",
       "        vertical-align: top;\n",
       "    }\n",
       "\n",
       "    .dataframe thead th {\n",
       "        text-align: right;\n",
       "    }\n",
       "</style>\n",
       "<table border=\"1\" class=\"dataframe\">\n",
       "  <thead>\n",
       "    <tr style=\"text-align: right;\">\n",
       "      <th></th>\n",
       "      <th>ward</th>\n",
       "      <th>park_trees</th>\n",
       "      <th>no_park_trees</th>\n",
       "      <th>total_trees</th>\n",
       "    </tr>\n",
       "  </thead>\n",
       "  <tbody>\n",
       "    <tr>\n",
       "      <th>0</th>\n",
       "      <td>1</td>\n",
       "      <td>202</td>\n",
       "      <td>1325</td>\n",
       "      <td>1527</td>\n",
       "    </tr>\n",
       "    <tr>\n",
       "      <th>1</th>\n",
       "      <td>2</td>\n",
       "      <td>84</td>\n",
       "      <td>677</td>\n",
       "      <td>761</td>\n",
       "    </tr>\n",
       "    <tr>\n",
       "      <th>2</th>\n",
       "      <td>3</td>\n",
       "      <td>330</td>\n",
       "      <td>988</td>\n",
       "      <td>1318</td>\n",
       "    </tr>\n",
       "  </tbody>\n",
       "</table>\n",
       "</div>"
      ],
      "text/plain": [
       "   ward  park_trees  no_park_trees  total_trees\n",
       "0     1         202           1325         1527\n",
       "1     2          84            677          761\n",
       "2     3         330            988         1318"
      ]
     },
     "execution_count": 207,
     "metadata": {},
     "output_type": "execute_result"
    }
   ],
   "source": [
    "ward_trees.head(3)"
   ]
  },
  {
   "cell_type": "markdown",
   "id": "11f4c439-62fb-48eb-aaff-0395fafddc7f",
   "metadata": {},
   "source": [
    "## Question 3.4.\n",
    "Which wards really have a greater amount of trees?"
   ]
  },
  {
   "cell_type": "markdown",
   "id": "0cdc74bb-816b-491f-a038-c26816abd135",
   "metadata": {},
   "source": [
    "We can order ward_trees_all by the total number of trees..."
   ]
  },
  {
   "cell_type": "code",
   "execution_count": 215,
   "id": "afeb8388-6aa3-42dd-aa7f-f22cd21d3d06",
   "metadata": {},
   "outputs": [],
   "source": [
    "ward_trees_all = ward_trees2.sort_values('total_trees', ascending=False)"
   ]
  },
  {
   "cell_type": "code",
   "execution_count": 216,
   "id": "d73aa139-142f-4773-8b66-05f894ce707e",
   "metadata": {},
   "outputs": [
    {
     "data": {
      "text/html": [
       "<div>\n",
       "<style scoped>\n",
       "    .dataframe tbody tr th:only-of-type {\n",
       "        vertical-align: middle;\n",
       "    }\n",
       "\n",
       "    .dataframe tbody tr th {\n",
       "        vertical-align: top;\n",
       "    }\n",
       "\n",
       "    .dataframe thead th {\n",
       "        text-align: right;\n",
       "    }\n",
       "</style>\n",
       "<table border=\"1\" class=\"dataframe\">\n",
       "  <thead>\n",
       "    <tr style=\"text-align: right;\">\n",
       "      <th></th>\n",
       "      <th>ward</th>\n",
       "      <th>park_trees</th>\n",
       "      <th>no_park_trees</th>\n",
       "      <th>total_trees</th>\n",
       "    </tr>\n",
       "  </thead>\n",
       "  <tbody>\n",
       "    <tr>\n",
       "      <th>3</th>\n",
       "      <td>4</td>\n",
       "      <td>3769</td>\n",
       "      <td>707</td>\n",
       "      <td>4476</td>\n",
       "    </tr>\n",
       "    <tr>\n",
       "      <th>42</th>\n",
       "      <td>43</td>\n",
       "      <td>3585</td>\n",
       "      <td>769</td>\n",
       "      <td>4354</td>\n",
       "    </tr>\n",
       "    <tr>\n",
       "      <th>27</th>\n",
       "      <td>28</td>\n",
       "      <td>2044</td>\n",
       "      <td>1363</td>\n",
       "      <td>3407</td>\n",
       "    </tr>\n",
       "  </tbody>\n",
       "</table>\n",
       "</div>"
      ],
      "text/plain": [
       "    ward  park_trees  no_park_trees  total_trees\n",
       "3      4        3769            707         4476\n",
       "42    43        3585            769         4354\n",
       "27    28        2044           1363         3407"
      ]
     },
     "execution_count": 216,
     "metadata": {},
     "output_type": "execute_result"
    }
   ],
   "source": [
    "ward_trees_all.head(3)"
   ]
  },
  {
   "cell_type": "code",
   "execution_count": null,
   "id": "958c53b1-b2fc-4dca-9bbe-eae1505ebf36",
   "metadata": {},
   "outputs": [],
   "source": [
    "We could add some graphs to put data in context."
   ]
  },
  {
   "cell_type": "code",
   "execution_count": 181,
   "id": "d5c4972c-e1e7-4cdb-8c92-22baafc9f294",
   "metadata": {},
   "outputs": [],
   "source": [
    "import matplotlib.pyplot as plt\n",
    "plt.close(\"all\")"
   ]
  },
  {
   "cell_type": "code",
   "execution_count": 212,
   "id": "bb127419-6304-4781-864d-f08e32c43d05",
   "metadata": {},
   "outputs": [
    {
     "data": {
      "text/plain": [
       "<Axes: >"
      ]
     },
     "execution_count": 212,
     "metadata": {},
     "output_type": "execute_result"
    },
    {
     "data": {
      "image/png": "[encoded data removed]",
      "text/plain": [
       "<Figure size 2000x1000 with 1 Axes>"
      ]
     },
     "metadata": {},
     "output_type": "display_data"
    }
   ],
   "source": [
    "ward_trees[['total_trees']].plot.barh(stacked=True, figsize = (20,10), color = 'green')"
   ]
  },
  {
   "cell_type": "code",
   "execution_count": 210,
   "id": "deda00e4-020d-4958-9b4f-4f6319ab79e6",
   "metadata": {},
   "outputs": [
    {
     "data": {
      "text/plain": [
       "<Axes: >"
      ]
     },
     "execution_count": 210,
     "metadata": {},
     "output_type": "execute_result"
    },
    {
     "data": {
      "image/png": "[encoded data removed]",
      "text/plain": [
       "<Figure size 2000x1000 with 1 Axes>"
      ]
     },
     "metadata": {},
     "output_type": "display_data"
    }
   ],
   "source": [
    "ward_trees[['park_trees', 'no_park_trees']].plot.barh(stacked=True, figsize = (20,10) )"
   ]
  },
  {
   "cell_type": "code",
   "execution_count": 220,
   "id": "f7ef3fea-46bf-4f97-adf9-0b24a230cea1",
   "metadata": {},
   "outputs": [
    {
     "data": {
      "text/plain": [
       "<Axes: >"
      ]
     },
     "execution_count": 220,
     "metadata": {},
     "output_type": "execute_result"
    },
    {
     "data": {
      "image/png": "[encoded data removed]",
      "text/plain": [
       "<Figure size 2000x1000 with 1 Axes>"
      ]
     },
     "metadata": {},
     "output_type": "display_data"
    }
   ],
   "source": [
    "ward_trees[['park_trees']].plot.barh(stacked=True, figsize = (20,10), color = 'red' )"
   ]
  },
  {
   "cell_type": "code",
   "execution_count": null,
   "id": "6cb048c4-5ed9-4da5-95a6-3800fd8bc277",
   "metadata": {},
   "outputs": [],
   "source": []
  }
 ],
 "metadata": {
  "kernelspec": {
   "display_name": "Python 3 (ipykernel)",
   "language": "python",
   "name": "python3"
  },
  "language_info": {
   "codemirror_mode": {
    "name": "ipython",
    "version": 3
   },
   "file_extension": ".py",
   "mimetype": "text/x-python",
   "name": "python",
   "nbconvert_exporter": "python",
   "pygments_lexer": "ipython3",
   "version": "3.11.5"
  }
 },
 "nbformat": 4,
 "nbformat_minor": 5
}
